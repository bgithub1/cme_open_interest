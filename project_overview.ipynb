{
 "cells": [
  {
   "cell_type": "markdown",
   "metadata": {},
   "source": [
    "# cme_open_interest project\n",
    "## Analysis that merges CFTC COT Reports, along with Open Interest and Price data for selected commodities, to analyze large trader positions against other variables.\n",
    "\n",
    "### Overview:\n",
    "This project contains various juypter notebooks that download CFTC COT Data directly from the CFTC website, as well as CME Open Interest Files from the CME's ftp site.  Other jupyter notebooks analyze this downloaded data, showing various graphs that compare the COT reports to the price of the respective commodities, and analysis of the changes in open interest.\n",
    "\n",
    "#### The data download notebooks are:\n",
    "1. ```build_cme_open_interest_data.ipynb``` - This notebook downloads open interest history from the CME.\n",
    "\n",
    "\n",
    "2. ```build_cot_data_new.ipynb``` - This notebook downloads \"new format\" COT reports from https://www.cftc.gov/MarketReports/CommitmentsofTraders/HistoricalViewable/index.htm and assembles a csv file database of that data. The notebook build_cot_data.ipynb downloads \"old format\" COT reports.\n",
    "\n",
    "\n",
    "3. ```build_etf_shares_outstanding_data.ipynb``` - Obtain ETF shares outstanding data from various sites for Commodity ETFs (like GLD) that are used as proxies for continous commodity contracts.\n",
    "\n",
    "#### The data analysis notebooks are:\n",
    "1. ```analysis_all_new_non_fin.ipynb``` - This notebook uses ```build_cot_data_new.ipynb```, along with the other data download notebooks, to create COT/Price/OpenInterest charts for physical commodities using the CFTC's new format COT Reports.  You can use this data to track movements in large trader positions vs commodity price, etc..\n",
    "\n",
    "2. ```analysis_all.ipynb``` - This notebook uses ```build_cot_data.ipynb```, to do the same analysis as above.\n",
    "\n",
    "### Usage:\n",
    "1. Run all the cells in:\n",
    " * build_cme_open_interest_data.ipynb\n",
    " * build_cot_data_new.ipynb (or build_cot.ipynb)\n",
    " * build_cme_open_interest_data.ipynb \n",
    " \n",
    " \n",
    " 2. Run all the cells in:\n",
    "  * analysis_all_new_non_fin.ipynb when using the new format COT reports.\n",
    "  * analysis_all.ipynb when using the old format COT reports.\n",
    "  * *The new format reports have better detail regarder large speculative positions.*\n",
    "  "
   ]
  }
 ],
 "metadata": {
  "kernelspec": {
   "display_name": "Python 3",
   "language": "python",
   "name": "python3"
  },
  "language_info": {
   "codemirror_mode": {
    "name": "ipython",
    "version": 3
   },
   "file_extension": ".py",
   "mimetype": "text/x-python",
   "name": "python",
   "nbconvert_exporter": "python",
   "pygments_lexer": "ipython3",
   "version": "3.6.5"
  }
 },
 "nbformat": 4,
 "nbformat_minor": 2
}
