{
 "cells": [
  {
   "cell_type": "markdown",
   "metadata": {},
   "source": [
    "___\n",
    "# Merge csv files for ETF shares, CME Open Interest, and CFTC COT reports.\n",
    "___"
   ]
  },
  {
   "cell_type": "code",
   "execution_count": null,
   "metadata": {},
   "outputs": [],
   "source": [
    "import pandas as pd\n",
    "import numpy as np\n",
    "import os, sys\n",
    "import datetime\n",
    "%matplotlib inline\n",
    "import matplotlib.pyplot as plt\n",
    "import plotly.plotly as py\n",
    "import plotly.graph_objs as go\n",
    "import zipfile\n",
    "import urllib.request\n",
    "from PIL import Image\n",
    "import jupyter_utilities as ju\n",
    "import importlib\n",
    "import pandasql as psql\n",
    "\n",
    "# Make important folders\n",
    "TEMP_FOLDER = './temp_folder'\n",
    "try:\n",
    "    os.mkdir(TEMP_FOLDER)\n",
    "except:\n",
    "    pass\n",
    "SAVE_IMAGE_FOLDER = f'{TEMP_FOLDER}/gold'\n",
    "try:\n",
    "    os.mkdir(SAVE_IMAGE_FOLDER)\n",
    "except:\n",
    "    pass\n",
    "\n",
    "def to_int(s):\n",
    "    try:\n",
    "        return int(float(str(s)))\n",
    "    except:\n",
    "        print(f'to_int exception on value:{s}')\n",
    "        return None\n",
    "\n",
    "pd.set_option('display.max_colwidth',1000)\n",
    "    \n",
    "cme_csv_save_folder = './cme_oi_data'\n",
    "cot_data_path = './cot_history.csv'\n",
    "etf_data_path = './etf_cap_hist.csv'"
   ]
  },
  {
   "cell_type": "markdown",
   "metadata": {},
   "source": [
    "### Define commodity and etf identifiers in the csv files"
   ]
  },
  {
   "cell_type": "code",
   "execution_count": null,
   "metadata": {},
   "outputs": [],
   "source": [
    "OI_ID_GOLD = 'GOLD FUTURES'\n",
    "OI_ID_SILVER = 'SILVER FUTURES'\n",
    "OI_ID_10Y = '10Y NOTE FUTURE'\n",
    "OI_ID_SPY = 'E-MINI S&P 500 FUTURE'\n",
    "\n",
    "COT_ID_GOLD= 'GOLD - COMMODITY EXCHANGE INC.'\n",
    "COT_ID_SILVER= 'SILVER - COMMODITY EXCHANGE INC.'\n",
    "COT_ID_CL = 'CRUDE OIL, LIGHT SWEET'\n",
    "COT_ID_10Y = '10-YEAR U.S. TREASURY NOTES - CHICAGO BOARD OF TRADE'\n",
    "COT_ID_SPY = 'E-MINI S&P 500 STOCK INDEX - CHICAGO MERCANTILE EXCHANGE'\n",
    "\n",
    "ETF_ID_GOLD = 'GLD'\n",
    "ETF_ID_SILVER = 'SLV'\n",
    "ETF_ID_10Y = 'AGG'\n",
    "ETF_ID_SPY = 'SPY'\n",
    "\n",
    "ETF_SHARES_DIVISOR_GOLD = 1000\n",
    "ETF_SHARES_DIVISOR_SILVER = 5000\n",
    "ETF_SHARES_DIVISOR_10Y = 1000\n",
    "ETF_SHARES_DIVISOR_SPY = 500\n",
    "\n",
    "\n",
    "ID_DICT = {\n",
    "    'gold':{'OI':OI_ID_GOLD,'COT':COT_ID_GOLD,'ETF':ETF_ID_GOLD,'ETF_DIVISOR':ETF_SHARES_DIVISOR_GOLD},\n",
    "    'silver':{'OI':OI_ID_SILVER,'COT':COT_ID_SILVER,'ETF':ETF_ID_SILVER,'ETF_DIVISOR':ETF_SHARES_DIVISOR_SILVER},\n",
    "    '10Y':{'OI':OI_ID_10Y,'COT':COT_ID_10Y,'ETF':ETF_ID_10Y,'ETF_DIVISOR':ETF_SHARES_DIVISOR_10Y},\n",
    "    'spy':{'OI':OI_ID_SPY,'COT':COT_ID_SPY,'ETF':ETF_ID_SPY,'ETF_DIVISOR':ETF_SHARES_DIVISOR_SPY},\n",
    "}\n"
   ]
  },
  {
   "cell_type": "code",
   "execution_count": null,
   "metadata": {},
   "outputs": [],
   "source": [
    "# importlib.reload(ju)"
   ]
  },
  {
   "cell_type": "markdown",
   "metadata": {},
   "source": [
    "___\n",
    "### Get cme open interest, COT and ETF data from csv files\n",
    "___"
   ]
  },
  {
   "cell_type": "code",
   "execution_count": null,
   "metadata": {
    "scrolled": true
   },
   "outputs": [],
   "source": [
    "df_oi = None\n",
    "years = np.linspace(2013,2019,7,dtype=int)\n",
    "df_oi = None\n",
    "for y in years:\n",
    "    df_temp = pd.read_csv(f'{cme_csv_save_folder}/cme_open_interest_{y}.csv')\n",
    "    df_temp = df_temp[~df_temp.Open_Interest.isnull()]\n",
    "    if df_oi is None:\n",
    "        df_oi = df_temp.copy()\n",
    "    else:\n",
    "        df_oi = df_oi.append(df_temp,ignore_index=True)\n",
    "        df_oi.index = list(range(len(df_oi)))\n",
    "df_oi.Open_Interest = df_oi.Open_Interest.apply(to_int)\n",
    "df_oi.Total_Volume = df_oi.Total_Volume.apply(to_int)\n",
    "df_oi = df_oi[~df_oi.Total_Volume.isnull()]\n",
    "print(f'oi length:{len(df_oi)}')\n",
    "df_etf = pd.read_csv(etf_data_path)\n",
    "df_etf['trade_date'] = df_etf.date.apply(ju.str_to_yyyymmdd)\n",
    "print(f'etf length:{len(df_etf)}')\n",
    "df_cot2 = pd.read_csv(cot_data_path)\n",
    "df_cot2.As_of_Date_in_Form_YYYY_MM_DD = df_cot2.As_of_Date_in_Form_YYYY_MM_DD.apply(ju.str_to_date)\n",
    "df_cot2.Market_and_Exchange_Names = df_cot2.Market_and_Exchange_Names.str.strip() \n",
    "print(f'cot length:{len(df_cot2)}')\n"
   ]
  },
  {
   "cell_type": "markdown",
   "metadata": {},
   "source": [
    "### Find identifier strings for specific Open Interest and COT rows in their respective DataFrames\n",
    "1. Enter values for oi_key_word, cot_key_word and etf_key_word below\n",
    "2. Choose the product/market_and_exchange_name/symbol that has the highest open_interest or volume"
   ]
  },
  {
   "cell_type": "code",
   "execution_count": null,
   "metadata": {},
   "outputs": [],
   "source": [
    "commod_to_use = 'gold'\n",
    "OI_ID = ID_DICT[commod_to_use]['OI']\n",
    "COT_ID = ID_DICT[commod_to_use]['COT']\n",
    "ETF_ID = ID_DICT[commod_to_use]['ETF']\n",
    "ETF_DIVISOR = ID_DICT[commod_to_use]['ETF_DIVISOR']"
   ]
  },
  {
   "cell_type": "code",
   "execution_count": null,
   "metadata": {},
   "outputs": [],
   "source": [
    "\n",
    "oi_key_word = OI_ID.lower()\n",
    "cot_key_word = COT_ID.lower()\n",
    "etf_key_word = ETF_ID.lower()\n",
    "print('use the results of the groupbys below to select the right ID for each of the  oi, cot and etf Dataframes')\n",
    "print('oi list')\n",
    "l = (list(filter(lambda s: oi_key_word in str(s).lower(),df_oi.Product_Description.unique())))\n",
    "df_oi_sub = df_oi[df_oi.Product_Description.isin(l)][['Product_Description','Open_Interest']]\n",
    "print(df_oi_sub.groupby('Product_Description',as_index=False).sum())\n",
    "print()\n",
    "\n",
    "print('cot list')\n",
    "l = (list(filter(lambda s: cot_key_word in str(s).lower(),df_cot2.Market_and_Exchange_Names.unique())))\n",
    "df_cot_sub = df_cot2[df_cot2.Market_and_Exchange_Names.isin(l)][['Market_and_Exchange_Names','Open_Interest_All']]\n",
    "print(df_cot_sub.groupby('Market_and_Exchange_Names',as_index=False).sum())\n",
    "print()\n",
    "\n",
    "print('etf list')\n",
    "l = (list(filter(lambda s: etf_key_word in str(s).lower(),df_etf.symbol.unique())))\n",
    "df_etf_sub = df_etf[df_etf.symbol.isin(l)][['symbol','shares']]\n",
    "print(df_etf_sub.groupby('symbol',as_index=False).sum())\n"
   ]
  },
  {
   "cell_type": "markdown",
   "metadata": {},
   "source": [
    "### After you have updated the values that make up ID_DICT, then run this to make sure that those ID's only produce one identifier for each of the oi, cot and etf dataframes"
   ]
  },
  {
   "cell_type": "code",
   "execution_count": null,
   "metadata": {},
   "outputs": [],
   "source": [
    "print('Each groupby should only return one value below.')\n",
    "\n",
    "l = (list(filter(lambda s: oi_key_word == str(s).lower(),df_oi.Product_Description.unique())))\n",
    "df_oi_sub = df_oi[df_oi.Product_Description.isin(l)][['Product_Description','Open_Interest']]\n",
    "df_oi_gb = df_oi_sub.groupby('Product_Description',as_index=False).sum()\n",
    "\n",
    "l = (list(filter(lambda s: cot_key_word == str(s).lower(),df_cot2.Market_and_Exchange_Names.unique())))\n",
    "df_cot_sub = df_cot2[df_cot2.Market_and_Exchange_Names.isin(l)][['Market_and_Exchange_Names','Open_Interest_All']]\n",
    "df_cot_gb = df_cot_sub.groupby('Market_and_Exchange_Names',as_index=False).sum()\n",
    "\n",
    "l = (list(filter(lambda s: etf_key_word == str(s).lower(),df_etf.symbol.unique())))\n",
    "df_etf_sub = df_etf[df_etf.symbol.isin(l)][['symbol','shares']]\n",
    "df_etf_gb = df_etf_sub.groupby('symbol',as_index=False).sum()\n",
    "\n",
    "if len(df_oi_gb) + len(df_cot_gb) + len(df_etf_gb) == 3:\n",
    "    print(f\"all ID's for commodity: {commod_to_use} are OK\")\n",
    "else:\n",
    "    print(f\"!!!!! ALL ID's FOR COMMODITY: {commod_to_use} ARE NOT OK!!!!!!\")\n",
    "    print(f'oi is OK: {len(df_oi_gb)==1}')\n",
    "    print(f'cot is OK: {len(df_cot_gb)==1}')\n",
    "    print(f'etf is OK: {len(df_etf_gb)==1}')\n",
    "    \n",
    "          \n",
    "\n"
   ]
  },
  {
   "cell_type": "markdown",
   "metadata": {},
   "source": [
    "### Merge Open Interest and ETF datasets"
   ]
  },
  {
   "cell_type": "code",
   "execution_count": null,
   "metadata": {},
   "outputs": [],
   "source": [
    "df_oi_single = df_oi[df_oi.Product_Description == OI_ID][['trade_date','Open_Interest','Total_Volume']]\n",
    "df_oi_single.Open_Interest = df_oi_single.Open_Interest.apply(to_int)\n",
    "df_oi_single.Total_Volume = df_oi_single.Total_Volume.astype(float).astype(int)\n",
    "df_etf_single = df_etf[df_etf.symbol==ETF_ID]\n",
    "\n",
    "df_cot_single = df_cot2[df_cot2.Market_and_Exchange_Names==COT_ID]\n",
    "basic_cols = ['Market_and_Exchange_Names','As_of_Date_in_Form_YYYY_MM_DD','Open_Interest_All']\n",
    "long_cols = ['Market_and_Exchange_Names','As_of_Date_in_Form_YYYY_MM_DD',\n",
    "            'Noncommercial_Positions_Long_All','Commercial_Positions_Long_All',\n",
    "            'Nonreportable_Positions_Long_All','Traders_Commercial_Long_All',\n",
    "             'Traders_Noncommercial_Long_All','Traders_Total_Reportable_Long_All']\n",
    "short_cols = ['Market_and_Exchange_Names','As_of_Date_in_Form_YYYY_MM_DD',\n",
    "            'Noncommercial_Positions_Short_All','Commercial_Positions_Short_All',\n",
    "            'Nonreportable_Positions_Short_All','Total_Reportable_Positions_Short_All',\n",
    "            'Traders_Commercial_Short_All','Traders_Noncommercial_Short_All',\n",
    "            'Traders_Total_Reportable_Short_All']\n",
    "df_commod_long = df_cot_single[long_cols]\n",
    "df_commod_short = df_cot_single[short_cols]\n",
    "\n",
    "def non_comm_net(r):\n",
    "    return float(r.Noncommercial_Positions_Long_All) - float(r.Noncommercial_Positions_Short_All)\n",
    "def comm_net(r):\n",
    "    return float(r.Commercial_Positions_Long_All) - float(r.Commercial_Positions_Short_All)\n",
    "def non_report_net(r):\n",
    "    return float(r.Nonreportable_Positions_Long_All) - float(r.Nonreportable_Positions_Short_All)\n",
    "def traders_comm_net(r):\n",
    "    return float(r.Traders_Commercial_Long_All) - float(r.Traders_Commercial_Short_All)\n",
    "def traders_noncomm_net(r):\n",
    "    return float(r.Traders_Noncommercial_Long_All) - float(r.Traders_Noncommercial_Short_All)\n",
    "\n",
    "df_commod_net = df_commod_long.merge(df_commod_short,how='inner',on=['Market_and_Exchange_Names','As_of_Date_in_Form_YYYY_MM_DD'])\n",
    "df_commod_net['Noncommercial_Positions_Net_All'] = df_commod_net.apply(non_comm_net,axis=1)\n",
    "df_commod_net['Commercial_Positions_Net_All'] = df_commod_net.apply(comm_net,axis=1)\n",
    "df_commod_net['Nonreportable_Positions_Net_All'] = df_commod_net.apply(non_report_net,axis=1)\n",
    "df_commod_net['Traders_Commercial_Net_All'] = df_commod_net.apply(traders_comm_net,axis=1)\n",
    "df_commod_net['Traders_Noncommercial_Net_All'] = df_commod_net.apply(traders_noncomm_net,axis=1)\n",
    "net_cols = ['Market_and_Exchange_Names','As_of_Date_in_Form_YYYY_MM_DD','Noncommercial_Positions_Net_All','Commercial_Positions_Net_All','Nonreportable_Positions_Net_All','Traders_Commercial_Net_All','Traders_Noncommercial_Net_All']\n",
    "df_commod_net = df_commod_net[net_cols]\n",
    "df_commod_net['cot_yyyymmdd'] = df_commod_net.As_of_Date_in_Form_YYYY_MM_DD.apply(ju.str_to_yyyymmdd)\n",
    "df_commod_net = df_commod_net.sort_values('cot_yyyymmdd')\n",
    "df_commod_net.index = list(range(len(df_commod_net)))\n",
    "\n",
    "last_date = ju.str_to_date(str(df_commod_net.iloc[-1].cot_yyyymmdd),sep='') + datetime.timedelta(7)\n",
    "last_date_yyyymmdd = ju.str_to_yyyymmdd(last_date)\n",
    "df_commod_net['next_cot_yyyymmdd'] = list(df_commod_net[1:].cot_yyyymmdd) + [last_date_yyyymmdd]\n",
    "cols_to_change = {'Noncommercial_Positions_Net_All':'noncomm','Commercial_Positions_Net_All':'comm',\n",
    "                  'Nonreportable_Positions_Net_All':'nonrep','Traders_Commercial_Net_All':'trade_com',\n",
    "                 'Traders_Noncommercial_Net_All':'trade_noncomm'}\n",
    "df_commod_net = df_commod_net.rename(columns=cols_to_change)\n",
    "\n",
    "df_etf_oi = df_etf_single[['trade_date','nav','shares']].merge(df_oi_single,how='inner',on='trade_date')\n",
    "df_etf_oi['nav_diff'] = df_etf_oi.nav.pct_change()\n",
    "df_etf_oi['share_diff'] = df_etf_oi.shares.pct_change()\n",
    "df_etf_oi['oi_diff'] = df_etf_oi.Open_Interest.pct_change()\n",
    "q = f\"select * from df_etf_oi inner join df_commod_net on df_etf_oi.trade_date >= df_commod_net.cot_yyyymmdd and df_etf_oi.trade_date < df_commod_net.next_cot_yyyymmdd\"\n",
    "df_etf_oi_cot =  psql.sqldf(q, locals())\n",
    "\n",
    "etf_oi_cols = list(df_etf_oi.columns.values)\n",
    "cot_cols = list(cols_to_change.values()) + ['cot_yyyymmdd','next_cot_yyyymmdd']\n",
    "etf_oi_cot_cols = etf_oi_cols + cot_cols\n",
    "df_etf_oi_cot = df_etf_oi_cot[etf_oi_cot_cols]\n",
    "\n",
    "print(f'df_commod_net length:{len(df_commod_net)}')\n",
    "print(f'df_etf_oi length:{len(df_etf_oi)}')\n",
    "print(f'df_etf_oi_cot length:{len(df_etf_oi_cot)}')\n"
   ]
  },
  {
   "cell_type": "code",
   "execution_count": null,
   "metadata": {},
   "outputs": [],
   "source": [
    "df_etf_oi_cot.tail(10)"
   ]
  },
  {
   "cell_type": "code",
   "execution_count": null,
   "metadata": {},
   "outputs": [],
   "source": [
    "# pl = 1\n",
    "# pl_hist = []\n",
    "# trade_hist = []\n",
    "# last_n = 1000\n",
    "# # df_b4 = df_etf_oi_3[-last_n:]\n",
    "# df_b4 = df_etf_oi[-last_n:]\n",
    "# print(len(df_b4))\n",
    "\n",
    "# for i in df_b4.index:\n",
    "#     r = df_b4.loc[i]\n",
    "#     nav_roll = float(r.nav_roll)\n",
    "#     oi_roll = float(r.oi_roll)\n",
    "#     nav_diff = float(r.nav_diff)\n",
    "#     if abs(nav_roll) < .002 or abs(oi_roll) < .002:\n",
    "#         continue\n",
    "#     if nav_roll * oi_roll >=0:\n",
    "#         continue\n",
    "#     sign = 1\n",
    "#     if nav_roll < 0:\n",
    "#         sign = -1\n",
    "#     trade = nav_diff*sign\n",
    "#     pl = (1+trade) * pl\n",
    "#     trade_hist.append(trade)\n",
    "#     pl_hist.append(pl)"
   ]
  },
  {
   "cell_type": "code",
   "execution_count": null,
   "metadata": {},
   "outputs": [],
   "source": [
    "# from scipy import stats\n",
    "# pl_std = np.array(trade_hist).std()\n",
    "# pl_geomean = stats.gmean(np.array(trade_hist)+1)-1\n",
    "# pl_avg = np.array(trade_hist).mean()\n",
    "# pl,pl_geomean,pl_std,pl_geomean/pl_std,(pl_geomean+1)**len(trade_hist),pl_avg/pl_std"
   ]
  },
  {
   "cell_type": "code",
   "execution_count": null,
   "metadata": {
    "scrolled": true
   },
   "outputs": [],
   "source": [
    "df_etf_single.tail()"
   ]
  },
  {
   "cell_type": "code",
   "execution_count": null,
   "metadata": {},
   "outputs": [],
   "source": [
    "# ju.multi_plot(df_etf_single[['trade_date','shares']],'trade_date',dates_per_plot=100,figsize=(30,20),bar_plot=True)\n"
   ]
  },
  {
   "cell_type": "code",
   "execution_count": null,
   "metadata": {
    "scrolled": false
   },
   "outputs": [],
   "source": [
    "ax = ju.plot_pandas(df_etf_single[['trade_date','shares']][-3000:],\n",
    "                    'trade_date',num_of_x_ticks=40,bar_plot=True,figsize=(16,10))\n",
    "ax.get_figure().savefig(f'{TEMP_FOLDER}/etf_shares.png')\n",
    "ax.plot()"
   ]
  },
  {
   "cell_type": "code",
   "execution_count": null,
   "metadata": {},
   "outputs": [],
   "source": [
    "df_commod_net['trade_date'] = df_commod_net.As_of_Date_in_Form_YYYY_MM_DD.apply(ju.str_to_yyyymmdd)\n",
    "df_commod_net.index = list(range(len(df_commod_net)))\n",
    "df_cn = df_commod_net[['trade_date','noncomm']].sort_values('trade_date').merge(\n",
    "    df_etf_single[['trade_date','nav','shares']],how='inner',on='trade_date')\n",
    "df_cn.shares = df_cn.shares / ETF_DIVISOR\n",
    "df_cn = df_cn[['trade_date','nav','shares','noncomm']]\n",
    "ax = ju.plot_pandas(df_cn,'trade_date',bar_plot=False,figsize=(16,10))\n",
    "ax.get_figure().savefig(f'{TEMP_FOLDER}/cot_vs_etf.png')\n",
    "ax.plot()"
   ]
  },
  {
   "cell_type": "code",
   "execution_count": null,
   "metadata": {},
   "outputs": [],
   "source": [
    "ju.plot_pandas(df_cn[['trade_date','noncomm']],'trade_date',bar_plot=False,figsize=(16,5))\n",
    "ju.plot_pandas(df_cn[['trade_date','nav','shares']],'trade_date',bar_plot=False,figsize=(16,5))"
   ]
  },
  {
   "cell_type": "code",
   "execution_count": null,
   "metadata": {},
   "outputs": [],
   "source": [
    "from sklearn import preprocessing\n",
    "min_max_scaler = preprocessing.MinMaxScaler()\n",
    "last_n_dates = 500\n",
    "df_cn2 = df_cn[-last_n_dates:]\n",
    "df_cn2.index = list(range(len(df_cn2)))\n",
    "nav_scaled = min_max_scaler.fit_transform(np.array(df_cn2.nav).reshape(-1,1)).reshape(-1)\n",
    "shares_scaled = min_max_scaler.fit_transform(np.array(df_cn2.shares).reshape(-1,1)).reshape(-1)\n",
    "non_commercial_scaled = min_max_scaler.fit_transform(np.array(\n",
    "    df_cn2.noncomm).reshape(-1,1)).reshape(-1)\n",
    "df_cn_scaled = pd.DataFrame({'trade_date':list(df_cn2.trade_date),'nav':nav_scaled,\n",
    "                             'shares':shares_scaled,'non_commercial':non_commercial_scaled})\n",
    "\n",
    "ax = ju.plot_pandas(df_cn_scaled,'trade_date',bar_plot=False,figsize=(16,10))\n",
    "# ax.get_figure().savefig(f'{TEMP_FOLDER}/cot_vs_etf.png')\n",
    "ax.plot()\n",
    "navh = round(df_cn2.nav.max(),2)\n",
    "navl = round(df_cn2.nav.min(),2)\n",
    "sharesh = round(df_cn2.shares.max(),2)\n",
    "sharesl = round(df_cn2.shares.min(),2)\n",
    "nch = round(df_cn2.noncomm.max(),2)\n",
    "ncl = round(df_cn2.noncomm.min(),2)\n",
    "print(f'nav_high:{navh}, nav_low:{navl}, shares_high:{sharesh}, shares_low:{sharesl}, non_com_high:{nch}, non_com_low:{ncl}')\n",
    "ax.get_figure().savefig(f'{TEMP_FOLDER}/cot_vs_etf_norm.png')\n"
   ]
  },
  {
   "cell_type": "code",
   "execution_count": null,
   "metadata": {
    "scrolled": false
   },
   "outputs": [],
   "source": [
    "ax = ju.plot_pandas(df_cn_scaled[['trade_date','nav','non_commercial']],'trade_date',bar_plot=False,figsize=(16,10))"
   ]
  },
  {
   "cell_type": "code",
   "execution_count": null,
   "metadata": {
    "scrolled": true
   },
   "outputs": [],
   "source": [
    "df_etf_oi_cot.columns.values "
   ]
  },
  {
   "cell_type": "code",
   "execution_count": null,
   "metadata": {},
   "outputs": [],
   "source": [
    "df_etf_oi_cot_2 = df_etf_oi_cot[['trade_date','nav','noncomm']][-1000:]\n",
    "ju.plot_pandas(df_etf_oi_cot_2,'trade_date',bar_plot=False,figsize=(16,10))"
   ]
  },
  {
   "cell_type": "code",
   "execution_count": null,
   "metadata": {},
   "outputs": [],
   "source": [
    "db1 = 100\n",
    "db2 = 0\n",
    "df_etf_oi_cot_2 = df_etf_oi_cot[['trade_date','nav','noncomm']]\n",
    "df_etf_oi_cot_2['nav_10'] = df_etf_oi_cot_2.nav.rolling(10).mean()\n",
    "df_etf_oi_cot_2['noncomm_10'] = df_etf_oi_cot_2.noncomm.rolling(10).mean()\n",
    "df_etf_oi_cot_3 = df_etf_oi_cot_2[['trade_date','nav','noncomm_10','noncomm']]\n",
    "if db2>=0:\n",
    "    ju.plot_pandas(df_etf_oi_cot_3.iloc[-db1:],'trade_date',bar_plot=False,figsize=(16,7))\n",
    "else:\n",
    "    ju.plot_pandas(df_etf_oi_cot_3.iloc[-db1:-db2],'trade_date',bar_plot=False,figsize=(16,7))"
   ]
  },
  {
   "cell_type": "markdown",
   "metadata": {},
   "source": [
    "___\n",
    "### Do a Multip plot of all commodities for 1000 days\n",
    "___"
   ]
  },
  {
   "cell_type": "code",
   "execution_count": null,
   "metadata": {},
   "outputs": [],
   "source": [
    "ju.multi_df_plot(dict_df={'es1':df_etf_oi_cot_2,'es2':df_etf_oi_cot_2,'es3':df_etf_oi_cot_2},x_column='trade_date')"
   ]
  },
  {
   "cell_type": "code",
   "execution_count": null,
   "metadata": {},
   "outputs": [],
   "source": []
  }
 ],
 "metadata": {
  "kernelspec": {
   "display_name": "Python 3",
   "language": "python",
   "name": "python3"
  },
  "language_info": {
   "codemirror_mode": {
    "name": "ipython",
    "version": 3
   },
   "file_extension": ".py",
   "mimetype": "text/x-python",
   "name": "python",
   "nbconvert_exporter": "python",
   "pygments_lexer": "ipython3",
   "version": "3.6.5"
  }
 },
 "nbformat": 4,
 "nbformat_minor": 2
}
