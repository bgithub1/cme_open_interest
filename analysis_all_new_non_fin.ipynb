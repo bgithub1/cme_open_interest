{
 "cells": [
  {
   "cell_type": "markdown",
   "metadata": {},
   "source": [
    "___\n",
    "# Merge csv files for ETF shares, CME Open Interest, and CFTC COT reports.\n",
    "___"
   ]
  },
  {
   "cell_type": "code",
   "execution_count": null,
   "metadata": {},
   "outputs": [],
   "source": [
    "import pandas as pd\n",
    "from pandas_datareader import data as pdr\n",
    "import numpy as np\n",
    "import os, sys\n",
    "import datetime\n",
    "%matplotlib inline\n",
    "import matplotlib.pyplot as plt\n",
    "import plotly.graph_objs as go\n",
    "from plotly.offline import iplot\n",
    "from plotly.offline import  init_notebook_mode, iplot\n",
    "init_notebook_mode(connected=True)\n",
    "\n",
    "import zipfile\n",
    "import urllib.request\n",
    "from PIL import Image\n",
    "import jupyter_utilities as ju\n",
    "import importlib\n",
    "import pandasql as psql\n",
    "\n",
    "# Make important folders\n",
    "TEMP_FOLDER = './temp_folder'\n",
    "try:\n",
    "    os.mkdir(TEMP_FOLDER)\n",
    "except:\n",
    "    pass\n",
    "SAVE_IMAGE_FOLDER = f'{TEMP_FOLDER}/gold'\n",
    "try:\n",
    "    os.mkdir(SAVE_IMAGE_FOLDER)\n",
    "except:\n",
    "    pass\n",
    "\n",
    "def to_int(s):\n",
    "    try:\n",
    "        return int(float(str(s)))\n",
    "    except:\n",
    "        print(f'to_int exception on value:{s}')\n",
    "        return None\n",
    "\n",
    "pd.set_option('display.max_colwidth',1000)\n",
    "if os.path.abspath('../')  not in sys.path:\n",
    "    if '.' not in sys.path:\n",
    "        sys.path.append(os.path.abspath('../'))\n",
    "import barchart_api as bcapi\n",
    "\n",
    "    \n",
    "cme_csv_save_folder = './cme_oi_data'\n",
    "cot_data_path = './cot_net_new_history.csv'\n",
    "etf_data_path = './etf_cap_hist.csv'"
   ]
  },
  {
   "cell_type": "code",
   "execution_count": null,
   "metadata": {},
   "outputs": [],
   "source": [
    "importlib.reload(ju)"
   ]
  },
  {
   "cell_type": "markdown",
   "metadata": {},
   "source": [
    "### Define commodity and etf identifiers in the csv files"
   ]
  },
  {
   "cell_type": "code",
   "execution_count": null,
   "metadata": {},
   "outputs": [],
   "source": [
    "OI_ID_GOLD = 'GOLD FUTURES'\n",
    "OI_ID_SILVER = 'SILVER FUTURES'\n",
    "OI_ID_CL = 'CRUDE OIL LIGHT SWEET FUTURES'\n",
    "OI_ID_NG = 'NATURAL GAS FUTURES'\n",
    "OI_ID_10Y = '10Y NOTE FUTURE'\n",
    "OI_ID_SPY = 'E-MINI S&P 500 FUTURE'\n",
    "OI_ID_SOYB = 'SOYBEAN FUTURE'\n",
    "OI_ID_CORN = 'CORN FUTURE'\n",
    "OI_ID_WHEAT = 'CHICAGO SRW WHEAT FUTURE'\n",
    "OI_ID_COTTON = 'COTTON FUTURES'\n",
    "OI_ID_EURO = 'EURO FX FUTURE'\n",
    "OI_ID_ED = 'EURODOLLAR FUTURE'\n",
    "OI_ID_HG = 'HIGH GRADE COPPER FUTURES'\n",
    "OI_ID_PL = 'PLATINUM FUTURES'\n",
    "\n",
    "COT_ID_GOLD= 'GOLD - COMMODITY EXCHANGE INC.'\n",
    "COT_ID_SILVER= 'SILVER - COMMODITY EXCHANGE INC.'\n",
    "# COT_ID_CL = 'CRUDE OIL, LIGHT SWEET'\n",
    "COT_ID_CL = 'CRUDE OIL, LIGHT SWEET - NEW YORK MERCANTILE EXCHANGE'\n",
    "COT_ID_NG = 'NATURAL GAS - NEW YORK MERCANTILE EXCHANGE'\n",
    "COT_ID_10Y = '10-YEAR U.S. TREASURY NOTES - CHICAGO BOARD OF TRADE'\n",
    "COT_ID_SPY = 'E-MINI S&P 500 STOCK INDEX - CHICAGO MERCANTILE EXCHANGE'\n",
    "COT_ID_SOYB = 'SOYBEANS - CHICAGO BOARD OF TRADE'\n",
    "# COT_ID_WHEAT = 'WHEAT - CHICAGO BOARD OF TRADE'\n",
    "COT_ID_COTTON = 'COTTON NO. 2 - ICE FUTURES U.S.'\n",
    "COT_ID_WHEAT = 'WHEAT-SRW - CHICAGO BOARD OF TRADE'\n",
    "COT_ID_CORN = 'CORN - CHICAGO BOARD OF TRADE'\n",
    "COT_ID_EURO = 'EURO FX - CHICAGO MERCANTILE EXCHANGE'\n",
    "COT_ID_ED = '3-MONTH EURODOLLARS - CHICAGO MERCANTILE EXCHANGE'\n",
    "COT_ID_HG = 'COPPER-GRADE #1 - COMMODITY EXCHANGE INC.'\n",
    "COT_ID_PL = 'PLATINUM - NEW YORK MERCANTILE EXCHANGE'\n",
    "\n",
    "ETF_ID_GOLD = 'GLD'\n",
    "ETF_ID_SILVER = 'SLV'\n",
    "ETF_ID_CL = 'USO'\n",
    "ETF_ID_NG = 'UNG'\n",
    "ETF_ID_10Y = 'AGG'\n",
    "ETF_ID_SPY = 'SPY'\n",
    "ETF_ID_COTTON = 'BAL'\n",
    "ETF_ID_SOYB = 'SOYB'\n",
    "ETF_ID_WHEAT = 'WEAT'\n",
    "ETF_ID_CORN = 'CORN'\n",
    "ETF_ID_EURO = 'FXE'\n",
    "ETF_ID_ED = 'BSV'\n",
    "ETF_ID_HG = 'CPER'\n",
    "ETF_ID_PL = 'PPLT'\n",
    "\n",
    "ETF_SHARES_DIVISOR_GOLD = 1000\n",
    "ETF_SHARES_DIVISOR_SILVER = 5000\n",
    "ETF_SHARES_DIVISOR_10Y = 1000\n",
    "ETF_SHARES_DIVISOR_SPY = 500\n",
    "ETF_SHARES_DIVISOR_COTTON = 50000\n",
    "ETF_SHARES_DIVISOR_SOYB = 5000\n",
    "ETF_SHARES_DIVISOR_WHEAT = 5000\n",
    "ETF_SHARES_DIVISOR_CORN = 5000\n",
    "ETF_SHARES_DIVISOR_EURO = 1000\n",
    "ETF_SHARES_DIVISOR_CL = 4000\n",
    "ETF_SHARES_DIVISOR_NG = 1250\n",
    "ETF_SHARES_DIVISOR_ED = 1000000\n",
    "ETF_SHARES_DIVISOR_HG = 2500\n",
    "ETF_SHARES_DIVISOR_PL = 500\n",
    "\n",
    "\n",
    "ID_DICT = {\n",
    "    'gold':{'OI':OI_ID_GOLD,'COT':COT_ID_GOLD,'ETF':ETF_ID_GOLD,'ETF_DIVISOR':ETF_SHARES_DIVISOR_GOLD},\n",
    "    'silver':{'OI':OI_ID_SILVER,'COT':COT_ID_SILVER,'ETF':ETF_ID_SILVER,'ETF_DIVISOR':ETF_SHARES_DIVISOR_SILVER},\n",
    "#     '10Y':{'OI':OI_ID_10Y,'COT':COT_ID_10Y,'ETF':ETF_ID_10Y,'ETF_DIVISOR':ETF_SHARES_DIVISOR_10Y},\n",
    "#     'spy':{'OI':OI_ID_SPY,'COT':COT_ID_SPY,'ETF':ETF_ID_SPY,'ETF_DIVISOR':ETF_SHARES_DIVISOR_SPY},\n",
    "    'cotton':{'OI':OI_ID_COTTON,'COT':COT_ID_COTTON,'ETF':ETF_ID_COTTON,'ETF_DIVISOR':ETF_SHARES_DIVISOR_COTTON},\n",
    "    'soyb':{'OI':OI_ID_SOYB,'COT':COT_ID_SOYB,'ETF':ETF_ID_SOYB,'ETF_DIVISOR':ETF_SHARES_DIVISOR_SOYB},\n",
    "    'wheat':{'OI':OI_ID_WHEAT,'COT':COT_ID_WHEAT,'ETF':ETF_ID_WHEAT,'ETF_DIVISOR':ETF_SHARES_DIVISOR_WHEAT},\n",
    "    'corn':{'OI':OI_ID_CORN,'COT':COT_ID_CORN,'ETF':ETF_ID_CORN,'ETF_DIVISOR':ETF_SHARES_DIVISOR_CORN},\n",
    "#     'euro':{'OI':OI_ID_EURO,'COT':COT_ID_EURO,'ETF':ETF_ID_EURO,'ETF_DIVISOR':ETF_SHARES_DIVISOR_EURO},\n",
    "    'cl':{'OI':OI_ID_CL,'COT':COT_ID_CL,'ETF':ETF_ID_CL,'ETF_DIVISOR':ETF_SHARES_DIVISOR_CL},\n",
    "    'ng':{'OI':OI_ID_NG,'COT':COT_ID_NG,'ETF':ETF_ID_NG,'ETF_DIVISOR':ETF_SHARES_DIVISOR_NG},\n",
    "#     'ed':{'OI':OI_ID_ED,'COT':COT_ID_ED,'ETF':ETF_ID_ED,'ETF_DIVISOR':ETF_SHARES_DIVISOR_ED},\n",
    "    'hg':{'OI':OI_ID_HG,'COT':COT_ID_HG,'ETF':ETF_ID_HG,'ETF_DIVISOR':ETF_SHARES_DIVISOR_HG},\n",
    "    'pl':{'OI':OI_ID_PL,'COT':COT_ID_PL,'ETF':ETF_ID_PL,'ETF_DIVISOR':ETF_SHARES_DIVISOR_PL},\n",
    "}\n"
   ]
  },
  {
   "cell_type": "markdown",
   "metadata": {},
   "source": [
    "___\n",
    "## Define help access routines\n",
    "___"
   ]
  },
  {
   "cell_type": "code",
   "execution_count": null,
   "metadata": {},
   "outputs": [],
   "source": [
    "# COT helpers\n",
    "def df_cot_by_name(dict_id='cl',df_cot=None):\n",
    "    dfc = df_cot2 if df_cot is None else df_cot\n",
    "    cot_id = ID_DICT[dict_id]['COT']\n",
    "    return dfc[dfc.Market_and_Exchange_Names==cot_id]\n"
   ]
  },
  {
   "cell_type": "markdown",
   "metadata": {},
   "source": [
    "___\n",
    "### Get cme open interest, COT and ETF data from csv files\n",
    "___"
   ]
  },
  {
   "cell_type": "code",
   "execution_count": null,
   "metadata": {},
   "outputs": [],
   "source": [
    "# df_soyb = fetch_history(ETF_ID_SOYB,df_etf.date.min(),df_etf.date.max())\n",
    "# print(df_etf.tail())\n",
    "# print(df_soyb.tail())\n",
    "# df_etf = df_etf.append(df_soyb,ignore_index=True)"
   ]
  },
  {
   "cell_type": "code",
   "execution_count": null,
   "metadata": {
    "scrolled": false
   },
   "outputs": [],
   "source": [
    "df_oi = None\n",
    "years = np.linspace(2013,2019,7,dtype=int)\n",
    "df_oi = None\n",
    "for y in years:\n",
    "    df_temp = pd.read_csv(f'{cme_csv_save_folder}/cme_open_interest_{y}.csv')\n",
    "    df_temp = df_temp[~df_temp.Open_Interest.isnull()]\n",
    "    if df_oi is None:\n",
    "        df_oi = df_temp.copy()\n",
    "    else:\n",
    "        df_oi = df_oi.append(df_temp,ignore_index=True)\n",
    "        df_oi.index = list(range(len(df_oi)))\n",
    "df_oi.Open_Interest = df_oi.Open_Interest.apply(to_int)\n",
    "df_oi.Total_Volume = df_oi.Total_Volume.apply(to_int)\n",
    "df_oi = df_oi[~df_oi.Total_Volume.isnull()]\n",
    "print(f'oi length:{len(df_oi)}')\n",
    "df_etf = pd.read_csv(etf_data_path)\n",
    "df_etf['trade_date'] = df_etf.date.apply(ju.str_to_yyyymmdd)\n",
    "print(f'etf length:{len(df_etf)}')\n",
    "df_cot2 = pd.read_csv(cot_data_path)\n",
    "df_cot2.As_of_Date_In_Form_YYMMDD = df_cot2.As_of_Date_In_Form_YYMMDD.apply(ju.str_to_date)\n",
    "df_cot2.Market_and_Exchange_Names = df_cot2.Market_and_Exchange_Names.str.strip() \n",
    "print(f'cot length:{len(df_cot2)}')\n"
   ]
  },
  {
   "cell_type": "markdown",
   "metadata": {},
   "source": [
    "### For some of the ETF's, get the data from yahoo, and ignore the shares data"
   ]
  },
  {
   "cell_type": "code",
   "execution_count": null,
   "metadata": {},
   "outputs": [],
   "source": [
    "def fetch_history(symbol,dt_beg,dt_end):\n",
    "    df = pdr.DataReader(symbol, 'yahoo', dt_beg, dt_end)\n",
    "    df['date'] = df.index\n",
    "    df.date = df.date.apply(lambda d: str(d)[0:4] + \"-\" + str(d)[5:7] + \"-\" + str(d)[8:10])\n",
    "    df['trade_date'] = df.date.apply(lambda d: int(str(d)[0:4] + str(d)[5:7] + str(d)[8:10]))\n",
    "    df = df.sort_values('date')\n",
    "    df.index = list(range(len(df)))\n",
    "    # make adj close the close\n",
    "    df['nav'] = df['Adj Close']\n",
    "    df['symbol'] = symbol\n",
    "    df['shares'] = 0\n",
    "    df = df[['symbol','date','nav','shares','trade_date']]\n",
    "    return df\n",
    "\n",
    "    "
   ]
  },
  {
   "cell_type": "markdown",
   "metadata": {},
   "source": [
    "### Find identifier strings for specific Open Interest and COT rows in their respective DataFrames\n",
    "1. Enter values for oi_key_word, cot_key_word and etf_key_word below\n",
    "2. Choose the product/market_and_exchange_name/symbol that has the highest open_interest or volume"
   ]
  },
  {
   "cell_type": "code",
   "execution_count": null,
   "metadata": {},
   "outputs": [],
   "source": [
    "df_cot2.columns.values\n"
   ]
  },
  {
   "cell_type": "code",
   "execution_count": null,
   "metadata": {},
   "outputs": [],
   "source": [
    "import pdb\n",
    "def create_merged_df(commod_to_use):\n",
    "    global df_oi,df_etf,df_cot2\n",
    "    # step 1 set up ID's\n",
    "    OI_ID = ID_DICT[commod_to_use]['OI']\n",
    "    COT_ID = ID_DICT[commod_to_use]['COT']\n",
    "    ETF_ID = ID_DICT[commod_to_use]['ETF']\n",
    "    ETF_DIVISOR = ID_DICT[commod_to_use]['ETF_DIVISOR']\n",
    "    #Step 2: make sure ID's produce only one contract\n",
    "    oi_key_word = OI_ID.lower()\n",
    "    cot_key_word = COT_ID.lower()\n",
    "    etf_key_word = ETF_ID.lower()\n",
    "\n",
    "    l = (list(filter(lambda s: oi_key_word == str(s).lower(),df_oi.Product_Description.unique())))\n",
    "    df_oi_sub = df_oi[df_oi.Product_Description.isin(l)][['Product_Description','Open_Interest']]\n",
    "    df_oi_gb = df_oi_sub.groupby('Product_Description',as_index=False).sum()\n",
    "\n",
    "    l = (list(filter(lambda s: cot_key_word == str(s).lower(),df_cot2.Market_and_Exchange_Names.unique())))\n",
    "    df_cot_single = df_cot2[df_cot2.Market_and_Exchange_Names==COT_ID]\n",
    "    df_cot_sub = df_cot2[df_cot2.Market_and_Exchange_Names.isin(l)][['Market_and_Exchange_Names','Open_Interest_All']]\n",
    "    df_cot_gb = df_cot_sub.groupby('Market_and_Exchange_Names',as_index=False).sum()\n",
    "\n",
    "    l = (list(filter(lambda s: etf_key_word == str(s).lower(),df_etf.symbol.unique())))\n",
    "    dtmin = str(df_cot_single.As_of_Date_In_Form_YYMMDD.min())[0:10]\n",
    "    dtmax = str(datetime.datetime.now())[0:10]\n",
    "    #pdb.set_trace()\n",
    "    df_etf_single = fetch_history(ETF_ID,dtmin,dtmax)\n",
    "    df_etf_gb = df_etf_single.groupby('symbol',as_index=False).sum()\n",
    "    \n",
    "\n",
    "    if len(df_oi_gb) + len(df_cot_gb) + len(df_etf_gb) == 3:\n",
    "        print(f\"all ID's for commodity: {commod_to_use} are OK\")\n",
    "    else:\n",
    "        print(f\"!!!!! ALL ID's FOR COMMODITY: {commod_to_use} ARE NOT OK!!!!!!\")\n",
    "        print(f'oi is OK: {len(df_oi_gb)==1}')\n",
    "        print(f'cot is OK: {len(df_cot_gb)==1}')\n",
    "        print(f'etf is OK: {len(df_etf_gb)==1}')\n",
    "        raise ValueError(f'ambiguous ID name {OI_ID}')\n",
    "    \n",
    "    \n",
    "    # Step 3: merge oi, cot and etf stuff\n",
    "    df_oi_single = df_oi[df_oi.Product_Description == OI_ID][['trade_date','Open_Interest','Total_Volume']]\n",
    "    df_oi_single.Open_Interest = df_oi_single.Open_Interest.apply(to_int)\n",
    "    df_oi_single.Total_Volume = df_oi_single.Total_Volume.astype(float).astype(int)\n",
    "    df_commod_net = df_cot_single.copy()\n",
    "\n",
    "    df_commod_net['cot_yyyymmdd'] = df_commod_net.As_of_Date_In_Form_YYMMDD.apply(ju.str_to_yyyymmdd)\n",
    "    df_commod_net = df_commod_net.sort_values('cot_yyyymmdd')\n",
    "    df_commod_net.index = list(range(len(df_commod_net)))\n",
    "\n",
    "    last_date = ju.str_to_date(str(df_commod_net.iloc[-1].cot_yyyymmdd),sep='') + datetime.timedelta(7)\n",
    "    last_date_yyyymmdd = ju.str_to_yyyymmdd(last_date)\n",
    "    df_commod_net['next_cot_yyyymmdd'] = list(df_commod_net[1:].cot_yyyymmdd) + [last_date_yyyymmdd]\n",
    "\n",
    "    df_etf_oi = df_etf_single[['trade_date','nav','shares']].merge(df_oi_single,how='inner',on='trade_date')\n",
    "    df_etf_oi['nav_diff'] = df_etf_oi.nav.pct_change()\n",
    "    df_etf_oi['share_diff'] = df_etf_oi.shares.pct_change()\n",
    "    df_etf_oi['oi_diff'] = df_etf_oi.Open_Interest.pct_change()\n",
    "    q = f\"select * from df_etf_oi inner join df_commod_net on df_etf_oi.trade_date >= df_commod_net.cot_yyyymmdd and df_etf_oi.trade_date < df_commod_net.next_cot_yyyymmdd\"\n",
    "    df_etf_oi_cot =  psql.sqldf(q, locals())\n",
    "    \n",
    "#     etf_oi_cols = list(df_etf_oi.columns.values)\n",
    "#     cot_cols = list(cols_to_change.values()) + ['cot_yyyymmdd','next_cot_yyyymmdd']\n",
    "#     etf_oi_cot_cols = etf_oi_cols + cot_cols\n",
    "#     df_etf_oi_cot = df_etf_oi_cot[etf_oi_cot_cols]\n",
    "\n",
    "    # step 4: create final,\n",
    "    cot_cols = ['prod_net','monman_net','swap_net','other_net','nonrep_net','prod_ratio','monman_ratio','swap_ratio','other_ratio']\n",
    "    df_final = df_etf_oi_cot[['trade_date','nav']+cot_cols][-1000:]\n",
    "    df_final = df_final.loc[:,~df_final.columns.duplicated()]\n",
    "    return df_final\n"
   ]
  },
  {
   "cell_type": "markdown",
   "metadata": {},
   "source": [
    "### Create multi plot of all data commodities"
   ]
  },
  {
   "cell_type": "code",
   "execution_count": null,
   "metadata": {},
   "outputs": [],
   "source": [
    "ID_DICT.keys()"
   ]
  },
  {
   "cell_type": "code",
   "execution_count": null,
   "metadata": {},
   "outputs": [],
   "source": [
    "import traceback\n",
    "dict_df = {}\n",
    "last_n_days = 1000\n",
    "for k in ID_DICT.keys():\n",
    "    print(f'processing {k}')\n",
    "    try:\n",
    "        df = create_merged_df(k)\n",
    "        dict_df[k] = df.iloc[-last_n_days:]\n",
    "    except Exception as e:\n",
    "        print(f'EXCEPTION: {str(e)}')\n",
    "        print(traceback.print_exc())"
   ]
  },
  {
   "cell_type": "code",
   "execution_count": null,
   "metadata": {},
   "outputs": [],
   "source": [
    "dict_df['cl'].columns.values"
   ]
  },
  {
   "cell_type": "markdown",
   "metadata": {},
   "source": [
    "___\n",
    "### Plot each df in dict_df using plotly\n",
    "___"
   ]
  },
  {
   "cell_type": "code",
   "execution_count": null,
   "metadata": {},
   "outputs": [],
   "source": [
    "ddd = dict_df['cl']\n",
    "net_cols = [c for c in ddd.columns.values if '_net' in c]\n",
    "f = ju.plotly_plot(ddd[['trade_date','nav']+net_cols],x_column='trade_date',bar_plot=False,yaxis2_cols=['nav'])\n",
    "iplot(f)"
   ]
  },
  {
   "cell_type": "code",
   "execution_count": null,
   "metadata": {},
   "outputs": [],
   "source": [
    "f = ju.plotly_plot(ddd[['trade_date','nav','monman_net','other_net']],x_column='trade_date',bar_plot=False,yaxis2_cols=['nav'])\n",
    "iplot(f)"
   ]
  },
  {
   "cell_type": "code",
   "execution_count": null,
   "metadata": {
    "scrolled": true
   },
   "outputs": [],
   "source": []
  },
  {
   "cell_type": "code",
   "execution_count": null,
   "metadata": {
    "scrolled": false
   },
   "outputs": [],
   "source": [
    "y_left_label = 'y nav'\n",
    "y_right_label = 'monman_net'\n",
    "\n",
    "df_all_in = None\n",
    "for k in dict_df.keys():\n",
    "    df_in = dict_df[k]\n",
    "    if len(df_in)>1:\n",
    "        df_in_with_commod = df_in.copy()\n",
    "        df_in_with_commod['symbol'] = k\n",
    "        if df_all_in is None:\n",
    "            df_all_in = df_in_with_commod.copy()\n",
    "        else:\n",
    "            df_all_in = df_all_in.append(df_in_with_commod,ignore_index=True)\n",
    "    last_date = df_in.trade_date.max()\n",
    "    xc = 'trade_date'\n",
    "    plot_title = f'{k} last trade date {last_date}'\n",
    "    try:\n",
    "        fig = ju.plotly_pandas(df_in[['trade_date', 'nav', y_right_label]],x_column=xc,plot_title=plot_title,y_left_label=y_left_label,y_right_label=y_right_label)\n",
    "        iplot(fig)\n",
    "    except Exception as e:\n",
    "        print(f'{k} {str(e)}')\n",
    "df_all_in.to_csv(f'{TEMP_FOLDER}/df_all_in.csv',index=False)\n"
   ]
  },
  {
   "cell_type": "code",
   "execution_count": null,
   "metadata": {
    "scrolled": true
   },
   "outputs": [],
   "source": [
    "# this is the old \"non plotly\" plotting routine\n",
    "# ju.multi_df_plot(dict_df=dict_df,x_column='trade_date',num_of_x_ticks=40,save_file_prefix='cot_nav_plot',save_image_folder='./temp_folder/saved_images')    \n"
   ]
  },
  {
   "cell_type": "markdown",
   "metadata": {},
   "source": [
    "___\n",
    "### Try various strategies based on above charts\n",
    "___"
   ]
  },
  {
   "cell_type": "code",
   "execution_count": null,
   "metadata": {},
   "outputs": [],
   "source": [
    "dict_df['cl'].columns.values"
   ]
  },
  {
   "cell_type": "code",
   "execution_count": null,
   "metadata": {
    "scrolled": false
   },
   "outputs": [],
   "source": [
    "field_to_chart = 'nav'\n",
    "field_to_chart2 = 'monman_net'\n",
    "for sym in dict_df.keys():\n",
    "    df_all_in = dict_df[sym].copy()    \n",
    "    df_all_in[f'{field_to_chart2}_prev'] = df_all_in[field_to_chart2].shift(1)\n",
    "    df_all_in['is_transition'] = df_all_in.apply(lambda r: 1 if r[field_to_chart2] / r[f'{field_to_chart2}_prev'] < 0 else 0,axis=1)\n",
    "    df_all_in['trans_sign'] = df_all_in.apply(lambda r: 1 if r[field_to_chart2] - r[f'{field_to_chart2}_prev'] > 0 else -1,axis=1)\n",
    "    df_all_in['transition'] = df_all_in.is_transition * df_all_in.trans_sign\n",
    "    df_all_in2 = df_all_in[['trade_date',field_to_chart,'transition']]\n",
    "    fig = ju.plotly_pandas(df_all_in2[['trade_date',field_to_chart,'transition']],x_column='trade_date',plot_title=sym)\n",
    "    iplot(fig)\n",
    "# len(df_all_in[df_all_in.tran_count==1])/len(df_all_in)"
   ]
  },
  {
   "cell_type": "markdown",
   "metadata": {},
   "source": [
    "___\n",
    "### The cells below help you find commodities in df_cot2 and df_oi\n",
    "___"
   ]
  },
  {
   "cell_type": "code",
   "execution_count": null,
   "metadata": {},
   "outputs": [],
   "source": [
    "list(filter(lambda s: str(s)!='nan' and 'PLATINUM' in s and 'FUTURE' in s,list(set(df_oi.Product_Description))))"
   ]
  },
  {
   "cell_type": "code",
   "execution_count": null,
   "metadata": {},
   "outputs": [],
   "source": [
    "list(filter(lambda s: str(s)!='nan' and 'PLATINUM' in s ,list(set(df_cot2.Market_and_Exchange_Names))))"
   ]
  },
  {
   "cell_type": "code",
   "execution_count": null,
   "metadata": {},
   "outputs": [],
   "source": [
    "print(df_cot2[df_cot2.Market_and_Exchange_Names=='COTTON NO. 2 - NEW YORK COTTON EXCHANGE'].Open_Interest_All.sum())\n",
    "print(df_cot2[df_cot2.Market_and_Exchange_Names=='COTTON NO. 2 - ICE FUTURES U.S.'].Open_Interest_All.sum())\n"
   ]
  },
  {
   "cell_type": "code",
   "execution_count": null,
   "metadata": {},
   "outputs": [],
   "source": [
    "list(filter(lambda s: 'Comm' in s,df_cot2.columns.values))"
   ]
  },
  {
   "cell_type": "code",
   "execution_count": null,
   "metadata": {},
   "outputs": [],
   "source": [
    "df_cot2_cl = df_cot2[df_cot2.Market_and_Exchange_Names=='CRUDE OIL, LIGHT SWEET - NEW YORK MERCANTILE EXCHANGE']\n",
    "df_cot2_cl = df_cot2_cl.sort_values('As_of_Date_In_Form_YYMMDD')\n",
    "df_cot2_cl.tail()"
   ]
  },
  {
   "cell_type": "markdown",
   "metadata": {},
   "source": [
    "## END"
   ]
  },
  {
   "cell_type": "code",
   "execution_count": null,
   "metadata": {},
   "outputs": [],
   "source": [
    "comod = 'cl'\n",
    "fig = ju.plotly_pandas(dict_df[comod][['trade_date', 'monman_net', 'monman_ratio']],x_column='trade_date',plot_title=comod)\n",
    "iplot(fig)\n"
   ]
  },
  {
   "cell_type": "code",
   "execution_count": null,
   "metadata": {},
   "outputs": [],
   "source": [
    "def get_cot2(id):\n",
    "    basic_cols = ['Market_and_Exchange_Names','As_of_Date_In_Form_YYMMDD','Open_Interest_All']\n",
    "    long_cols = ['M_Money_Positions_Long_All','Other_Rept_Positions_Long_All','Prod_Merc_Positions_Long_All',\n",
    "                'NonRept_Positions_Long_All']\n",
    "    short_cols = ['M_Money_Positions_Short_All','Other_Rept_Positions_Short_All','Prod_Merc_Positions_Short_All',\n",
    "                'NonRept_Positions_Short_All']\n",
    "\n",
    "    df_ret = df_cot2[df_cot2.Market_and_Exchange_Names==ID_DICT[id]['COT']]\n",
    "    df_ret = df_ret[basic_cols + long_cols + short_cols]\n",
    "    return df_ret\n",
    "dfc = get_cot2('cl')"
   ]
  },
  {
   "cell_type": "code",
   "execution_count": null,
   "metadata": {},
   "outputs": [],
   "source": [
    "get_cot2('cl').columns.values"
   ]
  },
  {
   "cell_type": "code",
   "execution_count": null,
   "metadata": {},
   "outputs": [],
   "source": [
    "dfc[dfc.As_of_Date_In_Form_YYMMDD=='2019-04-23']"
   ]
  },
  {
   "cell_type": "code",
   "execution_count": null,
   "metadata": {},
   "outputs": [],
   "source": [
    "dfc = df_cot2[df_cot2.Market_and_Exchange_Names==ID_DICT['cl']['COT']]"
   ]
  },
  {
   "cell_type": "code",
   "execution_count": null,
   "metadata": {
    "scrolled": false
   },
   "outputs": [],
   "source": [
    "with pd.option_context('display.max_rows', None, 'display.max_columns', None):  # more options can be specified also\n",
    "    print(dfc[dfc.As_of_Date_In_Form_YYMMDD=='2019-04-23'].iloc[0])\n"
   ]
  },
  {
   "cell_type": "code",
   "execution_count": null,
   "metadata": {},
   "outputs": [],
   "source": [
    "from collections import OrderedDict\n",
    "dfc2 = dfc.to_dict()#('rows')\n",
    "dfc3 = OrderedDict(sorted(dfc2.items(), key=lambda x: dfc.columns.get_loc(x[0])))"
   ]
  },
  {
   "cell_type": "code",
   "execution_count": null,
   "metadata": {},
   "outputs": [],
   "source": [
    "dfc.columns.get_loc(list(dfc2.items())[2][0])"
   ]
  },
  {
   "cell_type": "code",
   "execution_count": null,
   "metadata": {},
   "outputs": [],
   "source": [
    "pd.DataFrame(dfc.to_dict('rows')).columns.values"
   ]
  },
  {
   "cell_type": "code",
   "execution_count": null,
   "metadata": {},
   "outputs": [],
   "source": [
    "dfc.columns.values#.get_loc(key='Open_Interest_All')"
   ]
  },
  {
   "cell_type": "code",
   "execution_count": null,
   "metadata": {},
   "outputs": [],
   "source": [
    "pd.DataFrame(dfc2).columns.values == dfc.columns.values"
   ]
  },
  {
   "cell_type": "markdown",
   "metadata": {},
   "source": [
    "### END"
   ]
  }
 ],
 "metadata": {
  "kernelspec": {
   "display_name": "Python 3",
   "language": "python",
   "name": "python3"
  },
  "language_info": {
   "codemirror_mode": {
    "name": "ipython",
    "version": 3
   },
   "file_extension": ".py",
   "mimetype": "text/x-python",
   "name": "python",
   "nbconvert_exporter": "python",
   "pygments_lexer": "ipython3",
   "version": "3.6.5"
  }
 },
 "nbformat": 4,
 "nbformat_minor": 2
}
