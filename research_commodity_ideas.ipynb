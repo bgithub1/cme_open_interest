{
 "cells": [
  {
   "cell_type": "code",
   "execution_count": null,
   "metadata": {},
   "outputs": [],
   "source": [
    "import warnings\n",
    "warnings.filterwarnings('ignore')"
   ]
  },
  {
   "cell_type": "markdown",
   "metadata": {},
   "source": [
    "# Research various commodity phenomena\n",
    "1. Gold/Silver Ratio\n",
    "2. Crude 12 month spread vs USO"
   ]
  },
  {
   "cell_type": "code",
   "execution_count": null,
   "metadata": {},
   "outputs": [],
   "source": [
    "import pandas as pd\n",
    "from pandas_datareader import data as pdr\n",
    "import numpy as np\n",
    "import pathlib\n",
    "import sys\n",
    "import os\n",
    "abs_folders = [os.path.abspath(d) for d in ['./','../']]\n",
    "for af in abs_folders:\n",
    "    if  not af in sys.path:\n",
    "        sys.path.append(af)\n",
    "from cme_open_interest import db_info\n",
    "\n",
    "import datetime\n",
    "%matplotlib inline\n",
    "import matplotlib.pyplot as plt\n",
    "import plotly.graph_objs as go\n",
    "from plotly.offline import iplot\n",
    "import plotly.io as pio\n",
    "from plotly.subplots import make_subplots\n",
    "from plotly.offline import  init_notebook_mode, iplot\n",
    "init_notebook_mode(connected=True)\n",
    "\n",
    "import zipfile\n",
    "import urllib.request\n",
    "from PIL import Image\n",
    "import jupyter_utilities as ju\n",
    "import importlib\n",
    "import pandasql as psql\n",
    "import traceback\n",
    "import pdb\n",
    "\n",
    "# Make important folders\n",
    "TEMP_FOLDER = './temp_folder'\n",
    "try:\n",
    "    os.mkdir(TEMP_FOLDER)\n",
    "except:\n",
    "    pass\n",
    "SAVE_IMAGE_FOLDER = f'{TEMP_FOLDER}/gold'\n",
    "try:\n",
    "    os.mkdir(SAVE_IMAGE_FOLDER)\n",
    "except:\n",
    "    pass\n",
    "\n",
    "def to_int(s,print_full_exception=False):\n",
    "    try:\n",
    "        return int(float(str(s)))\n",
    "    except Exception as e:\n",
    "        print(f'to_int exception on value:{s}')\n",
    "        if print_full_exception:\n",
    "            traceback.print_exc()\n",
    "        return None\n",
    "\n",
    "pd.set_option('display.max_colwidth',1000)\n",
    "if os.path.abspath('../')  not in sys.path:\n",
    "    if '.' not in sys.path:\n",
    "        sys.path.append(os.path.abspath('../'))\n",
    "import barchart_api as bcapi\n",
    "import importlib\n",
    "import json\n",
    "from dashapp import dashapp2 as dashapp\n",
    "\n",
    "cme_csv_save_folder = './cme_oi_data'\n",
    "cot_data_path = './cot_net_new_history.csv'\n",
    "etf_data_path = './etf_cap_hist.csv'"
   ]
  },
  {
   "cell_type": "code",
   "execution_count": null,
   "metadata": {},
   "outputs": [],
   "source": [
    "log = dashapp.logging.getLogger(__name__)\n",
    "log.setLevel(dashapp.logging.INFO)"
   ]
  },
  {
   "cell_type": "code",
   "execution_count": null,
   "metadata": {},
   "outputs": [],
   "source": [
    "opttab = 'sec_schema.options_table'\n",
    "futtab = 'sec_schema.underlying_table'\n",
    "\n",
    "pga = db_info.get_db_info()\n",
    "print(f\"futtab max date: {pga.get_sql(f'select max(settle_date) from {futtab}')}\")\n",
    "print(f\"opttab max date: {pga.get_sql(f'select max(settle_date) from {opttab}')}\")\n"
   ]
  },
  {
   "cell_type": "markdown",
   "metadata": {},
   "source": [
    "### Define commodity and etf identifiers in the csv files"
   ]
  },
  {
   "cell_type": "code",
   "execution_count": null,
   "metadata": {},
   "outputs": [],
   "source": [
    "OI_ID_GOLD = 'GOLD FUTURES'\n",
    "OI_ID_SILVER = 'SILVER FUTURES'\n",
    "OI_ID_CL = 'CRUDE OIL LIGHT SWEET FUTURES'\n",
    "OI_ID_NG = 'NATURAL GAS FUTURES'\n",
    "OI_ID_10Y = '10Y NOTE FUTURE'\n",
    "OI_ID_SPY = 'E-MINI S&P 500 FUTURE'\n",
    "OI_ID_SOYB = 'SOYBEAN FUTURE'\n",
    "OI_ID_SOYO = 'SOYBEAN OIL FUTURE'\n",
    "OI_ID_CORN = 'CORN FUTURE'\n",
    "OI_ID_WHEAT = 'CHICAGO SRW WHEAT FUTURE'\n",
    "OI_ID_COTTON = 'COTTON FUTURES'\n",
    "OI_ID_EURO = 'EURO FX FUTURE'\n",
    "OI_ID_ED = 'EURODOLLAR FUTURE'\n",
    "OI_ID_HG = 'HIGH GRADE COPPER FUTURES'\n",
    "OI_ID_PL = 'PLATINUM FUTURES'\n",
    "OI_ID_SUGAR = 'SUGAR 11 FUTURES'\n",
    "OI_ID_COCOA = 'COCOA FUTURES'\n",
    "\n",
    "COT_ID_GOLD= 'GOLD - COMMODITY EXCHANGE INC.'\n",
    "COT_ID_SILVER= 'SILVER - COMMODITY EXCHANGE INC.'\n",
    "# COT_ID_CL = 'CRUDE OIL, LIGHT SWEET'\n",
    "COT_ID_CL = 'CRUDE OIL, LIGHT SWEET - NEW YORK MERCANTILE EXCHANGE'\n",
    "COT_ID_NG = 'NATURAL GAS - NEW YORK MERCANTILE EXCHANGE'\n",
    "COT_ID_10Y = '10-YEAR U.S. TREASURY NOTES - CHICAGO BOARD OF TRADE'\n",
    "COT_ID_SPY = 'E-MINI S&P 500 STOCK INDEX - CHICAGO MERCANTILE EXCHANGE'\n",
    "COT_ID_SOYB = 'SOYBEANS - CHICAGO BOARD OF TRADE'\n",
    "COT_ID_SOYO = 'SOYBEAN OIL - CHICAGO BOARD OF TRADE'\n",
    "# COT_ID_WHEAT = 'WHEAT - CHICAGO BOARD OF TRADE'\n",
    "COT_ID_COTTON = 'COTTON NO. 2 - ICE FUTURES U.S.'\n",
    "COT_ID_WHEAT = 'WHEAT-SRW - CHICAGO BOARD OF TRADE'\n",
    "COT_ID_CORN = 'CORN - CHICAGO BOARD OF TRADE'\n",
    "COT_ID_EURO = 'EURO FX - CHICAGO MERCANTILE EXCHANGE'\n",
    "COT_ID_ED = '3-MONTH EURODOLLARS - CHICAGO MERCANTILE EXCHANGE'\n",
    "COT_ID_HG = 'COPPER-GRADE #1 - COMMODITY EXCHANGE INC.'\n",
    "COT_ID_PL = 'PLATINUM - NEW YORK MERCANTILE EXCHANGE'\n",
    "COT_ID_SUGAR = 'SUGAR NO. 11 - ICE FUTURES U.S.'\n",
    "COT_ID_COCOA = 'COCOA - ICE FUTURES U.S.'\n",
    "\n",
    "ETF_ID_GOLD = 'GCZ99'\n",
    "ETF_ID_SILVER = 'SIZ99'\n",
    "ETF_ID_CL = 'CLZ99'\n",
    "ETF_ID_NG = 'NGZ99'\n",
    "ETF_ID_10Y = 'AGG'\n",
    "ETF_ID_SPY = 'SPY'\n",
    "ETF_ID_COTTON = 'BAL'\n",
    "ETF_ID_SOYB = 'ZSZ99'#'ZSY00'\n",
    "ETF_ID_SOYO = 'ZLZ99'#'ZLY00'\n",
    "ETF_ID_WHEAT = 'ZWZ99'#'ZWY00'#'WEAT'\n",
    "ETF_ID_CORN = 'ZCZ99'#'CORN'\n",
    "ETF_ID_EURO = 'FXE'\n",
    "ETF_ID_ED = 'BSV'\n",
    "ETF_ID_HG = 'CPER'\n",
    "ETF_ID_PL = 'PPLT'\n",
    "ETF_ID_SUGAR = 'SGG'\n",
    "ETF_ID_COCOA = 'NIB'\n",
    "\n",
    "ETF_SHARES_DIVISOR_GOLD = 1000\n",
    "ETF_SHARES_DIVISOR_SILVER = 5000\n",
    "ETF_SHARES_DIVISOR_10Y = 1000\n",
    "ETF_SHARES_DIVISOR_SPY = 500\n",
    "ETF_SHARES_DIVISOR_COTTON = 50000\n",
    "ETF_SHARES_DIVISOR_SOYB = 5000\n",
    "ETF_SHARES_DIVISOR_SOYO = 1\n",
    "ETF_SHARES_DIVISOR_WHEAT = 5000\n",
    "ETF_SHARES_DIVISOR_CORN = 5000\n",
    "ETF_SHARES_DIVISOR_EURO = 1000\n",
    "ETF_SHARES_DIVISOR_CL = 4000\n",
    "ETF_SHARES_DIVISOR_NG = 1250\n",
    "ETF_SHARES_DIVISOR_ED = 1000000\n",
    "ETF_SHARES_DIVISOR_HG = 2500\n",
    "ETF_SHARES_DIVISOR_PL = 500\n",
    "ETF_SHARES_DIVISOR_SUGAR = int((112000/100)/3)\n",
    "ETF_SHARES_DIVISOR_COCOA = 100\n",
    "\n",
    "\n",
    "ID_DICT = {\n",
    "    'gold':{'OI':OI_ID_GOLD,'COT':COT_ID_GOLD,'ETF':ETF_ID_GOLD,'ETF_DIVISOR':ETF_SHARES_DIVISOR_GOLD},\n",
    "    'silver':{'OI':OI_ID_SILVER,'COT':COT_ID_SILVER,'ETF':ETF_ID_SILVER,'ETF_DIVISOR':ETF_SHARES_DIVISOR_SILVER},\n",
    "#     '10Y':{'OI':OI_ID_10Y,'COT':COT_ID_10Y,'ETF':ETF_ID_10Y,'ETF_DIVISOR':ETF_SHARES_DIVISOR_10Y},\n",
    "#     'spy':{'OI':OI_ID_SPY,'COT':COT_ID_SPY,'ETF':ETF_ID_SPY,'ETF_DIVISOR':ETF_SHARES_DIVISOR_SPY},\n",
    "    'cotton':{'OI':OI_ID_COTTON,'COT':COT_ID_COTTON,'ETF':ETF_ID_COTTON,'ETF_DIVISOR':ETF_SHARES_DIVISOR_COTTON},\n",
    "    'soyb':{'OI':OI_ID_SOYB,'COT':COT_ID_SOYB,'ETF':ETF_ID_SOYB,'ETF_DIVISOR':ETF_SHARES_DIVISOR_SOYB},\n",
    "    'soyo':{'OI':OI_ID_SOYO,'COT':COT_ID_SOYO,'ETF':ETF_ID_SOYO,'ETF_DIVISOR':ETF_SHARES_DIVISOR_SOYO},\n",
    "    'wheat':{'OI':OI_ID_WHEAT,'COT':COT_ID_WHEAT,'ETF':ETF_ID_WHEAT,'ETF_DIVISOR':ETF_SHARES_DIVISOR_WHEAT},\n",
    "    'corn':{'OI':OI_ID_CORN,'COT':COT_ID_CORN,'ETF':ETF_ID_CORN,'ETF_DIVISOR':ETF_SHARES_DIVISOR_CORN},\n",
    "#     'euro':{'OI':OI_ID_EURO,'COT':COT_ID_EURO,'ETF':ETF_ID_EURO,'ETF_DIVISOR':ETF_SHARES_DIVISOR_EURO},\n",
    "    'cl':{'OI':OI_ID_CL,'COT':COT_ID_CL,'ETF':ETF_ID_CL,'ETF_DIVISOR':ETF_SHARES_DIVISOR_CL},\n",
    "    'ng':{'OI':OI_ID_NG,'COT':COT_ID_NG,'ETF':ETF_ID_NG,'ETF_DIVISOR':ETF_SHARES_DIVISOR_NG},\n",
    "#     'ed':{'OI':OI_ID_ED,'COT':COT_ID_ED,'ETF':ETF_ID_ED,'ETF_DIVISOR':ETF_SHARES_DIVISOR_ED},\n",
    "    'hg':{'OI':OI_ID_HG,'COT':COT_ID_HG,'ETF':ETF_ID_HG,'ETF_DIVISOR':ETF_SHARES_DIVISOR_HG},\n",
    "    'pl':{'OI':OI_ID_PL,'COT':COT_ID_PL,'ETF':ETF_ID_PL,'ETF_DIVISOR':ETF_SHARES_DIVISOR_PL},\n",
    "    'sugar':{'OI':OI_ID_SUGAR,'COT':COT_ID_SUGAR,'ETF':ETF_ID_SUGAR,'ETF_DIVISOR':ETF_SHARES_DIVISOR_SUGAR},\n",
    "    'cocoa':{'OI':OI_ID_COCOA,'COT':COT_ID_COCOA,'ETF':ETF_ID_COCOA,'ETF_DIVISOR':ETF_SHARES_DIVISOR_COCOA},\n",
    "}\n",
    "\n",
    "\n",
    "YEAR_OFFSET = 0 if datetime.datetime.now() > datetime.datetime(2020,1,10) else 1"
   ]
  },
  {
   "cell_type": "code",
   "execution_count": null,
   "metadata": {},
   "outputs": [],
   "source": [
    "ID_DICT['wheat']['ETF']"
   ]
  },
  {
   "cell_type": "markdown",
   "metadata": {},
   "source": [
    "___\n",
    "## Define help access routines\n",
    "___"
   ]
  },
  {
   "cell_type": "code",
   "execution_count": null,
   "metadata": {},
   "outputs": [],
   "source": [
    "# COT helpers\n",
    "def df_cot_by_name(dict_id='cl',df_cot=None):\n",
    "    dfc = df_cot2 if df_cot is None else df_cot\n",
    "    cot_id = ID_DICT[dict_id]['COT']\n",
    "    return dfc[dfc.Market_and_Exchange_Names==cot_id]\n"
   ]
  },
  {
   "cell_type": "markdown",
   "metadata": {},
   "source": [
    "___\n",
    "### Get cme open interest, COT and ETF data from csv files\n",
    "___"
   ]
  },
  {
   "cell_type": "code",
   "execution_count": null,
   "metadata": {
    "scrolled": true
   },
   "outputs": [],
   "source": [
    "import traceback\n",
    "df_oi = None\n",
    "last_year = int(datetime.datetime.now().year)\n",
    "years = np.linspace(2013,last_year-YEAR_OFFSET,last_year-2013+1,dtype=int)\n",
    "df_oi = None\n",
    "for y in years:\n",
    "    df_temp = pd.read_csv(f'{cme_csv_save_folder}/cme_open_interest_{y}.csv')\n",
    "    df_temp = df_temp[~df_temp.Open_Interest.isnull()]\n",
    "    if df_oi is None:\n",
    "        df_oi = df_temp.copy()\n",
    "    else:\n",
    "        df_oi = df_oi.append(df_temp,ignore_index=True)\n",
    "        df_oi.index = list(range(len(df_oi)))\n",
    "df_oi = df_oi[~df_oi.Total_Volume.isnull()]\n",
    "df_oi.ExPit_Volume = df_oi.ExPit_Volume.fillna(0)\n",
    "df_oi = df_oi[~df_oi.Open_Interest.astype(str).str.contains('T')]\n",
    "df_oi.Open_Interest = df_oi.Open_Interest.apply(to_int)\n",
    "df_oi.Total_Volume = df_oi.Total_Volume.apply(to_int)\n",
    "print(f'oi length:{len(df_oi)}')\n",
    "df_etf = pd.read_csv(etf_data_path)\n",
    "df_etf['trade_date'] = df_etf.date.apply(ju.str_to_yyyymmdd)\n",
    "print(f'etf length:{len(df_etf)}')\n",
    "df_cot2 = pd.read_csv(cot_data_path)\n",
    "df_cot2.As_of_Date_In_Form_YYMMDD = df_cot2.As_of_Date_In_Form_YYMMDD.apply(ju.str_to_date)\n",
    "df_cot2.Market_and_Exchange_Names = df_cot2.Market_and_Exchange_Names.str.strip() \n",
    "print(f'cot length:{len(df_cot2)}')\n"
   ]
  },
  {
   "cell_type": "markdown",
   "metadata": {},
   "source": [
    "### For some of the ETF's, get the data from yahoo, and ignore the shares data"
   ]
  },
  {
   "cell_type": "code",
   "execution_count": null,
   "metadata": {},
   "outputs": [],
   "source": [
    "def fetch_history(symbol,dt_beg,dt_end):\n",
    "    df = pdr.DataReader(symbol, 'yahoo', dt_beg, dt_end)\n",
    "    df['date'] = df.index\n",
    "    df.date = df.date.apply(lambda d: str(d)[0:4] + \"-\" + str(d)[5:7] + \"-\" + str(d)[8:10])\n",
    "    df['trade_date'] = df.date.apply(lambda d: int(str(d)[0:4] + str(d)[5:7] + str(d)[8:10]))\n",
    "    df = df.sort_values('date')\n",
    "    df.index = list(range(len(df)))\n",
    "    # make adj close the close\n",
    "    df['nav'] = df['Adj Close']\n",
    "    df['symbol'] = symbol\n",
    "    df['shares'] = 0\n",
    "    df = df[['symbol','date','nav','shares','trade_date']]\n",
    "    return df\n",
    "\n",
    "    "
   ]
  },
  {
   "cell_type": "code",
   "execution_count": null,
   "metadata": {},
   "outputs": [],
   "source": [
    "def get_barchart_commod(commod='ZL',month='Z',year=99):\n",
    "    sql = f\"\"\"\n",
    "    with \n",
    "    f1 as (\n",
    "        select * from {futtab} where symbol = '{commod}{month}{year}'\n",
    "    )\n",
    "    select * from f1\n",
    "    \"\"\"\n",
    "    df = pga.get_sql(sql)\n",
    "    df['date'] = df.settle_date.apply(lambda v: f\"{str(v)[0:4]}-{str(v)[4:6]}-{str(v)[6:8]}\")\n",
    "    df['nav'] = df.close\n",
    "    df['trade_date'] = df.settle_date\n",
    "    df['shares'] = 0\n",
    "\n",
    "    df = df[['symbol','date','nav','shares','trade_date']]\n",
    "    return df    "
   ]
  },
  {
   "cell_type": "code",
   "execution_count": null,
   "metadata": {},
   "outputs": [],
   "source": []
  },
  {
   "cell_type": "markdown",
   "metadata": {},
   "source": [
    "## END"
   ]
  },
  {
   "cell_type": "code",
   "execution_count": null,
   "metadata": {},
   "outputs": [],
   "source": [
    "def get_cot2(id):\n",
    "    basic_cols = ['Market_and_Exchange_Names','As_of_Date_In_Form_YYMMDD','Open_Interest_All']\n",
    "    long_cols = ['M_Money_Positions_Long_All','Other_Rept_Positions_Long_All','Prod_Merc_Positions_Long_All',\n",
    "                'NonRept_Positions_Long_All']\n",
    "    short_cols = ['M_Money_Positions_Short_All','Other_Rept_Positions_Short_All','Prod_Merc_Positions_Short_All',\n",
    "                'NonRept_Positions_Short_All']\n",
    "\n",
    "    df_ret = df_cot2[df_cot2.Market_and_Exchange_Names==ID_DICT[id]['COT']]\n",
    "    df_ret = df_ret[basic_cols + long_cols + short_cols]\n",
    "    return df_ret\n",
    "dfc = get_cot2('cl')"
   ]
  },
  {
   "cell_type": "markdown",
   "metadata": {},
   "source": [
    "### Get open interest dataframe, and silver close data from barchartacs:\n"
   ]
  },
  {
   "cell_type": "code",
   "execution_count": null,
   "metadata": {},
   "outputs": [],
   "source": [
    "start_year = 2016\n",
    "\n",
    "df_oi_silver = df_oi[df_oi.Product_Description==ID_DICT['silver']['OI']]\n",
    "df_oi_silver[df_oi_silver.trade_date>20200301]\n",
    "df_si = pga.get_sql(f\"select settle_date trade_date,close from {futtab} where symbol='SIZ99'\")\n",
    "df_si.close = df_si.close/10\n",
    "df_oi_silver = df_oi_silver.merge(df_si,on='trade_date',how='inner')\n",
    "\n",
    "df_ois2 = df_oi_silver[df_oi_silver.trade_date>=start_year*100*100+1*100+1]\n",
    "df_ois2.tail(20)"
   ]
  },
  {
   "cell_type": "markdown",
   "metadata": {},
   "source": [
    "### Plot Silver Open Interest vs Silver Cash Close"
   ]
  },
  {
   "cell_type": "code",
   "execution_count": null,
   "metadata": {},
   "outputs": [],
   "source": [
    "f = ju.plotly_plot(\n",
    "    df_in=df_ois2[['trade_date','Open_Interest','close']],\n",
    "    x_column='trade_date',yaxis2_cols=['close'],\n",
    "    y_left_label='Open Interest',\n",
    "    y_right_label='Silver Cash Close',\n",
    "    plot_title = f\"Silver Open Interest vs Cash close, from {start_year} to present\"\n",
    ")\n",
    "f = ju.plotly_shaded_rectangles([(20161125,20170308),(20180313,20180413),(20200218,20200406)],f)\n",
    "iplot(f)"
   ]
  },
  {
   "cell_type": "markdown",
   "metadata": {},
   "source": [
    "### Use Futures Cash prices to compare the price changes in Gold and Silver to the Gold/Silver Ratio"
   ]
  },
  {
   "cell_type": "code",
   "execution_count": null,
   "metadata": {},
   "outputs": [],
   "source": [
    "def _gtcommod(c,divisor=10):\n",
    "    df = get_barchart_commod(c)\n",
    "    df = df[['trade_date','nav']]\n",
    "    df = df.rename(columns={'nav':c})\n",
    "    df[c] = df[c]/divisor\n",
    "    return df\n",
    "df_si = _gtcommod('SI')\n",
    "df_gc = _gtcommod('GC')\n",
    "df_both = df_gc.copy()\n",
    "df_both = df_both.merge(df_si,on='trade_date',how='inner')\n",
    "df_both['ratio'] = df_both.GC / df_both.SI\n",
    "f1 = ju.plotly_plot(df_in=df_both[['trade_date','ratio']],x_column='trade_date',\n",
    "                    figsize=(800,500))\n",
    "f2 = ju.plotly_plot(df_in=df_both[['trade_date','GC','SI']],x_column='trade_date',\n",
    "                    yaxis2_cols=['SI'],y_left_label='GC Cash Price',y_right_label='SI Cash Price',\n",
    "                    figsize=(800,700))\n",
    "\n",
    "f1.data[0].yaxis = 'y3'\n",
    "f4_traces = [f1.data[0],f2.data[0],f2.data[1]]\n",
    "f2.update_layout(yaxis={'domain':(.57,1)})\n",
    "f2.update_layout(yaxis2={'domain':(.55,1),'overlaying':'y','side':'right'})\n",
    "f2.update_layout(yaxis3 = {'domain':(0,.43),'title':'GC/SI Ratio'})\n",
    "f4 = go.Figure(data=f4_traces,layout=f2.layout)\n",
    "f4.update_layout(\n",
    "    title={\n",
    "            'text': f\"Gold and Silver Futures Prices vs Gold/Silver Ratio \",\n",
    "            'y':0.9,\n",
    "            'x':0.5,\n",
    "            'xanchor': 'center',\n",
    "            'yanchor': 'top'}\n",
    ")"
   ]
  },
  {
   "cell_type": "markdown",
   "metadata": {},
   "source": [
    "### Use ETF prices to compare the price changes in Gold and Silver to the Gold/Silver Ratio"
   ]
  },
  {
   "cell_type": "code",
   "execution_count": null,
   "metadata": {},
   "outputs": [],
   "source": [
    "def _gtetf(c,divisor=1):\n",
    "    dt_end = datetime.datetime.now()\n",
    "    dt_beg = dt_end - datetime.timedelta(365*10)\n",
    "    df = fetch_history(c,dt_beg,dt_end)\n",
    "    df = df[['trade_date','nav']]\n",
    "    df = df.rename(columns={'nav':c})\n",
    "    df[c] = df[c]/divisor\n",
    "    return df\n",
    "df_si = _gtetf('SLV')\n",
    "df_gc = _gtetf('GLD')\n",
    "df_ief = _gtetf('IEF')\n",
    "df_both = df_gc.copy()\n",
    "df_both = df_both.merge(df_si,on='trade_date',how='inner')\n",
    "df_both['ratio'] = df_both.GLD / df_both.SLV\n",
    "\n",
    "f1 = ju.plotly_plot(df_in=df_both[['trade_date','ratio']],x_column='trade_date',\n",
    "                    figsize=(800,500))\n",
    "f2 = ju.plotly_plot(df_in=df_both[['trade_date','GLD','SLV']],x_column='trade_date',\n",
    "                    yaxis2_cols=['SLV'],y_left_label='GLD price',y_right_label='SLV price',\n",
    "                    figsize=(800,700))\n",
    "# f3 = ju.plotly_plot(df_in=df_ief[['trade_date','IEF']],x_column='trade_date',\n",
    "#                     figsize=(800,500))\n",
    "\n",
    "f1.data[0].yaxis = 'y3'\n",
    "f4_traces = [f1.data[0],f2.data[0],f2.data[1]]\n",
    "f2.update_layout(yaxis={'domain':(.57,1)})\n",
    "f2.update_layout(yaxis2={'domain':(.55,1),'overlaying':'y','side':'right'})\n",
    "f2.update_layout(yaxis3 = {'domain':(0,.43),'title':'GLD/SLV Ratio'})\n",
    "f4 = go.Figure(data=f4_traces,layout=f2.layout)\n",
    "f4.update_layout(\n",
    "    title={\n",
    "            'text': f\"Gold and Silver ETF Prices vs Gold/Silver Ratio \",\n",
    "            'y':0.9,\n",
    "            'x':0.5,\n",
    "            'xanchor': 'center',\n",
    "            'yanchor': 'top'}\n",
    ")"
   ]
  },
  {
   "cell_type": "code",
   "execution_count": null,
   "metadata": {},
   "outputs": [],
   "source": [
    "def _gtcommod2(s):\n",
    "    df = get_barchart_commod(s[:2],year=s[-2:],month=s[2])\n",
    "    df = df[['trade_date','nav']]\n",
    "    df = df.rename(columns={'nav':s})\n",
    "    return df.iloc[-100:]\n",
    "df_cln20 = _gtcommod2('CLN20')\n",
    "df_clm21 = _gtcommod2('CLM21')\n",
    "df_both = df_cln20.merge(df_clm21,on='trade_date',how='inner')\n",
    "df_both['spr'] = df_both.apply(lambda r:r.CLM21 - r.CLN20,axis=1)\n",
    "df_uso = _gtetf('USO')[-100:]\n",
    "df_both = df_both.merge(df_uso,on='trade_date',how='inner')\n",
    "f1 = ju.plotly_plot(df_in=df_both[['trade_date','spr','USO']],x_column='trade_date',\n",
    "                    yaxis2_cols=['USO'],figsize=(800,500))\n",
    "f2 = ju.plotly_plot(df_in=df_both[['trade_date','CLN20','CLM21']],x_column='trade_date',\n",
    "                    y_left_label='Futures Price',\n",
    "#                     yaxis2_cols=['CLM21'],y_left_label='CLN20 price',y_right_label='CLM21 price',\n",
    "                    figsize=(800,600))\n",
    "\n",
    "f1.data[0].yaxis = 'y3'\n",
    "f1.data[1].yaxis = 'y4'\n",
    "f4_traces = [f1.data[0],f1.data[1],f2.data[0],f2.data[1]]\n",
    "f2.update_layout(yaxis={'domain':(.57,1)})\n",
    "f2.update_layout(yaxis2={'domain':(.57,1),'overlaying':'y','side':'right'})\n",
    "f2.update_layout(yaxis3 = {'domain':(0,.43),'title':'CLN20/CLM21 Spread'})\n",
    "f2.update_layout(yaxis4 = {'domain':(0,.43),'title':'USO price','overlaying':'y','side':'right'})\n",
    "f4 = go.Figure(data=f4_traces,layout=f2.layout)\n",
    "f4.update_layout(\n",
    "    title={\n",
    "            'text': f\"\"\"CLN20 and CLM21 Futures Prices <br>vs<br>CLN20/CLM21 Spread\"\"\",\n",
    "            'y':.93,\n",
    "            'x':0.5,\n",
    "            'xanchor': 'center',\n",
    "            'yanchor': 'top',\n",
    "            'font':{'size':14}\n",
    "    },\n",
    "    legend = {'x':1,'y':1.2},\n",
    "    modebar={'orientation': 'v','bgcolor':'grey'}\n",
    ")"
   ]
  },
  {
   "cell_type": "code",
   "execution_count": null,
   "metadata": {},
   "outputs": [],
   "source": [
    "df_both"
   ]
  },
  {
   "cell_type": "code",
   "execution_count": null,
   "metadata": {},
   "outputs": [],
   "source": [
    "importlib.reload(dashapp)"
   ]
  },
  {
   "cell_type": "code",
   "execution_count": null,
   "metadata": {},
   "outputs": [],
   "source": [
    "names = df_both.columns.values[1:]\n",
    "x_columns = ['trade_date' for _ in range(len(names))]\n",
    "yp_rows = [1,1,2,2]\n",
    "yp_cols = [1,1,1,1]\n",
    "yp_secondary = [False,False,False,True]\n",
    "yp_yaxis_titles = ['Futures Price','Futures Price','Spread Price','USO Price']\n",
    "df_yp = pd.DataFrame({'name':names,'x_column':x_columns,\n",
    "                      'row':yp_rows,'col':yp_cols,'is_secondary':yp_secondary,\n",
    "                     'yaxis_title':yp_yaxis_titles})\n",
    "\n",
    "fig =  dashapp.plotly_subplots(df_both,df_yp,title=\"Correlation Between Crude Spreads and USO\")\n",
    "iplot(fig)"
   ]
  },
  {
   "cell_type": "code",
   "execution_count": null,
   "metadata": {},
   "outputs": [],
   "source": [
    "td = 'trade_date'\n",
    "fp = 'Futures Price'\n",
    "cln20 = ['CLN20',td,1,1,False,fp]#,'x','y','y']\n",
    "clm21 = ['CLM21',td,1,1,False,fp]#,'x1']\n",
    "spr = ['spr',td,2,1,False,'Spread Price']\n",
    "uso = ['USO',td,2,1,True,'USO Price']\n",
    "df_yp = pd.DataFrame([cln20,clm21,spr,uso],\n",
    "                    columns=['name','x_column','row','col','is_secondary','yaxis_title'])#,'xaxis','yaxis_left','yaxis_right'])\n",
    "sp_titles = ['CLN20 vs CLM21','CLN20/CLM21 spread vs USO']\n",
    "fig2 =  dashapp.plotly_subplots(df_both,df_yp,title=\"Correlation Between Crude Spreads and USO\",\n",
    "                      num_ticks_to_display=15,subplot_titles=sp_titles)\n",
    "iplot(fig2)"
   ]
  },
  {
   "cell_type": "code",
   "execution_count": null,
   "metadata": {},
   "outputs": [],
   "source": [
    "td = 'trade_date'\n",
    "fp = 'Futures Price'\n",
    "cln20 = ['CLN20',td,1,1,False,\"CLN20 Price\"]\n",
    "clm21 = ['CLM21',td,1,2,False,'CLM21 Price']\n",
    "spr = ['spr',td,2,1,False,'Spread Price']\n",
    "uso = ['USO',td,2,2,False,'USO Price']\n",
    "df_yp = pd.DataFrame([cln20,clm21,spr,uso],\n",
    "                    columns=['name','x_column','row','col','is_secondary','yaxis_title'])\n",
    "fig3 =  dashapp.plotly_subplots(df_both,df_yp,title=\"Correlation Between Crude Spreads and USO\",\n",
    "                      num_ticks_to_display=10)\n",
    "\n",
    "iplot(fig3)"
   ]
  },
  {
   "cell_type": "code",
   "execution_count": null,
   "metadata": {},
   "outputs": [],
   "source": [
    "def print_axis_info(ff):\n",
    "    print(ff['layout']['title']['text'])\n",
    "    display(ff['layout'].keys())\n",
    "    xsd = lambda k,j:None if j not in ff['layout'][k] else ff['layout'][k][j]\n",
    "    xs = [(k,[xsd(k,j) for j in ['anchor','domain','type','title']]) for k in ff['layout'].keys() if 'xaxis' in k]\n",
    "    display(xs)\n",
    "    ysd = lambda k,j:None if j not in ff['layout'][k] else ff['layout'][k][j]\n",
    "    # ys = [(k,fig2['layout'][k]) for k in fig2['layout'].keys() if 'yaxis' in k]\n",
    "    ys = [(k,[ysd(k,j) for j in ['anchor','domain','overlaying','title']]) for k in ff['layout'].keys() if 'yaxis' in k]\n",
    "    display(ys)"
   ]
  },
  {
   "cell_type": "code",
   "execution_count": null,
   "metadata": {
    "scrolled": true
   },
   "outputs": [],
   "source": [
    "display(print_axis_info(fig))\n",
    "display(print_axis_info(fig2))\n",
    "display(print_axis_info(fig3))"
   ]
  },
  {
   "cell_type": "code",
   "execution_count": null,
   "metadata": {},
   "outputs": [],
   "source": [
    "h = pathlib.Path.home()\n",
    "df_both.to_csv(f\"{str(h)}/df_cln20_vs_clm21_vs_uso.csv\",index=False)"
   ]
  },
  {
   "cell_type": "code",
   "execution_count": null,
   "metadata": {},
   "outputs": [],
   "source": [
    "df = pd.DataFrame({'x':[1,2,3,4,5],\n",
    "                   'y1':[10,11,12,13,14],'y2':[19,18,17,16,15],\n",
    "                   'y3':[20,21,22,23,24],'y4':[29,28,27,26,25]})\n",
    "# define rows of df_fig, which defines the look of the subplots\n",
    "y_defs = [\n",
    "    ['name','x_column','row','col','is_secondary','yaxis_title'],\n",
    "    ['y1','x',1,1,False,'y1 values'],\n",
    "    ['y2','x',1,1,True, 'y2 values'],\n",
    "    ['y3','x',2,1,False,'y3 values'],\n",
    "    ['y4','x',2,1,True, 'y4 values']\n",
    "]\n",
    "\n",
    "df_fig = pd.DataFrame(y_defs[1:],columns=y_defs[0])\n",
    "fig_title = \"Example with 2 rows and 1 column, and 4 lines\"\n",
    "sp_titles = ['y1 and y2 plots','y3 and y4 plots']\n",
    "fig_test = dashapp.plotly_subplots(df,df_fig,num_ticks_to_display=15,title=fig_title,subplot_titles = sp_titles)\n",
    "iplot(fig_test)"
   ]
  },
  {
   "cell_type": "code",
   "execution_count": null,
   "metadata": {},
   "outputs": [],
   "source": [
    "importlib.reload(dashapp)"
   ]
  },
  {
   "cell_type": "code",
   "execution_count": null,
   "metadata": {},
   "outputs": [],
   "source": [
    "df_cl = pga.get_sql(f\"select * from {futtab} where symbol = 'CLN20'\").iloc[-100:]\n",
    "def str_to_date(d,sep=''):\n",
    "    try:\n",
    "        dt = datetime.datetime.strptime(str(d)[:10],f'%Y{sep}%m{sep}%d')\n",
    "    except:\n",
    "        return None\n",
    "    return dt\n",
    "df_cl['date'] = df_cl.settle_date.apply(lambda i:f\"{str(i)[:4]}-{str(i)[4:6]}-{str(i)[6:8]}\")\n",
    "iplot(dashapp.PlotlyCandles(df_cl,title=\"CLN20<br>Futures\").get_figure())  "
   ]
  },
  {
   "cell_type": "markdown",
   "metadata": {},
   "source": [
    "### END"
   ]
  }
 ],
 "metadata": {
  "kernelspec": {
   "display_name": "Python 3",
   "language": "python",
   "name": "python3"
  },
  "language_info": {
   "codemirror_mode": {
    "name": "ipython",
    "version": 3
   },
   "file_extension": ".py",
   "mimetype": "text/x-python",
   "name": "python",
   "nbconvert_exporter": "python",
   "pygments_lexer": "ipython3",
   "version": "3.6.5"
  }
 },
 "nbformat": 4,
 "nbformat_minor": 2
}
