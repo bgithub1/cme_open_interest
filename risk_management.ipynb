{
 "cells": [
  {
   "cell_type": "markdown",
   "metadata": {},
   "source": [
    "## Basic Risk Management using Interactive Broker history server"
   ]
  },
  {
   "cell_type": "markdown",
   "metadata": {},
   "source": [
    "### This notebook requires that you are run the java RunIbHistoryServer in the package ibserver"
   ]
  },
  {
   "cell_type": "code",
   "execution_count": null,
   "metadata": {},
   "outputs": [],
   "source": [
    "import pandas as pd\n",
    "# from pandas_datareader import data as pdr\n",
    "import numpy as np\n",
    "from scipy.stats import norm\n",
    "import os, sys\n",
    "import datetime\n",
    "%matplotlib inline\n",
    "import matplotlib.pyplot as plt\n",
    "# import plotly.plotly as py\n",
    "# import plotly.graph_objs as go\n",
    "# import zipfile\n",
    "# import urllib.request\n",
    "# from PIL import Image\n",
    "# import importlib\n",
    "# from threading import Thread\n",
    "# import time\n",
    "# import re\n",
    "IMPORT_JU_DIRECT=True\n",
    "if IMPORT_JU_DIRECT:\n",
    "    import jupyter_utilities as ju\n",
    "else:\n",
    "    import importlib.util\n",
    "    spec = importlib.util.spec_from_file_location(\"jupyter_utilities\", \"../../jupyter_notebooks/cme_open_interest/jupyter_utilities.py\")\n",
    "    ju = importlib.util.module_from_spec(spec)\n",
    "    spec.loader.exec_module(ju)\n",
    "\n",
    "# Make important folders\n",
    "TEMP_FOLDER = './temp_folder'\n",
    "try:\n",
    "    os.mkdir(TEMP_FOLDER)\n",
    "except:\n",
    "    pass\n",
    "SAVE_CSV_FOLDER = f'{TEMP_FOLDER}/ib'\n",
    "try:\n",
    "    os.mkdir(SAVE_CSV_FOLDER)\n",
    "except:\n",
    "    pass\n",
    "\n",
    "def to_int(s):\n",
    "    try:\n",
    "        return int(float(str(s)))\n",
    "    except:\n",
    "        print(f'to_int exception on value:{s}')\n",
    "        return None\n",
    "\n",
    "pd.set_option('display.max_colwidth',1000)\n",
    " "
   ]
  },
  {
   "cell_type": "markdown",
   "metadata": {},
   "source": [
    "### Get data for symbols, and create a Dataframe for the raw data, and a DataFrame with a price column for each symbol"
   ]
  },
  {
   "cell_type": "code",
   "execution_count": null,
   "metadata": {},
   "outputs": [],
   "source": [
    "d = ju.symbol_merge(['FEX','CLJ19','GLD','EURH19','GBPH19','SPY','XLE','XLU','ZWK19'])"
   ]
  },
  {
   "cell_type": "code",
   "execution_count": null,
   "metadata": {},
   "outputs": [],
   "source": [
    "d['merged'].tail()"
   ]
  },
  {
   "cell_type": "code",
   "execution_count": null,
   "metadata": {},
   "outputs": [],
   "source": [
    "d['corr']"
   ]
  },
  {
   "cell_type": "code",
   "execution_count": null,
   "metadata": {},
   "outputs": [],
   "source": [
    "df_raw = d['raw']"
   ]
  },
  {
   "cell_type": "code",
   "execution_count": null,
   "metadata": {},
   "outputs": [],
   "source": [
    "sym = 'EURH19'\n",
    "df_sym = df_raw[df_raw.symbol==sym]\n",
    "df_sym.tail()"
   ]
  },
  {
   "cell_type": "code",
   "execution_count": null,
   "metadata": {},
   "outputs": [],
   "source": [
    "days = 15\n",
    "mm_roll = df_sym.high.rolling(days).max() - df_sym.low.rolling(days).min()\n",
    "mm_roll2 = mm_roll[~mm_roll.isnull()].sort_values(ascending=False)\n",
    "mm_roll_high_mean = mm_roll2.iloc[:days].mean()\n",
    "mm_roll_low_mean = mm_roll2.iloc[-days:].mean()\n",
    "mm_roll_all_mean = mm_roll2.mean()\n",
    "print(mm_roll_all_mean,mm_roll_high_mean,mm_roll_low_mean)"
   ]
  },
  {
   "cell_type": "code",
   "execution_count": null,
   "metadata": {},
   "outputs": [],
   "source": [
    "mm_roll2[~mm_roll2.isnull()].mean()"
   ]
  },
  {
   "cell_type": "code",
   "execution_count": null,
   "metadata": {},
   "outputs": [],
   "source": [
    "ju.fetch_history('FXE',datetime.datetime.now()-datetime.timedelta(120),datetime.datetime.now()).tail()"
   ]
  },
  {
   "cell_type": "code",
   "execution_count": null,
   "metadata": {},
   "outputs": [],
   "source": []
  }
 ],
 "metadata": {
  "kernelspec": {
   "display_name": "Python 3",
   "language": "python",
   "name": "python3"
  },
  "language_info": {
   "codemirror_mode": {
    "name": "ipython",
    "version": 3
   },
   "file_extension": ".py",
   "mimetype": "text/x-python",
   "name": "python",
   "nbconvert_exporter": "python",
   "pygments_lexer": "ipython3",
   "version": "3.6.5"
  }
 },
 "nbformat": 4,
 "nbformat_minor": 2
}
