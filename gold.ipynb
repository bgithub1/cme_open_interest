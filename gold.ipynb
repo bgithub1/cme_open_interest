{
 "cells": [
  {
   "cell_type": "code",
   "execution_count": null,
   "metadata": {},
   "outputs": [],
   "source": [
    "import pandas as pd\n",
    "import numpy as np\n",
    "import os, sys\n",
    "import datetime\n",
    "%matplotlib inline\n",
    "import matplotlib.pyplot as plt\n",
    "import plotly.plotly as py\n",
    "import plotly.graph_objs as go\n",
    "import zipfile\n",
    "import urllib.request\n",
    "from PIL import Image\n",
    "def str_to_date(d):\n",
    "    try:\n",
    "        dt = datetime.datetime.strptime(str(d),'%Y-%m-%d')\n",
    "    except:\n",
    "        return None\n",
    "    s = '%04d%02d%02d' %(dt.year,dt.month,dt.day)\n",
    "    return int(s)\n",
    "\n",
    "# Make important folders\n",
    "TEMP_FOLDER = './temp_folder'\n",
    "try:\n",
    "    os.mkdir(TEMP_FOLDER)\n",
    "except:\n",
    "    pass\n",
    "SAVE_IMAGE_FOLDER = f'{TEMP_FOLDER}/gold'\n",
    "try:\n",
    "    os.mkdir(SAVE_IMAGE_FOLDER)\n",
    "except:\n",
    "    pass\n"
   ]
  },
  {
   "cell_type": "code",
   "execution_count": null,
   "metadata": {},
   "outputs": [],
   "source": [
    "df_oi = None\n",
    "years = np.linspace(2013,2019,7,dtype=int)\n",
    "df_oi = None\n",
    "for y in years:\n",
    "    df_temp = pd.read_csv(f'{TEMP_FOLDER}/cme_open_interest_{y}.csv')\n",
    "    df_temp = df_temp[~df_temp.Open_Interest.isnull()]\n",
    "    if df_oi is None:\n",
    "        df_oi = df_temp.copy()\n",
    "    else:\n",
    "        df_oi = df_oi.append(df_temp,ignore_index=True)\n",
    "        df_oi.index = list(range(len(df_oi)))\n",
    "print(len(df_oi))\n",
    "df_oi.tail()"
   ]
  },
  {
   "cell_type": "code",
   "execution_count": null,
   "metadata": {},
   "outputs": [],
   "source": [
    "df_etf = pd.read_csv('./etf_cap_hist.csv')\n",
    "df_etf['trade_date'] = df_etf.date.apply(str_to_date)\n",
    "df_etf.tail()"
   ]
  },
  {
   "cell_type": "code",
   "execution_count": null,
   "metadata": {},
   "outputs": [],
   "source": [
    "c1 = ~df_oi.Product_Description.isnull()\n",
    "c2 = df_oi.Product_Description.str.contains('gold',case=False)\n",
    "df_oi.Product_Description[c1 & c2].unique()"
   ]
  },
  {
   "cell_type": "code",
   "execution_count": null,
   "metadata": {},
   "outputs": [],
   "source": [
    "df_oi_gc = df_oi[df_oi.Product_Description == 'GOLD FUTURES'][['trade_date','Open_Interest','Total_Volume']]\n",
    "def to_int(s):\n",
    "    try:\n",
    "        return int(float(str(s)))\n",
    "    except:\n",
    "        print(s)\n",
    "        return None\n",
    "df_oi_gc.Open_Interest = df_oi_gc.Open_Interest.apply(to_int)\n",
    "df_oi_gc.Total_Volume = df_oi_gc.Total_Volume.astype(float).astype(int)\n",
    "df_etf_gc = df_etf[df_etf.symbol=='GLD']\n",
    "df_both = df_etf_gc[['trade_date','nav','shares']].merge(df_oi_gc,how='inner',on='trade_date')\n",
    "df_both['nav_diff'] = df_both.nav.pct_change()\n",
    "df_both['share_diff'] = df_both.shares.pct_change()\n",
    "df_both['oi_diff'] = df_both.Open_Interest.pct_change()\n",
    "\n"
   ]
  },
  {
   "cell_type": "code",
   "execution_count": null,
   "metadata": {},
   "outputs": [],
   "source": [
    "def plot_pandas(df_in,x_column,num_of_x_ticks=20):\n",
    "    df_cl = df_in.copy()\n",
    "    df_cl = df_cl.drop_duplicates()\n",
    "    xs = list(df_cl[x_column])\n",
    "    df_cl[x_column] = df_cl[x_column].apply(lambda i:str(i))\n",
    "\n",
    "    x = list(range(len(df_cl)))\n",
    "    n = len(x)\n",
    "    s = num_of_x_ticks\n",
    "    k = n//s*s\n",
    "    x_indices = x[::-1][:k][::k//s][::-1]\n",
    "    x_labels = [str(t) for t in list(df_cl.iloc[x_indices][x_column])]\n",
    "    ax = df_cl.plot.bar(figsize=(16,10))\n",
    "    ax.set_xticks(x_indices)#, rotation='vertical')\n",
    "    ax.set_xticklabels(x_labels, rotation='vertical')\n",
    "    ax.grid()\n",
    "    return ax"
   ]
  },
  {
   "cell_type": "code",
   "execution_count": null,
   "metadata": {},
   "outputs": [],
   "source": [
    "def multi_plot(df,x_column,save_image_folder,dates_per_plot=100):\n",
    "    plots = int(len(df)/dates_per_plot) + 1 if len(df) % dates_per_plot > 0 else 0\n",
    "    f = plt.figure()\n",
    "    image_names = []\n",
    "    for p in range(plots):\n",
    "        low_row = p * dates_per_plot\n",
    "        high_row = low_row + dates_per_plot\n",
    "        df_sub = df.iloc[low_row:high_row]\n",
    "        ax = plot_pandas(df_sub,x_column)\n",
    "        fig = ax.get_figure()\n",
    "        image_name = f'{save_image_folder}/gold_{p+1}.png'\n",
    "        fig.savefig(image_name)\n",
    "        image_names.append(image_name)\n",
    "    return image_names"
   ]
  },
  {
   "cell_type": "code",
   "execution_count": null,
   "metadata": {
    "scrolled": false
   },
   "outputs": [],
   "source": [
    "df_both_2 = df_both[['trade_date','nav_diff','oi_diff']]\n",
    "df_both_2.oi_diff = df_both_2.oi_diff.apply(lambda oi: .1 if abs(oi)>.1 else oi)\n",
    "df_both_2['nav_roll'] = df_both_2.nav_diff.rolling(3).sum()\n",
    "df_both_2['oi_roll'] = df_both_2.oi_diff.rolling(3).sum()\n",
    "df_both_3  = df_both_2[['trade_date','nav_roll','oi_roll','nav_diff']]\n",
    "df_both_3 = df_both_3[~df_both_3.nav_roll.isnull()]\n",
    "# plot_pandas(df_both_2[['trade_date','nav_diff','oi_diff']],'trade_date')\n",
    "multi_plot(df_both_3,'trade_date',SAVE_IMAGE_FOLDER,dates_per_plot=40)"
   ]
  },
  {
   "cell_type": "code",
   "execution_count": null,
   "metadata": {},
   "outputs": [],
   "source": [
    "pl = 1\n",
    "pl_hist = []\n",
    "trade_hist = []\n",
    "last_n = 1000\n",
    "df_b4 = df_both_3[-last_n:]\n",
    "print(len(df_b4))\n",
    "\n",
    "for i in df_b4.index:\n",
    "    r = df_b4.loc[i]\n",
    "    nav_roll = float(r.nav_roll)\n",
    "    oi_roll = float(r.oi_roll)\n",
    "    nav_diff = float(r.nav_diff)\n",
    "    if abs(nav_roll) < .002 or abs(oi_roll) < .002:\n",
    "        continue\n",
    "    if nav_roll * oi_roll >=0:\n",
    "        continue\n",
    "    sign = 1\n",
    "    if nav_roll < 0:\n",
    "        sign = -1\n",
    "    trade = nav_diff*sign\n",
    "    pl = (1+trade) * pl\n",
    "    trade_hist.append(trade)\n",
    "    pl_hist.append(pl)"
   ]
  },
  {
   "cell_type": "code",
   "execution_count": null,
   "metadata": {},
   "outputs": [],
   "source": [
    "from scipy import stats\n",
    "pl_std = np.array(trade_hist).std()\n",
    "pl_geomean = stats.gmean(np.array(trade_hist)+1)-1\n",
    "pl_avg = np.array(trade_hist).mean()\n",
    "pl,pl_geomean,pl_std,pl_geomean/pl_std,(pl_geomean+1)**len(trade_hist),pl_avg/pl_std"
   ]
  }
 ],
 "metadata": {
  "kernelspec": {
   "display_name": "Python 3",
   "language": "python",
   "name": "python3"
  },
  "language_info": {
   "codemirror_mode": {
    "name": "ipython",
    "version": 3
   },
   "file_extension": ".py",
   "mimetype": "text/x-python",
   "name": "python",
   "nbconvert_exporter": "python",
   "pygments_lexer": "ipython3",
   "version": "3.6.5"
  }
 },
 "nbformat": 4,
 "nbformat_minor": 2
}
