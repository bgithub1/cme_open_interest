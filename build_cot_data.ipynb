{
 "cells": [
  {
   "cell_type": "markdown",
   "metadata": {},
   "source": [
    "## Build history of commodity COTs\n",
    "\n",
    "1. Retrieve data from the CFTC website (www.cft.gov/files);\n",
    "2. Extract data from the most important Commercial and Non Commercial long and short columns;\n",
    "3. Create \"net\" columns for each important category;\n",
    "4. Merge this data with the ETF history data created in the previous steps\n"
   ]
  },
  {
   "cell_type": "code",
   "execution_count": 6,
   "metadata": {},
   "outputs": [],
   "source": [
    "import warnings\n",
    "warnings.filterwarnings('ignore')"
   ]
  },
  {
   "cell_type": "code",
   "execution_count": 7,
   "metadata": {},
   "outputs": [],
   "source": [
    "import pandas as pd\n",
    "import numpy as np\n",
    "import os, sys\n",
    "import datetime\n",
    "%matplotlib inline\n",
    "import matplotlib.pyplot as plt\n",
    "import plotly.plotly as py\n",
    "import plotly.graph_objs as go\n",
    "import zipfile\n",
    "import urllib.request\n",
    "from PIL import Image\n",
    "def str_to_date(d):\n",
    "    try:\n",
    "        dt = datetime.datetime.strptime(str(d),'%Y-%m-%d')\n",
    "    except:\n",
    "        return None\n",
    "    return dt\n",
    "\n",
    "# Make important folders\n",
    "TEMP_FOLDER = './temp_folder'\n",
    "try:\n",
    "    os.mkdir(TEMP_FOLDER)\n",
    "except:\n",
    "    pass\n",
    "try:\n",
    "    os.mkdir(f'{TEMP_FOLDER}/cot')\n",
    "except:\n",
    "    pass\n",
    "try:\n",
    "    os.mkdir(f'{TEMP_FOLDER}/zip')\n",
    "except:\n",
    "    pass\n"
   ]
  },
  {
   "cell_type": "markdown",
   "metadata": {},
   "source": [
    "___\n",
    "## First, decide if you want to re-create the ETF and COT data, or just retrieve the previously saved data DataFrames."
   ]
  },
  {
   "cell_type": "code",
   "execution_count": 8,
   "metadata": {},
   "outputs": [],
   "source": [
    "CREATE_COT_DATA = True\n",
    "cot_save_path = './cot_history.csv'"
   ]
  },
  {
   "cell_type": "markdown",
   "metadata": {},
   "source": [
    "___\n",
    "## Process CFTC COT Data\n",
    "___"
   ]
  },
  {
   "cell_type": "markdown",
   "metadata": {},
   "source": [
    "### Initial processing\n",
    "1. Download zip files from www.cft.gov/files;\n",
    "2. Unip the files using the zipfile package;\n",
    "3. Read each csv (usually named Annual.TXT), and merge them into the df_cot DataFrame.\n"
   ]
  },
  {
   "cell_type": "code",
   "execution_count": 9,
   "metadata": {
    "scrolled": true
   },
   "outputs": [
    {
     "name": "stdout",
     "output_type": "stream",
     "text": [
      "processed cot csv file from https://www.cftc.gov/files/dea/history/deacot2000.zip. Length = 3261\n",
      "processed cot csv file from https://www.cftc.gov/files/dea/history/deacot2001.zip. Length = 2782\n",
      "processed cot csv file from https://www.cftc.gov/files/dea/history/deacot2002.zip. Length = 2854\n",
      "processed cot csv file from https://www.cftc.gov/files/dea/history/deacot2003.zip. Length = 3135\n",
      "processed cot csv file from https://www.cftc.gov/files/dea/history/deacot2004.zip. Length = 3465\n",
      "processed cot csv file from https://www.cftc.gov/files/dea/history/deacot2005.zip. Length = 3909\n",
      "processed cot csv file from https://www.cftc.gov/files/dea/history/deacot2006.zip. Length = 4926\n",
      "processed cot csv file from https://www.cftc.gov/files/dea/history/deacot2007.zip. Length = 4926\n",
      "processed cot csv file from https://www.cftc.gov/files/dea/history/deacot2008.zip. Length = 5631\n",
      "processed cot csv file from https://www.cftc.gov/files/dea/history/deacot2009.zip. Length = 6570\n",
      "processed cot csv file from https://www.cftc.gov/files/dea/history/deacot2010.zip. Length = 7308\n",
      "processed cot csv file from https://www.cftc.gov/files/dea/history/deacot2011.zip. Length = 7365\n",
      "processed cot csv file from https://www.cftc.gov/files/dea/history/deacot2012.zip. Length = 7838\n",
      "processed cot csv file from https://www.cftc.gov/files/dea/history/deacot2013.zip. Length = 10159\n",
      "processed cot csv file from https://www.cftc.gov/files/dea/history/deacot2014.zip. Length = 12131\n",
      "processed cot csv file from https://www.cftc.gov/files/dea/history/deacot2015.zip. Length = 11610\n",
      "processed cot csv file from https://www.cftc.gov/files/dea/history/deacot2016.zip. Length = 12434\n",
      "processed cot csv file from https://www.cftc.gov/files/dea/history/deacot2017.zip. Length = 12314\n",
      "processed cot csv file from https://www.cftc.gov/files/dea/history/deacot2018.zip. Length = 13410\n",
      "processed cot csv file from https://www.cftc.gov/files/dea/history/deacot2019.zip. Length = 12980\n",
      "retrieving cot zip file from https://www.cftc.gov/files/dea/history/deacot2020.zip\n",
      "https://www.cftc.gov/files/dea/history/deacot2020.zip HTTP Error 404: Not Found\n"
     ]
    }
   ],
   "source": [
    "if CREATE_COT_DATA:\n",
    "    last_year = datetime.datetime.now().year\n",
    "    year_list = np.linspace(2000,last_year,last_year-2000+1)\n",
    "    zip_download_folder = f'TEMP_FOLDER/zip'\n",
    "    df_cot_temp = None\n",
    "    df_cot = None\n",
    "    for y in year_list:\n",
    "        yint = int(y)\n",
    "        url = f\"https://www.cftc.gov/files/dea/history/deacot{yint}.zip\"\n",
    "        path_to_zip_file = f'{zip_download_folder}/dea_fut_xls_{y}.zip'\n",
    "        if not os.path.isfile(path_to_zip_file) or y >= last_year:\n",
    "            print(f'retrieving cot zip file from {url}')\n",
    "            try:\n",
    "                urllib.request.urlretrieve(url, path_to_zip_file)    \n",
    "            except:\n",
    "                import time\n",
    "                time.sleep(1)\n",
    "                try:\n",
    "                    urllib.request.urlretrieve(url, path_to_zip_file)    \n",
    "                except Exception as e:\n",
    "                    print(f'{url} {e}')\n",
    "                    continue\n",
    "        zip_ref = zipfile.ZipFile(path_to_zip_file, 'r')\n",
    "        zip_ref.extractall(zip_download_folder)\n",
    "        zip_ref.close()\n",
    "        df_cot_temp = pd.read_csv(f'{zip_download_folder}/Annual.TXT')\n",
    "        if df_cot is None:\n",
    "            df_cot = df_cot_temp.copy()\n",
    "        else:\n",
    "            df_cot = df_cot.append(df_cot_temp,ignore_index=True)\n",
    "            df_cot.index = list(range(len(df_cot)))\n",
    "        print(f'processed cot csv file from {url}. Length = {len(df_cot_temp)}')\n",
    "        \n",
    "    df_cot.head()"
   ]
  },
  {
   "cell_type": "markdown",
   "metadata": {},
   "source": [
    "___\n",
    "### Make column names easier to process, make main date field a datetime object, and sort the DataFrame\n",
    "___"
   ]
  },
  {
   "cell_type": "code",
   "execution_count": 10,
   "metadata": {},
   "outputs": [],
   "source": [
    "if CREATE_COT_DATA:\n",
    "    col_rename_dict = {c:c.replace(' ','_').replace('-','_').replace('(','').replace(')','') for c in df_cot.columns.values}\n",
    "    df_cot2 = df_cot.rename(columns=col_rename_dict)\n",
    "    df_cot2.As_of_Date_in_Form_YYYY_MM_DD = df_cot2.As_of_Date_in_Form_YYYY_MM_DD.apply(str_to_date)\n",
    "    df_cot2 = df_cot2.sort_values(['Market_and_Exchange_Names','As_of_Date_in_Form_YYYY_MM_DD'])\n",
    "    df_cot2.columns.values\n",
    "    df_cot2.to_csv(cot_save_path,index=False)"
   ]
  },
  {
   "cell_type": "markdown",
   "metadata": {},
   "source": [
    "___\n",
    "### Show important columns for a specific  commodity\n",
    "___"
   ]
  },
  {
   "cell_type": "code",
   "execution_count": 11,
   "metadata": {},
   "outputs": [
    {
     "data": {
      "text/plain": [
       "149008"
      ]
     },
     "execution_count": 11,
     "metadata": {},
     "output_type": "execute_result"
    }
   ],
   "source": [
    "len(df_cot2)"
   ]
  },
  {
   "cell_type": "code",
   "execution_count": 12,
   "metadata": {},
   "outputs": [],
   "source": [
    "df_cot2 = pd.read_csv(cot_save_path)\n",
    "df_cot2.As_of_Date_in_Form_YYYY_MM_DD = df_cot2.As_of_Date_in_Form_YYYY_MM_DD.apply(str_to_date)\n",
    "commod = 'CRUDE OIL, LIGHT SWEET - NEW YORK MERCANTILE EXCHANGE'\n",
    "# commod = 'GOLD'\n",
    "cot_beg_date = datetime.datetime.now() - datetime.timedelta(2000)\n",
    "df_commod = df_cot2[df_cot2.Market_and_Exchange_Names.str.contains(commod)][df_cot2.As_of_Date_in_Form_YYYY_MM_DD>=cot_beg_date]\n",
    "basic_cols = ['Market_and_Exchange_Names','As_of_Date_in_Form_YYYY_MM_DD','Open_Interest_All']\n",
    "long_cols = ['Market_and_Exchange_Names','As_of_Date_in_Form_YYYY_MM_DD',\n",
    "            'Noncommercial_Positions_Long_All','Commercial_Positions_Long_All',\n",
    "            'Nonreportable_Positions_Long_All','Traders_Commercial_Long_All',\n",
    "             'Traders_Noncommercial_Long_All','Traders_Total_Reportable_Long_All']\n",
    "short_cols = ['Market_and_Exchange_Names','As_of_Date_in_Form_YYYY_MM_DD',\n",
    "            'Noncommercial_Positions_Short_All','Commercial_Positions_Short_All',\n",
    "            'Nonreportable_Positions_Short_All','Total_Reportable_Positions_Short_All',\n",
    "            'Traders_Commercial_Short_All','Traders_Noncommercial_Short_All',\n",
    "            'Traders_Total_Reportable_Short_All']\n",
    "df_commod_basic = df_commod[basic_cols]\n",
    "df_commod_long = df_commod[long_cols]\n",
    "df_commod_short = df_commod[short_cols]\n"
   ]
  },
  {
   "cell_type": "markdown",
   "metadata": {},
   "source": [
    "### Show basic open interest info"
   ]
  },
  {
   "cell_type": "code",
   "execution_count": 13,
   "metadata": {},
   "outputs": [
    {
     "data": {
      "text/html": [
       "<div>\n",
       "<style scoped>\n",
       "    .dataframe tbody tr th:only-of-type {\n",
       "        vertical-align: middle;\n",
       "    }\n",
       "\n",
       "    .dataframe tbody tr th {\n",
       "        vertical-align: top;\n",
       "    }\n",
       "\n",
       "    .dataframe thead th {\n",
       "        text-align: right;\n",
       "    }\n",
       "</style>\n",
       "<table border=\"1\" class=\"dataframe\">\n",
       "  <thead>\n",
       "    <tr style=\"text-align: right;\">\n",
       "      <th></th>\n",
       "      <th>Market_and_Exchange_Names</th>\n",
       "      <th>As_of_Date_in_Form_YYYY_MM_DD</th>\n",
       "      <th>Open_Interest_All</th>\n",
       "    </tr>\n",
       "  </thead>\n",
       "  <tbody>\n",
       "    <tr>\n",
       "      <th>28443</th>\n",
       "      <td>CRUDE OIL, LIGHT SWEET - NEW YORK MERCANTILE E...</td>\n",
       "      <td>2019-12-17</td>\n",
       "      <td>2166584</td>\n",
       "    </tr>\n",
       "    <tr>\n",
       "      <th>28442</th>\n",
       "      <td>CRUDE OIL, LIGHT SWEET - NEW YORK MERCANTILE E...</td>\n",
       "      <td>2019-12-10</td>\n",
       "      <td>2229813</td>\n",
       "    </tr>\n",
       "    <tr>\n",
       "      <th>28441</th>\n",
       "      <td>CRUDE OIL, LIGHT SWEET - NEW YORK MERCANTILE E...</td>\n",
       "      <td>2019-12-03</td>\n",
       "      <td>2163757</td>\n",
       "    </tr>\n",
       "    <tr>\n",
       "      <th>28440</th>\n",
       "      <td>CRUDE OIL, LIGHT SWEET - NEW YORK MERCANTILE E...</td>\n",
       "      <td>2019-11-26</td>\n",
       "      <td>2187168</td>\n",
       "    </tr>\n",
       "    <tr>\n",
       "      <th>28439</th>\n",
       "      <td>CRUDE OIL, LIGHT SWEET - NEW YORK MERCANTILE E...</td>\n",
       "      <td>2019-11-19</td>\n",
       "      <td>2123596</td>\n",
       "    </tr>\n",
       "  </tbody>\n",
       "</table>\n",
       "</div>"
      ],
      "text/plain": [
       "                               Market_and_Exchange_Names  \\\n",
       "28443  CRUDE OIL, LIGHT SWEET - NEW YORK MERCANTILE E...   \n",
       "28442  CRUDE OIL, LIGHT SWEET - NEW YORK MERCANTILE E...   \n",
       "28441  CRUDE OIL, LIGHT SWEET - NEW YORK MERCANTILE E...   \n",
       "28440  CRUDE OIL, LIGHT SWEET - NEW YORK MERCANTILE E...   \n",
       "28439  CRUDE OIL, LIGHT SWEET - NEW YORK MERCANTILE E...   \n",
       "\n",
       "      As_of_Date_in_Form_YYYY_MM_DD  Open_Interest_All  \n",
       "28443                    2019-12-17            2166584  \n",
       "28442                    2019-12-10            2229813  \n",
       "28441                    2019-12-03            2163757  \n",
       "28440                    2019-11-26            2187168  \n",
       "28439                    2019-11-19            2123596  "
      ]
     },
     "execution_count": 13,
     "metadata": {},
     "output_type": "execute_result"
    }
   ],
   "source": [
    "df_commod_basic.sort_values('As_of_Date_in_Form_YYYY_MM_DD',ascending=False).head()"
   ]
  },
  {
   "cell_type": "markdown",
   "metadata": {},
   "source": [
    "### Show important \"long\" position info"
   ]
  },
  {
   "cell_type": "code",
   "execution_count": 14,
   "metadata": {
    "scrolled": true
   },
   "outputs": [
    {
     "data": {
      "text/html": [
       "<div>\n",
       "<style scoped>\n",
       "    .dataframe tbody tr th:only-of-type {\n",
       "        vertical-align: middle;\n",
       "    }\n",
       "\n",
       "    .dataframe tbody tr th {\n",
       "        vertical-align: top;\n",
       "    }\n",
       "\n",
       "    .dataframe thead th {\n",
       "        text-align: right;\n",
       "    }\n",
       "</style>\n",
       "<table border=\"1\" class=\"dataframe\">\n",
       "  <thead>\n",
       "    <tr style=\"text-align: right;\">\n",
       "      <th></th>\n",
       "      <th>Market_and_Exchange_Names</th>\n",
       "      <th>As_of_Date_in_Form_YYYY_MM_DD</th>\n",
       "      <th>Noncommercial_Positions_Long_All</th>\n",
       "      <th>Commercial_Positions_Long_All</th>\n",
       "      <th>Nonreportable_Positions_Long_All</th>\n",
       "      <th>Traders_Commercial_Long_All</th>\n",
       "      <th>Traders_Noncommercial_Long_All</th>\n",
       "      <th>Traders_Total_Reportable_Long_All</th>\n",
       "    </tr>\n",
       "  </thead>\n",
       "  <tbody>\n",
       "    <tr>\n",
       "      <th>28443</th>\n",
       "      <td>CRUDE OIL, LIGHT SWEET - NEW YORK MERCANTILE E...</td>\n",
       "      <td>2019-12-17</td>\n",
       "      <td>612113</td>\n",
       "      <td>731664</td>\n",
       "      <td>87948</td>\n",
       "      <td>93</td>\n",
       "      <td>139</td>\n",
       "      <td>295</td>\n",
       "    </tr>\n",
       "    <tr>\n",
       "      <th>28442</th>\n",
       "      <td>CRUDE OIL, LIGHT SWEET - NEW YORK MERCANTILE E...</td>\n",
       "      <td>2019-12-10</td>\n",
       "      <td>577216</td>\n",
       "      <td>773624</td>\n",
       "      <td>88253</td>\n",
       "      <td>100</td>\n",
       "      <td>134</td>\n",
       "      <td>307</td>\n",
       "    </tr>\n",
       "    <tr>\n",
       "      <th>28441</th>\n",
       "      <td>CRUDE OIL, LIGHT SWEET - NEW YORK MERCANTILE E...</td>\n",
       "      <td>2019-12-03</td>\n",
       "      <td>531120</td>\n",
       "      <td>769453</td>\n",
       "      <td>83413</td>\n",
       "      <td>103</td>\n",
       "      <td>120</td>\n",
       "      <td>300</td>\n",
       "    </tr>\n",
       "    <tr>\n",
       "      <th>28440</th>\n",
       "      <td>CRUDE OIL, LIGHT SWEET - NEW YORK MERCANTILE E...</td>\n",
       "      <td>2019-11-26</td>\n",
       "      <td>553737</td>\n",
       "      <td>750667</td>\n",
       "      <td>82124</td>\n",
       "      <td>96</td>\n",
       "      <td>124</td>\n",
       "      <td>296</td>\n",
       "    </tr>\n",
       "    <tr>\n",
       "      <th>28439</th>\n",
       "      <td>CRUDE OIL, LIGHT SWEET - NEW YORK MERCANTILE E...</td>\n",
       "      <td>2019-11-19</td>\n",
       "      <td>541420</td>\n",
       "      <td>739984</td>\n",
       "      <td>87122</td>\n",
       "      <td>101</td>\n",
       "      <td>118</td>\n",
       "      <td>290</td>\n",
       "    </tr>\n",
       "  </tbody>\n",
       "</table>\n",
       "</div>"
      ],
      "text/plain": [
       "                               Market_and_Exchange_Names  \\\n",
       "28443  CRUDE OIL, LIGHT SWEET - NEW YORK MERCANTILE E...   \n",
       "28442  CRUDE OIL, LIGHT SWEET - NEW YORK MERCANTILE E...   \n",
       "28441  CRUDE OIL, LIGHT SWEET - NEW YORK MERCANTILE E...   \n",
       "28440  CRUDE OIL, LIGHT SWEET - NEW YORK MERCANTILE E...   \n",
       "28439  CRUDE OIL, LIGHT SWEET - NEW YORK MERCANTILE E...   \n",
       "\n",
       "      As_of_Date_in_Form_YYYY_MM_DD  Noncommercial_Positions_Long_All  \\\n",
       "28443                    2019-12-17                            612113   \n",
       "28442                    2019-12-10                            577216   \n",
       "28441                    2019-12-03                            531120   \n",
       "28440                    2019-11-26                            553737   \n",
       "28439                    2019-11-19                            541420   \n",
       "\n",
       "       Commercial_Positions_Long_All  Nonreportable_Positions_Long_All  \\\n",
       "28443                         731664                             87948   \n",
       "28442                         773624                             88253   \n",
       "28441                         769453                             83413   \n",
       "28440                         750667                             82124   \n",
       "28439                         739984                             87122   \n",
       "\n",
       "       Traders_Commercial_Long_All  Traders_Noncommercial_Long_All  \\\n",
       "28443                           93                             139   \n",
       "28442                          100                             134   \n",
       "28441                          103                             120   \n",
       "28440                           96                             124   \n",
       "28439                          101                             118   \n",
       "\n",
       "       Traders_Total_Reportable_Long_All  \n",
       "28443                                295  \n",
       "28442                                307  \n",
       "28441                                300  \n",
       "28440                                296  \n",
       "28439                                290  "
      ]
     },
     "execution_count": 14,
     "metadata": {},
     "output_type": "execute_result"
    }
   ],
   "source": [
    "df_commod_long.sort_values('As_of_Date_in_Form_YYYY_MM_DD',ascending=False).head()"
   ]
  },
  {
   "cell_type": "markdown",
   "metadata": {},
   "source": [
    "### Show important \"short\" position info"
   ]
  },
  {
   "cell_type": "code",
   "execution_count": 15,
   "metadata": {},
   "outputs": [
    {
     "data": {
      "text/html": [
       "<div>\n",
       "<style scoped>\n",
       "    .dataframe tbody tr th:only-of-type {\n",
       "        vertical-align: middle;\n",
       "    }\n",
       "\n",
       "    .dataframe tbody tr th {\n",
       "        vertical-align: top;\n",
       "    }\n",
       "\n",
       "    .dataframe thead th {\n",
       "        text-align: right;\n",
       "    }\n",
       "</style>\n",
       "<table border=\"1\" class=\"dataframe\">\n",
       "  <thead>\n",
       "    <tr style=\"text-align: right;\">\n",
       "      <th></th>\n",
       "      <th>Market_and_Exchange_Names</th>\n",
       "      <th>As_of_Date_in_Form_YYYY_MM_DD</th>\n",
       "      <th>Noncommercial_Positions_Short_All</th>\n",
       "      <th>Commercial_Positions_Short_All</th>\n",
       "      <th>Nonreportable_Positions_Short_All</th>\n",
       "      <th>Total_Reportable_Positions_Short_All</th>\n",
       "      <th>Traders_Commercial_Short_All</th>\n",
       "      <th>Traders_Noncommercial_Short_All</th>\n",
       "      <th>Traders_Total_Reportable_Short_All</th>\n",
       "    </tr>\n",
       "  </thead>\n",
       "  <tbody>\n",
       "    <tr>\n",
       "      <th>28443</th>\n",
       "      <td>CRUDE OIL, LIGHT SWEET - NEW YORK MERCANTILE E...</td>\n",
       "      <td>2019-12-17</td>\n",
       "      <td>75736</td>\n",
       "      <td>1273627</td>\n",
       "      <td>82362</td>\n",
       "      <td>2084222</td>\n",
       "      <td>104</td>\n",
       "      <td>74</td>\n",
       "      <td>286</td>\n",
       "    </tr>\n",
       "    <tr>\n",
       "      <th>28442</th>\n",
       "      <td>CRUDE OIL, LIGHT SWEET - NEW YORK MERCANTILE E...</td>\n",
       "      <td>2019-12-10</td>\n",
       "      <td>81677</td>\n",
       "      <td>1275613</td>\n",
       "      <td>81803</td>\n",
       "      <td>2148010</td>\n",
       "      <td>107</td>\n",
       "      <td>86</td>\n",
       "      <td>292</td>\n",
       "    </tr>\n",
       "    <tr>\n",
       "      <th>28441</th>\n",
       "      <td>CRUDE OIL, LIGHT SWEET - NEW YORK MERCANTILE E...</td>\n",
       "      <td>2019-12-03</td>\n",
       "      <td>103085</td>\n",
       "      <td>1207163</td>\n",
       "      <td>73738</td>\n",
       "      <td>2090019</td>\n",
       "      <td>104</td>\n",
       "      <td>99</td>\n",
       "      <td>296</td>\n",
       "    </tr>\n",
       "    <tr>\n",
       "      <th>28440</th>\n",
       "      <td>CRUDE OIL, LIGHT SWEET - NEW YORK MERCANTILE E...</td>\n",
       "      <td>2019-11-26</td>\n",
       "      <td>82801</td>\n",
       "      <td>1225443</td>\n",
       "      <td>78284</td>\n",
       "      <td>2108884</td>\n",
       "      <td>103</td>\n",
       "      <td>96</td>\n",
       "      <td>293</td>\n",
       "    </tr>\n",
       "    <tr>\n",
       "      <th>28439</th>\n",
       "      <td>CRUDE OIL, LIGHT SWEET - NEW YORK MERCANTILE E...</td>\n",
       "      <td>2019-11-19</td>\n",
       "      <td>111445</td>\n",
       "      <td>1181128</td>\n",
       "      <td>75953</td>\n",
       "      <td>2047643</td>\n",
       "      <td>103</td>\n",
       "      <td>96</td>\n",
       "      <td>288</td>\n",
       "    </tr>\n",
       "  </tbody>\n",
       "</table>\n",
       "</div>"
      ],
      "text/plain": [
       "                               Market_and_Exchange_Names  \\\n",
       "28443  CRUDE OIL, LIGHT SWEET - NEW YORK MERCANTILE E...   \n",
       "28442  CRUDE OIL, LIGHT SWEET - NEW YORK MERCANTILE E...   \n",
       "28441  CRUDE OIL, LIGHT SWEET - NEW YORK MERCANTILE E...   \n",
       "28440  CRUDE OIL, LIGHT SWEET - NEW YORK MERCANTILE E...   \n",
       "28439  CRUDE OIL, LIGHT SWEET - NEW YORK MERCANTILE E...   \n",
       "\n",
       "      As_of_Date_in_Form_YYYY_MM_DD  Noncommercial_Positions_Short_All  \\\n",
       "28443                    2019-12-17                              75736   \n",
       "28442                    2019-12-10                              81677   \n",
       "28441                    2019-12-03                             103085   \n",
       "28440                    2019-11-26                              82801   \n",
       "28439                    2019-11-19                             111445   \n",
       "\n",
       "       Commercial_Positions_Short_All  Nonreportable_Positions_Short_All  \\\n",
       "28443                         1273627                              82362   \n",
       "28442                         1275613                              81803   \n",
       "28441                         1207163                              73738   \n",
       "28440                         1225443                              78284   \n",
       "28439                         1181128                              75953   \n",
       "\n",
       "       Total_Reportable_Positions_Short_All  Traders_Commercial_Short_All  \\\n",
       "28443                               2084222                           104   \n",
       "28442                               2148010                           107   \n",
       "28441                               2090019                           104   \n",
       "28440                               2108884                           103   \n",
       "28439                               2047643                           103   \n",
       "\n",
       "       Traders_Noncommercial_Short_All  Traders_Total_Reportable_Short_All  \n",
       "28443                               74                                 286  \n",
       "28442                               86                                 292  \n",
       "28441                               99                                 296  \n",
       "28440                               96                                 293  \n",
       "28439                               96                                 288  "
      ]
     },
     "execution_count": 15,
     "metadata": {},
     "output_type": "execute_result"
    }
   ],
   "source": [
    "df_commod_short.sort_values('As_of_Date_in_Form_YYYY_MM_DD',ascending=False).head()"
   ]
  },
  {
   "cell_type": "markdown",
   "metadata": {},
   "source": [
    "### Show important \"net\" position info"
   ]
  },
  {
   "cell_type": "code",
   "execution_count": 16,
   "metadata": {
    "scrolled": true
   },
   "outputs": [
    {
     "data": {
      "text/html": [
       "<div>\n",
       "<style scoped>\n",
       "    .dataframe tbody tr th:only-of-type {\n",
       "        vertical-align: middle;\n",
       "    }\n",
       "\n",
       "    .dataframe tbody tr th {\n",
       "        vertical-align: top;\n",
       "    }\n",
       "\n",
       "    .dataframe thead th {\n",
       "        text-align: right;\n",
       "    }\n",
       "</style>\n",
       "<table border=\"1\" class=\"dataframe\">\n",
       "  <thead>\n",
       "    <tr style=\"text-align: right;\">\n",
       "      <th></th>\n",
       "      <th>Market_and_Exchange_Names</th>\n",
       "      <th>As_of_Date_in_Form_YYYY_MM_DD</th>\n",
       "      <th>Noncommercial_Positions_Net_All</th>\n",
       "      <th>Commercial_Positions_Net_All</th>\n",
       "      <th>Nonreportable_Positions_Net_All</th>\n",
       "      <th>Traders_Commercial_Net_All</th>\n",
       "      <th>Traders_Noncommercial_Net_All</th>\n",
       "    </tr>\n",
       "  </thead>\n",
       "  <tbody>\n",
       "    <tr>\n",
       "      <th>258</th>\n",
       "      <td>CRUDE OIL, LIGHT SWEET - NEW YORK MERCANTILE E...</td>\n",
       "      <td>2019-12-17</td>\n",
       "      <td>536377.0</td>\n",
       "      <td>-541963.0</td>\n",
       "      <td>5586.0</td>\n",
       "      <td>-11.0</td>\n",
       "      <td>65.0</td>\n",
       "    </tr>\n",
       "    <tr>\n",
       "      <th>257</th>\n",
       "      <td>CRUDE OIL, LIGHT SWEET - NEW YORK MERCANTILE E...</td>\n",
       "      <td>2019-12-10</td>\n",
       "      <td>495539.0</td>\n",
       "      <td>-501989.0</td>\n",
       "      <td>6450.0</td>\n",
       "      <td>-7.0</td>\n",
       "      <td>48.0</td>\n",
       "    </tr>\n",
       "    <tr>\n",
       "      <th>256</th>\n",
       "      <td>CRUDE OIL, LIGHT SWEET - NEW YORK MERCANTILE E...</td>\n",
       "      <td>2019-12-03</td>\n",
       "      <td>428035.0</td>\n",
       "      <td>-437710.0</td>\n",
       "      <td>9675.0</td>\n",
       "      <td>-1.0</td>\n",
       "      <td>21.0</td>\n",
       "    </tr>\n",
       "    <tr>\n",
       "      <th>255</th>\n",
       "      <td>CRUDE OIL, LIGHT SWEET - NEW YORK MERCANTILE E...</td>\n",
       "      <td>2019-11-26</td>\n",
       "      <td>470936.0</td>\n",
       "      <td>-474776.0</td>\n",
       "      <td>3840.0</td>\n",
       "      <td>-7.0</td>\n",
       "      <td>28.0</td>\n",
       "    </tr>\n",
       "    <tr>\n",
       "      <th>254</th>\n",
       "      <td>CRUDE OIL, LIGHT SWEET - NEW YORK MERCANTILE E...</td>\n",
       "      <td>2019-11-19</td>\n",
       "      <td>429975.0</td>\n",
       "      <td>-441144.0</td>\n",
       "      <td>11169.0</td>\n",
       "      <td>-2.0</td>\n",
       "      <td>22.0</td>\n",
       "    </tr>\n",
       "  </tbody>\n",
       "</table>\n",
       "</div>"
      ],
      "text/plain": [
       "                             Market_and_Exchange_Names  \\\n",
       "258  CRUDE OIL, LIGHT SWEET - NEW YORK MERCANTILE E...   \n",
       "257  CRUDE OIL, LIGHT SWEET - NEW YORK MERCANTILE E...   \n",
       "256  CRUDE OIL, LIGHT SWEET - NEW YORK MERCANTILE E...   \n",
       "255  CRUDE OIL, LIGHT SWEET - NEW YORK MERCANTILE E...   \n",
       "254  CRUDE OIL, LIGHT SWEET - NEW YORK MERCANTILE E...   \n",
       "\n",
       "    As_of_Date_in_Form_YYYY_MM_DD  Noncommercial_Positions_Net_All  \\\n",
       "258                    2019-12-17                         536377.0   \n",
       "257                    2019-12-10                         495539.0   \n",
       "256                    2019-12-03                         428035.0   \n",
       "255                    2019-11-26                         470936.0   \n",
       "254                    2019-11-19                         429975.0   \n",
       "\n",
       "     Commercial_Positions_Net_All  Nonreportable_Positions_Net_All  \\\n",
       "258                     -541963.0                           5586.0   \n",
       "257                     -501989.0                           6450.0   \n",
       "256                     -437710.0                           9675.0   \n",
       "255                     -474776.0                           3840.0   \n",
       "254                     -441144.0                          11169.0   \n",
       "\n",
       "     Traders_Commercial_Net_All  Traders_Noncommercial_Net_All  \n",
       "258                       -11.0                           65.0  \n",
       "257                        -7.0                           48.0  \n",
       "256                        -1.0                           21.0  \n",
       "255                        -7.0                           28.0  \n",
       "254                        -2.0                           22.0  "
      ]
     },
     "execution_count": 16,
     "metadata": {},
     "output_type": "execute_result"
    }
   ],
   "source": [
    "def non_comm_net(r):\n",
    "    return float(r.Noncommercial_Positions_Long_All) - float(r.Noncommercial_Positions_Short_All)\n",
    "def comm_net(r):\n",
    "    return float(r.Commercial_Positions_Long_All) - float(r.Commercial_Positions_Short_All)\n",
    "def non_report_net(r):\n",
    "    return float(r.Nonreportable_Positions_Long_All) - float(r.Nonreportable_Positions_Short_All)\n",
    "def traders_comm_net(r):\n",
    "    return float(r.Traders_Commercial_Long_All) - float(r.Traders_Commercial_Short_All)\n",
    "def traders_noncomm_net(r):\n",
    "    return float(r.Traders_Noncommercial_Long_All) - float(r.Traders_Noncommercial_Short_All)\n",
    "\n",
    "df_commod_net = df_commod_long.merge(df_commod_short,how='inner',on=['Market_and_Exchange_Names','As_of_Date_in_Form_YYYY_MM_DD'])\n",
    "df_commod_net['Noncommercial_Positions_Net_All'] = df_commod_net.apply(non_comm_net,axis=1)\n",
    "df_commod_net['Commercial_Positions_Net_All'] = df_commod_net.apply(comm_net,axis=1)\n",
    "df_commod_net['Nonreportable_Positions_Net_All'] = df_commod_net.apply(non_report_net,axis=1)\n",
    "df_commod_net['Traders_Commercial_Net_All'] = df_commod_net.apply(traders_comm_net,axis=1)\n",
    "df_commod_net['Traders_Noncommercial_Net_All'] = df_commod_net.apply(traders_noncomm_net,axis=1)\n",
    "net_cols = ['Market_and_Exchange_Names','As_of_Date_in_Form_YYYY_MM_DD','Noncommercial_Positions_Net_All','Commercial_Positions_Net_All','Nonreportable_Positions_Net_All','Traders_Commercial_Net_All','Traders_Noncommercial_Net_All']\n",
    "df_commod_net = df_commod_net[net_cols]\n",
    "df_commod_net.sort_values('As_of_Date_in_Form_YYYY_MM_DD',ascending=False).head()\n"
   ]
  },
  {
   "cell_type": "markdown",
   "metadata": {},
   "source": [
    "## END"
   ]
  },
  {
   "cell_type": "code",
   "execution_count": 17,
   "metadata": {},
   "outputs": [
    {
     "data": {
      "text/plain": [
       "array(['LONG-TERM U.S. TREASURY BONDS - CHICAGO BOARD OF TRADE',\n",
       "       'LONG-TERM U.S. TREASURY BONDS - CHICAGO BOARD OF TRADE ',\n",
       "       'MUNICIPAL BOND INDEX - CHICAGO BOARD OF TRADE ',\n",
       "       'U.S. TREASURY BONDS - CHICAGO BOARD OF TRADE',\n",
       "       'U.S. TREASURY BONDS - CHICAGO BOARD OF TRADE ',\n",
       "       'U.S. TREASURY BONDS - MIDAMERICA COMMODITY EXCHANGE ',\n",
       "       'ULTRA U.S. TREASURY BONDS - CHICAGO BOARD OF TRADE'], dtype=object)"
      ]
     },
     "execution_count": 17,
     "metadata": {},
     "output_type": "execute_result"
    }
   ],
   "source": [
    "df_cot2[df_cot2.Market_and_Exchange_Names.str.lower().str.contains('bond')].Market_and_Exchange_Names.unique()\n"
   ]
  },
  {
   "cell_type": "code",
   "execution_count": 18,
   "metadata": {},
   "outputs": [
    {
     "data": {
      "text/plain": [
       "['As_of_Date_in_Form_YYYY_MM_DD']"
      ]
     },
     "execution_count": 18,
     "metadata": {},
     "output_type": "execute_result"
    }
   ],
   "source": [
    "list(filter(lambda s:'As_of_Date_in_Form_YYYY_MM_DD' in s,df_cot2.columns.values))"
   ]
  },
  {
   "cell_type": "code",
   "execution_count": 19,
   "metadata": {},
   "outputs": [
    {
     "data": {
      "text/plain": [
       "314"
      ]
     },
     "execution_count": 19,
     "metadata": {},
     "output_type": "execute_result"
    }
   ],
   "source": [
    "df_wheat = df_cot2[df_cot2.Market_and_Exchange_Names.str.contains('WHEAT-SRW - CHICAGO BOARD OF TRADE')]\n",
    "len(df_wheat)\n",
    "# np.sort(df_wheat.As_of_Date_in_Form_YYYY_MM_DD.unique())"
   ]
  },
  {
   "cell_type": "code",
   "execution_count": 20,
   "metadata": {},
   "outputs": [
    {
     "data": {
      "text/plain": [
       "Timestamp('2019-12-17 00:00:00')"
      ]
     },
     "execution_count": 20,
     "metadata": {},
     "output_type": "execute_result"
    }
   ],
   "source": [
    "df_cot2[df_cot2.Market_and_Exchange_Names.str.contains('WHEAT-HRW - CHICAGO BOARD OF TRADE')].As_of_Date_in_Form_YYYY_MM_DD.max()"
   ]
  },
  {
   "cell_type": "code",
   "execution_count": null,
   "metadata": {},
   "outputs": [],
   "source": []
  },
  {
   "cell_type": "code",
   "execution_count": null,
   "metadata": {},
   "outputs": [],
   "source": []
  }
 ],
 "metadata": {
  "kernelspec": {
   "display_name": "Python 3",
   "language": "python",
   "name": "python3"
  },
  "language_info": {
   "codemirror_mode": {
    "name": "ipython",
    "version": 3
   },
   "file_extension": ".py",
   "mimetype": "text/x-python",
   "name": "python",
   "nbconvert_exporter": "python",
   "pygments_lexer": "ipython3",
   "version": "3.6.5"
  }
 },
 "nbformat": 4,
 "nbformat_minor": 2
}
