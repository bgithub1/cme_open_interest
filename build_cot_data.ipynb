{
 "cells": [
  {
   "cell_type": "markdown",
   "metadata": {},
   "source": [
    "## Build history of commodity COTs\n",
    "\n",
    "1. Retrieve data from the CFTC website (www.cft.gov/files);\n",
    "2. Extract data from the most important Commercial and Non Commercial long and short columns;\n",
    "3. Create \"net\" columns for each important category;\n",
    "4. Merge this data with the ETF history data created in the previous steps\n"
   ]
  },
  {
   "cell_type": "code",
   "execution_count": 1,
   "metadata": {},
   "outputs": [],
   "source": [
    "import pandas as pd\n",
    "import numpy as np\n",
    "import os, sys\n",
    "import datetime\n",
    "%matplotlib inline\n",
    "import matplotlib.pyplot as plt\n",
    "import plotly.plotly as py\n",
    "import plotly.graph_objs as go\n",
    "import zipfile\n",
    "import urllib.request\n",
    "from PIL import Image\n",
    "def str_to_date(d):\n",
    "    try:\n",
    "        dt = datetime.datetime.strptime(str(d),'%Y-%m-%d')\n",
    "    except:\n",
    "        return None\n",
    "    return dt\n",
    "\n",
    "# Make important folders\n",
    "TEMP_FOLDER = './temp_folder'\n",
    "try:\n",
    "    os.mkdir(TEMP_FOLDER)\n",
    "except:\n",
    "    pass\n",
    "try:\n",
    "    os.mkdir(f'{TEMP_FOLDER}/cot')\n",
    "except:\n",
    "    pass\n",
    "try:\n",
    "    os.mkdir(f'{TEMP_FOLDER}/zip')\n",
    "except:\n",
    "    pass\n"
   ]
  },
  {
   "cell_type": "markdown",
   "metadata": {},
   "source": [
    "___\n",
    "## First, decide if you want to re-create the ETF and COT data, or just retrieve the previously saved data DataFrames."
   ]
  },
  {
   "cell_type": "code",
   "execution_count": 2,
   "metadata": {},
   "outputs": [],
   "source": [
    "CREATE_COT_DATA = True\n",
    "cot_save_path = './cot_history.csv'"
   ]
  },
  {
   "cell_type": "markdown",
   "metadata": {},
   "source": [
    "___\n",
    "## Process CFTC COT Data\n",
    "___"
   ]
  },
  {
   "cell_type": "markdown",
   "metadata": {},
   "source": [
    "### Initial processing\n",
    "1. Download zip files from www.cft.gov/files;\n",
    "2. Unip the files using the zipfile package;\n",
    "3. Read each csv (usually named Annual.TXT), and merge them into the df_cot DataFrame.\n"
   ]
  },
  {
   "cell_type": "code",
   "execution_count": 3,
   "metadata": {
    "scrolled": true
   },
   "outputs": [
    {
     "name": "stdout",
     "output_type": "stream",
     "text": [
      "processed cot csv file from https://www.cftc.gov/files/dea/history/deacot2000.zip. Length = 3261\n",
      "processed cot csv file from https://www.cftc.gov/files/dea/history/deacot2001.zip. Length = 2782\n",
      "processed cot csv file from https://www.cftc.gov/files/dea/history/deacot2002.zip. Length = 2854\n",
      "processed cot csv file from https://www.cftc.gov/files/dea/history/deacot2003.zip. Length = 3135\n",
      "processed cot csv file from https://www.cftc.gov/files/dea/history/deacot2004.zip. Length = 3465\n",
      "processed cot csv file from https://www.cftc.gov/files/dea/history/deacot2005.zip. Length = 3909\n",
      "processed cot csv file from https://www.cftc.gov/files/dea/history/deacot2006.zip. Length = 4926\n",
      "processed cot csv file from https://www.cftc.gov/files/dea/history/deacot2007.zip. Length = 4926\n",
      "processed cot csv file from https://www.cftc.gov/files/dea/history/deacot2008.zip. Length = 5631\n",
      "processed cot csv file from https://www.cftc.gov/files/dea/history/deacot2009.zip. Length = 6570\n",
      "processed cot csv file from https://www.cftc.gov/files/dea/history/deacot2010.zip. Length = 7308\n",
      "processed cot csv file from https://www.cftc.gov/files/dea/history/deacot2011.zip. Length = 7365\n",
      "processed cot csv file from https://www.cftc.gov/files/dea/history/deacot2012.zip. Length = 7838\n",
      "processed cot csv file from https://www.cftc.gov/files/dea/history/deacot2013.zip. Length = 10159\n",
      "processed cot csv file from https://www.cftc.gov/files/dea/history/deacot2014.zip. Length = 12131\n",
      "processed cot csv file from https://www.cftc.gov/files/dea/history/deacot2015.zip. Length = 11610\n",
      "processed cot csv file from https://www.cftc.gov/files/dea/history/deacot2016.zip. Length = 12434\n"
     ]
    },
    {
     "name": "stderr",
     "output_type": "stream",
     "text": [
      "/Users/bperlman1/Virtualenvs3/dashrisk2/lib/python3.6/site-packages/IPython/core/interactiveshell.py:3057: DtypeWarning:\n",
      "\n",
      "Columns (3,37,38,39,40,41,42,43,44,45,46,126) have mixed types. Specify dtype option on import or set low_memory=False.\n",
      "\n"
     ]
    },
    {
     "name": "stdout",
     "output_type": "stream",
     "text": [
      "processed cot csv file from https://www.cftc.gov/files/dea/history/deacot2017.zip. Length = 12314\n",
      "processed cot csv file from https://www.cftc.gov/files/dea/history/deacot2018.zip. Length = 13410\n",
      "retrieving cot zip file from https://www.cftc.gov/files/dea/history/deacot2019.zip\n"
     ]
    },
    {
     "name": "stderr",
     "output_type": "stream",
     "text": [
      "/Users/bperlman1/Virtualenvs3/dashrisk2/lib/python3.6/site-packages/IPython/core/interactiveshell.py:3057: DtypeWarning:\n",
      "\n",
      "Columns (3,126) have mixed types. Specify dtype option on import or set low_memory=False.\n",
      "\n"
     ]
    },
    {
     "name": "stdout",
     "output_type": "stream",
     "text": [
      "processed cot csv file from https://www.cftc.gov/files/dea/history/deacot2019.zip. Length = 8204\n"
     ]
    }
   ],
   "source": [
    "if CREATE_COT_DATA:\n",
    "    last_year = datetime.datetime.now().year\n",
    "    year_list = np.linspace(2000,last_year,last_year-2000+1)\n",
    "    zip_download_folder = f'TEMP_FOLDER/zip'\n",
    "    df_cot_temp = None\n",
    "    df_cot = None\n",
    "    for y in year_list:\n",
    "        yint = int(y)\n",
    "        url = f\"https://www.cftc.gov/files/dea/history/deacot{yint}.zip\"\n",
    "        path_to_zip_file = f'{zip_download_folder}/dea_fut_xls_{y}.zip'\n",
    "        if not os.path.isfile(path_to_zip_file) or y >= last_year:\n",
    "            print(f'retrieving cot zip file from {url}')\n",
    "            try:\n",
    "                urllib.request.urlretrieve(url, path_to_zip_file)    \n",
    "            except:\n",
    "                import time\n",
    "                time.sleep(1)\n",
    "                urllib.request.urlretrieve(url, path_to_zip_file)    \n",
    "        zip_ref = zipfile.ZipFile(path_to_zip_file, 'r')\n",
    "        zip_ref.extractall(zip_download_folder)\n",
    "        zip_ref.close()\n",
    "        df_cot_temp = pd.read_csv(f'{zip_download_folder}/Annual.TXT')\n",
    "        if df_cot is None:\n",
    "            df_cot = df_cot_temp.copy()\n",
    "        else:\n",
    "            df_cot = df_cot.append(df_cot_temp,ignore_index=True)\n",
    "            df_cot.index = list(range(len(df_cot)))\n",
    "        print(f'processed cot csv file from {url}. Length = {len(df_cot_temp)}')\n",
    "        \n",
    "    df_cot.head()"
   ]
  },
  {
   "cell_type": "markdown",
   "metadata": {},
   "source": [
    "___\n",
    "### Make column names easier to process, make main date field a datetime object, and sort the DataFrame\n",
    "___"
   ]
  },
  {
   "cell_type": "code",
   "execution_count": 4,
   "metadata": {},
   "outputs": [],
   "source": [
    "if CREATE_COT_DATA:\n",
    "    col_rename_dict = {c:c.replace(' ','_').replace('-','_').replace('(','').replace(')','') for c in df_cot.columns.values}\n",
    "    df_cot2 = df_cot.rename(columns=col_rename_dict)\n",
    "    df_cot2.As_of_Date_in_Form_YYYY_MM_DD = df_cot2.As_of_Date_in_Form_YYYY_MM_DD.apply(str_to_date)\n",
    "    df_cot2 = df_cot2.sort_values(['Market_and_Exchange_Names','As_of_Date_in_Form_YYYY_MM_DD'])\n",
    "    df_cot2.columns.values\n",
    "    df_cot2.to_csv(cot_save_path,index=False)"
   ]
  },
  {
   "cell_type": "markdown",
   "metadata": {},
   "source": [
    "___\n",
    "### Show important columns for a specific  commodity\n",
    "___"
   ]
  },
  {
   "cell_type": "code",
   "execution_count": 5,
   "metadata": {},
   "outputs": [
    {
     "data": {
      "text/plain": [
       "144232"
      ]
     },
     "execution_count": 5,
     "metadata": {},
     "output_type": "execute_result"
    }
   ],
   "source": [
    "len(df_cot2)"
   ]
  },
  {
   "cell_type": "code",
   "execution_count": 6,
   "metadata": {},
   "outputs": [
    {
     "name": "stderr",
     "output_type": "stream",
     "text": [
      "/Users/bperlman1/Virtualenvs3/dashrisk2/lib/python3.6/site-packages/ipykernel_launcher.py:6: UserWarning:\n",
      "\n",
      "Boolean Series key will be reindexed to match DataFrame index.\n",
      "\n"
     ]
    }
   ],
   "source": [
    "df_cot2 = pd.read_csv(cot_save_path)\n",
    "df_cot2.As_of_Date_in_Form_YYYY_MM_DD = df_cot2.As_of_Date_in_Form_YYYY_MM_DD.apply(str_to_date)\n",
    "commod = 'CRUDE OIL, LIGHT SWEET - NEW YORK MERCANTILE EXCHANGE'\n",
    "# commod = 'GOLD'\n",
    "cot_beg_date = datetime.datetime.now() - datetime.timedelta(2000)\n",
    "df_commod = df_cot2[df_cot2.Market_and_Exchange_Names.str.contains(commod)][df_cot2.As_of_Date_in_Form_YYYY_MM_DD>=cot_beg_date]\n",
    "basic_cols = ['Market_and_Exchange_Names','As_of_Date_in_Form_YYYY_MM_DD','Open_Interest_All']\n",
    "long_cols = ['Market_and_Exchange_Names','As_of_Date_in_Form_YYYY_MM_DD',\n",
    "            'Noncommercial_Positions_Long_All','Commercial_Positions_Long_All',\n",
    "            'Nonreportable_Positions_Long_All','Traders_Commercial_Long_All',\n",
    "             'Traders_Noncommercial_Long_All','Traders_Total_Reportable_Long_All']\n",
    "short_cols = ['Market_and_Exchange_Names','As_of_Date_in_Form_YYYY_MM_DD',\n",
    "            'Noncommercial_Positions_Short_All','Commercial_Positions_Short_All',\n",
    "            'Nonreportable_Positions_Short_All','Total_Reportable_Positions_Short_All',\n",
    "            'Traders_Commercial_Short_All','Traders_Noncommercial_Short_All',\n",
    "            'Traders_Total_Reportable_Short_All']\n",
    "df_commod_basic = df_commod[basic_cols]\n",
    "df_commod_long = df_commod[long_cols]\n",
    "df_commod_short = df_commod[short_cols]\n"
   ]
  },
  {
   "cell_type": "markdown",
   "metadata": {},
   "source": [
    "### Show basic open interest info"
   ]
  },
  {
   "cell_type": "code",
   "execution_count": 7,
   "metadata": {},
   "outputs": [
    {
     "data": {
      "text/html": [
       "<div>\n",
       "<style scoped>\n",
       "    .dataframe tbody tr th:only-of-type {\n",
       "        vertical-align: middle;\n",
       "    }\n",
       "\n",
       "    .dataframe tbody tr th {\n",
       "        vertical-align: top;\n",
       "    }\n",
       "\n",
       "    .dataframe thead th {\n",
       "        text-align: right;\n",
       "    }\n",
       "</style>\n",
       "<table border=\"1\" class=\"dataframe\">\n",
       "  <thead>\n",
       "    <tr style=\"text-align: right;\">\n",
       "      <th></th>\n",
       "      <th>Market_and_Exchange_Names</th>\n",
       "      <th>As_of_Date_in_Form_YYYY_MM_DD</th>\n",
       "      <th>Open_Interest_All</th>\n",
       "    </tr>\n",
       "  </thead>\n",
       "  <tbody>\n",
       "    <tr>\n",
       "      <th>27435</th>\n",
       "      <td>CRUDE OIL, LIGHT SWEET - NEW YORK MERCANTILE E...</td>\n",
       "      <td>2019-08-13</td>\n",
       "      <td>2059135</td>\n",
       "    </tr>\n",
       "    <tr>\n",
       "      <th>27434</th>\n",
       "      <td>CRUDE OIL, LIGHT SWEET - NEW YORK MERCANTILE E...</td>\n",
       "      <td>2019-08-06</td>\n",
       "      <td>2070210</td>\n",
       "    </tr>\n",
       "    <tr>\n",
       "      <th>27433</th>\n",
       "      <td>CRUDE OIL, LIGHT SWEET - NEW YORK MERCANTILE E...</td>\n",
       "      <td>2019-07-30</td>\n",
       "      <td>2069072</td>\n",
       "    </tr>\n",
       "    <tr>\n",
       "      <th>27432</th>\n",
       "      <td>CRUDE OIL, LIGHT SWEET - NEW YORK MERCANTILE E...</td>\n",
       "      <td>2019-07-23</td>\n",
       "      <td>2056492</td>\n",
       "    </tr>\n",
       "    <tr>\n",
       "      <th>27431</th>\n",
       "      <td>CRUDE OIL, LIGHT SWEET - NEW YORK MERCANTILE E...</td>\n",
       "      <td>2019-07-16</td>\n",
       "      <td>2089629</td>\n",
       "    </tr>\n",
       "  </tbody>\n",
       "</table>\n",
       "</div>"
      ],
      "text/plain": [
       "                               Market_and_Exchange_Names  \\\n",
       "27435  CRUDE OIL, LIGHT SWEET - NEW YORK MERCANTILE E...   \n",
       "27434  CRUDE OIL, LIGHT SWEET - NEW YORK MERCANTILE E...   \n",
       "27433  CRUDE OIL, LIGHT SWEET - NEW YORK MERCANTILE E...   \n",
       "27432  CRUDE OIL, LIGHT SWEET - NEW YORK MERCANTILE E...   \n",
       "27431  CRUDE OIL, LIGHT SWEET - NEW YORK MERCANTILE E...   \n",
       "\n",
       "      As_of_Date_in_Form_YYYY_MM_DD  Open_Interest_All  \n",
       "27435                    2019-08-13            2059135  \n",
       "27434                    2019-08-06            2070210  \n",
       "27433                    2019-07-30            2069072  \n",
       "27432                    2019-07-23            2056492  \n",
       "27431                    2019-07-16            2089629  "
      ]
     },
     "execution_count": 7,
     "metadata": {},
     "output_type": "execute_result"
    }
   ],
   "source": [
    "df_commod_basic.sort_values('As_of_Date_in_Form_YYYY_MM_DD',ascending=False).head()"
   ]
  },
  {
   "cell_type": "markdown",
   "metadata": {},
   "source": [
    "### Show important \"long\" position info"
   ]
  },
  {
   "cell_type": "code",
   "execution_count": 8,
   "metadata": {
    "scrolled": true
   },
   "outputs": [
    {
     "data": {
      "text/html": [
       "<div>\n",
       "<style scoped>\n",
       "    .dataframe tbody tr th:only-of-type {\n",
       "        vertical-align: middle;\n",
       "    }\n",
       "\n",
       "    .dataframe tbody tr th {\n",
       "        vertical-align: top;\n",
       "    }\n",
       "\n",
       "    .dataframe thead th {\n",
       "        text-align: right;\n",
       "    }\n",
       "</style>\n",
       "<table border=\"1\" class=\"dataframe\">\n",
       "  <thead>\n",
       "    <tr style=\"text-align: right;\">\n",
       "      <th></th>\n",
       "      <th>Market_and_Exchange_Names</th>\n",
       "      <th>As_of_Date_in_Form_YYYY_MM_DD</th>\n",
       "      <th>Noncommercial_Positions_Long_All</th>\n",
       "      <th>Commercial_Positions_Long_All</th>\n",
       "      <th>Nonreportable_Positions_Long_All</th>\n",
       "      <th>Traders_Commercial_Long_All</th>\n",
       "      <th>Traders_Noncommercial_Long_All</th>\n",
       "      <th>Traders_Total_Reportable_Long_All</th>\n",
       "    </tr>\n",
       "  </thead>\n",
       "  <tbody>\n",
       "    <tr>\n",
       "      <th>27435</th>\n",
       "      <td>CRUDE OIL, LIGHT SWEET - NEW YORK MERCANTILE E...</td>\n",
       "      <td>2019-08-13</td>\n",
       "      <td>547040</td>\n",
       "      <td>715157</td>\n",
       "      <td>72466</td>\n",
       "      <td>97</td>\n",
       "      <td>121</td>\n",
       "      <td>314</td>\n",
       "    </tr>\n",
       "    <tr>\n",
       "      <th>27434</th>\n",
       "      <td>CRUDE OIL, LIGHT SWEET - NEW YORK MERCANTILE E...</td>\n",
       "      <td>2019-08-06</td>\n",
       "      <td>540924</td>\n",
       "      <td>760794</td>\n",
       "      <td>76159</td>\n",
       "      <td>93</td>\n",
       "      <td>116</td>\n",
       "      <td>301</td>\n",
       "    </tr>\n",
       "    <tr>\n",
       "      <th>27433</th>\n",
       "      <td>CRUDE OIL, LIGHT SWEET - NEW YORK MERCANTILE E...</td>\n",
       "      <td>2019-07-30</td>\n",
       "      <td>540238</td>\n",
       "      <td>732821</td>\n",
       "      <td>78401</td>\n",
       "      <td>89</td>\n",
       "      <td>122</td>\n",
       "      <td>298</td>\n",
       "    </tr>\n",
       "    <tr>\n",
       "      <th>27432</th>\n",
       "      <td>CRUDE OIL, LIGHT SWEET - NEW YORK MERCANTILE E...</td>\n",
       "      <td>2019-07-23</td>\n",
       "      <td>537940</td>\n",
       "      <td>710726</td>\n",
       "      <td>77239</td>\n",
       "      <td>91</td>\n",
       "      <td>126</td>\n",
       "      <td>295</td>\n",
       "    </tr>\n",
       "    <tr>\n",
       "      <th>27431</th>\n",
       "      <td>CRUDE OIL, LIGHT SWEET - NEW YORK MERCANTILE E...</td>\n",
       "      <td>2019-07-16</td>\n",
       "      <td>545484</td>\n",
       "      <td>718705</td>\n",
       "      <td>84384</td>\n",
       "      <td>93</td>\n",
       "      <td>119</td>\n",
       "      <td>305</td>\n",
       "    </tr>\n",
       "  </tbody>\n",
       "</table>\n",
       "</div>"
      ],
      "text/plain": [
       "                               Market_and_Exchange_Names  \\\n",
       "27435  CRUDE OIL, LIGHT SWEET - NEW YORK MERCANTILE E...   \n",
       "27434  CRUDE OIL, LIGHT SWEET - NEW YORK MERCANTILE E...   \n",
       "27433  CRUDE OIL, LIGHT SWEET - NEW YORK MERCANTILE E...   \n",
       "27432  CRUDE OIL, LIGHT SWEET - NEW YORK MERCANTILE E...   \n",
       "27431  CRUDE OIL, LIGHT SWEET - NEW YORK MERCANTILE E...   \n",
       "\n",
       "      As_of_Date_in_Form_YYYY_MM_DD  Noncommercial_Positions_Long_All  \\\n",
       "27435                    2019-08-13                            547040   \n",
       "27434                    2019-08-06                            540924   \n",
       "27433                    2019-07-30                            540238   \n",
       "27432                    2019-07-23                            537940   \n",
       "27431                    2019-07-16                            545484   \n",
       "\n",
       "       Commercial_Positions_Long_All  Nonreportable_Positions_Long_All  \\\n",
       "27435                         715157                             72466   \n",
       "27434                         760794                             76159   \n",
       "27433                         732821                             78401   \n",
       "27432                         710726                             77239   \n",
       "27431                         718705                             84384   \n",
       "\n",
       "       Traders_Commercial_Long_All  Traders_Noncommercial_Long_All  \\\n",
       "27435                           97                             121   \n",
       "27434                           93                             116   \n",
       "27433                           89                             122   \n",
       "27432                           91                             126   \n",
       "27431                           93                             119   \n",
       "\n",
       "       Traders_Total_Reportable_Long_All  \n",
       "27435                                314  \n",
       "27434                                301  \n",
       "27433                                298  \n",
       "27432                                295  \n",
       "27431                                305  "
      ]
     },
     "execution_count": 8,
     "metadata": {},
     "output_type": "execute_result"
    }
   ],
   "source": [
    "df_commod_long.sort_values('As_of_Date_in_Form_YYYY_MM_DD',ascending=False).head()"
   ]
  },
  {
   "cell_type": "markdown",
   "metadata": {},
   "source": [
    "### Show important \"short\" position info"
   ]
  },
  {
   "cell_type": "code",
   "execution_count": 9,
   "metadata": {},
   "outputs": [
    {
     "data": {
      "text/html": [
       "<div>\n",
       "<style scoped>\n",
       "    .dataframe tbody tr th:only-of-type {\n",
       "        vertical-align: middle;\n",
       "    }\n",
       "\n",
       "    .dataframe tbody tr th {\n",
       "        vertical-align: top;\n",
       "    }\n",
       "\n",
       "    .dataframe thead th {\n",
       "        text-align: right;\n",
       "    }\n",
       "</style>\n",
       "<table border=\"1\" class=\"dataframe\">\n",
       "  <thead>\n",
       "    <tr style=\"text-align: right;\">\n",
       "      <th></th>\n",
       "      <th>Market_and_Exchange_Names</th>\n",
       "      <th>As_of_Date_in_Form_YYYY_MM_DD</th>\n",
       "      <th>Noncommercial_Positions_Short_All</th>\n",
       "      <th>Commercial_Positions_Short_All</th>\n",
       "      <th>Nonreportable_Positions_Short_All</th>\n",
       "      <th>Total_Reportable_Positions_Short_All</th>\n",
       "      <th>Traders_Commercial_Short_All</th>\n",
       "      <th>Traders_Noncommercial_Short_All</th>\n",
       "      <th>Traders_Total_Reportable_Short_All</th>\n",
       "    </tr>\n",
       "  </thead>\n",
       "  <tbody>\n",
       "    <tr>\n",
       "      <th>27435</th>\n",
       "      <td>CRUDE OIL, LIGHT SWEET - NEW YORK MERCANTILE E...</td>\n",
       "      <td>2019-08-13</td>\n",
       "      <td>164896</td>\n",
       "      <td>1086691</td>\n",
       "      <td>83076</td>\n",
       "      <td>1976059</td>\n",
       "      <td>102</td>\n",
       "      <td>109</td>\n",
       "      <td>304</td>\n",
       "    </tr>\n",
       "    <tr>\n",
       "      <th>27434</th>\n",
       "      <td>CRUDE OIL, LIGHT SWEET - NEW YORK MERCANTILE E...</td>\n",
       "      <td>2019-08-06</td>\n",
       "      <td>165283</td>\n",
       "      <td>1134883</td>\n",
       "      <td>77711</td>\n",
       "      <td>1992499</td>\n",
       "      <td>101</td>\n",
       "      <td>104</td>\n",
       "      <td>304</td>\n",
       "    </tr>\n",
       "    <tr>\n",
       "      <th>27433</th>\n",
       "      <td>CRUDE OIL, LIGHT SWEET - NEW YORK MERCANTILE E...</td>\n",
       "      <td>2019-07-30</td>\n",
       "      <td>152947</td>\n",
       "      <td>1119888</td>\n",
       "      <td>78625</td>\n",
       "      <td>1990447</td>\n",
       "      <td>100</td>\n",
       "      <td>103</td>\n",
       "      <td>298</td>\n",
       "    </tr>\n",
       "    <tr>\n",
       "      <th>27432</th>\n",
       "      <td>CRUDE OIL, LIGHT SWEET - NEW YORK MERCANTILE E...</td>\n",
       "      <td>2019-07-23</td>\n",
       "      <td>140089</td>\n",
       "      <td>1108214</td>\n",
       "      <td>77602</td>\n",
       "      <td>1978890</td>\n",
       "      <td>100</td>\n",
       "      <td>99</td>\n",
       "      <td>298</td>\n",
       "    </tr>\n",
       "    <tr>\n",
       "      <th>27431</th>\n",
       "      <td>CRUDE OIL, LIGHT SWEET - NEW YORK MERCANTILE E...</td>\n",
       "      <td>2019-07-16</td>\n",
       "      <td>121722</td>\n",
       "      <td>1150251</td>\n",
       "      <td>76600</td>\n",
       "      <td>2013029</td>\n",
       "      <td>104</td>\n",
       "      <td>97</td>\n",
       "      <td>289</td>\n",
       "    </tr>\n",
       "  </tbody>\n",
       "</table>\n",
       "</div>"
      ],
      "text/plain": [
       "                               Market_and_Exchange_Names  \\\n",
       "27435  CRUDE OIL, LIGHT SWEET - NEW YORK MERCANTILE E...   \n",
       "27434  CRUDE OIL, LIGHT SWEET - NEW YORK MERCANTILE E...   \n",
       "27433  CRUDE OIL, LIGHT SWEET - NEW YORK MERCANTILE E...   \n",
       "27432  CRUDE OIL, LIGHT SWEET - NEW YORK MERCANTILE E...   \n",
       "27431  CRUDE OIL, LIGHT SWEET - NEW YORK MERCANTILE E...   \n",
       "\n",
       "      As_of_Date_in_Form_YYYY_MM_DD  Noncommercial_Positions_Short_All  \\\n",
       "27435                    2019-08-13                             164896   \n",
       "27434                    2019-08-06                             165283   \n",
       "27433                    2019-07-30                             152947   \n",
       "27432                    2019-07-23                             140089   \n",
       "27431                    2019-07-16                             121722   \n",
       "\n",
       "       Commercial_Positions_Short_All  Nonreportable_Positions_Short_All  \\\n",
       "27435                         1086691                              83076   \n",
       "27434                         1134883                              77711   \n",
       "27433                         1119888                              78625   \n",
       "27432                         1108214                              77602   \n",
       "27431                         1150251                              76600   \n",
       "\n",
       "       Total_Reportable_Positions_Short_All  Traders_Commercial_Short_All  \\\n",
       "27435                               1976059                           102   \n",
       "27434                               1992499                           101   \n",
       "27433                               1990447                           100   \n",
       "27432                               1978890                           100   \n",
       "27431                               2013029                           104   \n",
       "\n",
       "       Traders_Noncommercial_Short_All  Traders_Total_Reportable_Short_All  \n",
       "27435                              109                                 304  \n",
       "27434                              104                                 304  \n",
       "27433                              103                                 298  \n",
       "27432                               99                                 298  \n",
       "27431                               97                                 289  "
      ]
     },
     "execution_count": 9,
     "metadata": {},
     "output_type": "execute_result"
    }
   ],
   "source": [
    "df_commod_short.sort_values('As_of_Date_in_Form_YYYY_MM_DD',ascending=False).head()"
   ]
  },
  {
   "cell_type": "markdown",
   "metadata": {},
   "source": [
    "### Show important \"net\" position info"
   ]
  },
  {
   "cell_type": "code",
   "execution_count": 10,
   "metadata": {
    "scrolled": true
   },
   "outputs": [
    {
     "data": {
      "text/html": [
       "<div>\n",
       "<style scoped>\n",
       "    .dataframe tbody tr th:only-of-type {\n",
       "        vertical-align: middle;\n",
       "    }\n",
       "\n",
       "    .dataframe tbody tr th {\n",
       "        vertical-align: top;\n",
       "    }\n",
       "\n",
       "    .dataframe thead th {\n",
       "        text-align: right;\n",
       "    }\n",
       "</style>\n",
       "<table border=\"1\" class=\"dataframe\">\n",
       "  <thead>\n",
       "    <tr style=\"text-align: right;\">\n",
       "      <th></th>\n",
       "      <th>Market_and_Exchange_Names</th>\n",
       "      <th>As_of_Date_in_Form_YYYY_MM_DD</th>\n",
       "      <th>Noncommercial_Positions_Net_All</th>\n",
       "      <th>Commercial_Positions_Net_All</th>\n",
       "      <th>Nonreportable_Positions_Net_All</th>\n",
       "      <th>Traders_Commercial_Net_All</th>\n",
       "      <th>Traders_Noncommercial_Net_All</th>\n",
       "    </tr>\n",
       "  </thead>\n",
       "  <tbody>\n",
       "    <tr>\n",
       "      <th>240</th>\n",
       "      <td>CRUDE OIL, LIGHT SWEET - NEW YORK MERCANTILE E...</td>\n",
       "      <td>2019-08-13</td>\n",
       "      <td>382144.0</td>\n",
       "      <td>-371534.0</td>\n",
       "      <td>-10610.0</td>\n",
       "      <td>-5.0</td>\n",
       "      <td>12.0</td>\n",
       "    </tr>\n",
       "    <tr>\n",
       "      <th>239</th>\n",
       "      <td>CRUDE OIL, LIGHT SWEET - NEW YORK MERCANTILE E...</td>\n",
       "      <td>2019-08-06</td>\n",
       "      <td>375641.0</td>\n",
       "      <td>-374089.0</td>\n",
       "      <td>-1552.0</td>\n",
       "      <td>-8.0</td>\n",
       "      <td>12.0</td>\n",
       "    </tr>\n",
       "    <tr>\n",
       "      <th>238</th>\n",
       "      <td>CRUDE OIL, LIGHT SWEET - NEW YORK MERCANTILE E...</td>\n",
       "      <td>2019-07-30</td>\n",
       "      <td>387291.0</td>\n",
       "      <td>-387067.0</td>\n",
       "      <td>-224.0</td>\n",
       "      <td>-11.0</td>\n",
       "      <td>19.0</td>\n",
       "    </tr>\n",
       "    <tr>\n",
       "      <th>237</th>\n",
       "      <td>CRUDE OIL, LIGHT SWEET - NEW YORK MERCANTILE E...</td>\n",
       "      <td>2019-07-23</td>\n",
       "      <td>397851.0</td>\n",
       "      <td>-397488.0</td>\n",
       "      <td>-363.0</td>\n",
       "      <td>-9.0</td>\n",
       "      <td>27.0</td>\n",
       "    </tr>\n",
       "    <tr>\n",
       "      <th>236</th>\n",
       "      <td>CRUDE OIL, LIGHT SWEET - NEW YORK MERCANTILE E...</td>\n",
       "      <td>2019-07-16</td>\n",
       "      <td>423762.0</td>\n",
       "      <td>-431546.0</td>\n",
       "      <td>7784.0</td>\n",
       "      <td>-11.0</td>\n",
       "      <td>22.0</td>\n",
       "    </tr>\n",
       "  </tbody>\n",
       "</table>\n",
       "</div>"
      ],
      "text/plain": [
       "                             Market_and_Exchange_Names  \\\n",
       "240  CRUDE OIL, LIGHT SWEET - NEW YORK MERCANTILE E...   \n",
       "239  CRUDE OIL, LIGHT SWEET - NEW YORK MERCANTILE E...   \n",
       "238  CRUDE OIL, LIGHT SWEET - NEW YORK MERCANTILE E...   \n",
       "237  CRUDE OIL, LIGHT SWEET - NEW YORK MERCANTILE E...   \n",
       "236  CRUDE OIL, LIGHT SWEET - NEW YORK MERCANTILE E...   \n",
       "\n",
       "    As_of_Date_in_Form_YYYY_MM_DD  Noncommercial_Positions_Net_All  \\\n",
       "240                    2019-08-13                         382144.0   \n",
       "239                    2019-08-06                         375641.0   \n",
       "238                    2019-07-30                         387291.0   \n",
       "237                    2019-07-23                         397851.0   \n",
       "236                    2019-07-16                         423762.0   \n",
       "\n",
       "     Commercial_Positions_Net_All  Nonreportable_Positions_Net_All  \\\n",
       "240                     -371534.0                         -10610.0   \n",
       "239                     -374089.0                          -1552.0   \n",
       "238                     -387067.0                           -224.0   \n",
       "237                     -397488.0                           -363.0   \n",
       "236                     -431546.0                           7784.0   \n",
       "\n",
       "     Traders_Commercial_Net_All  Traders_Noncommercial_Net_All  \n",
       "240                        -5.0                           12.0  \n",
       "239                        -8.0                           12.0  \n",
       "238                       -11.0                           19.0  \n",
       "237                        -9.0                           27.0  \n",
       "236                       -11.0                           22.0  "
      ]
     },
     "execution_count": 10,
     "metadata": {},
     "output_type": "execute_result"
    }
   ],
   "source": [
    "def non_comm_net(r):\n",
    "    return float(r.Noncommercial_Positions_Long_All) - float(r.Noncommercial_Positions_Short_All)\n",
    "def comm_net(r):\n",
    "    return float(r.Commercial_Positions_Long_All) - float(r.Commercial_Positions_Short_All)\n",
    "def non_report_net(r):\n",
    "    return float(r.Nonreportable_Positions_Long_All) - float(r.Nonreportable_Positions_Short_All)\n",
    "def traders_comm_net(r):\n",
    "    return float(r.Traders_Commercial_Long_All) - float(r.Traders_Commercial_Short_All)\n",
    "def traders_noncomm_net(r):\n",
    "    return float(r.Traders_Noncommercial_Long_All) - float(r.Traders_Noncommercial_Short_All)\n",
    "\n",
    "df_commod_net = df_commod_long.merge(df_commod_short,how='inner',on=['Market_and_Exchange_Names','As_of_Date_in_Form_YYYY_MM_DD'])\n",
    "df_commod_net['Noncommercial_Positions_Net_All'] = df_commod_net.apply(non_comm_net,axis=1)\n",
    "df_commod_net['Commercial_Positions_Net_All'] = df_commod_net.apply(comm_net,axis=1)\n",
    "df_commod_net['Nonreportable_Positions_Net_All'] = df_commod_net.apply(non_report_net,axis=1)\n",
    "df_commod_net['Traders_Commercial_Net_All'] = df_commod_net.apply(traders_comm_net,axis=1)\n",
    "df_commod_net['Traders_Noncommercial_Net_All'] = df_commod_net.apply(traders_noncomm_net,axis=1)\n",
    "net_cols = ['Market_and_Exchange_Names','As_of_Date_in_Form_YYYY_MM_DD','Noncommercial_Positions_Net_All','Commercial_Positions_Net_All','Nonreportable_Positions_Net_All','Traders_Commercial_Net_All','Traders_Noncommercial_Net_All']\n",
    "df_commod_net = df_commod_net[net_cols]\n",
    "df_commod_net.sort_values('As_of_Date_in_Form_YYYY_MM_DD',ascending=False).head()\n"
   ]
  },
  {
   "cell_type": "markdown",
   "metadata": {},
   "source": [
    "## END"
   ]
  },
  {
   "cell_type": "code",
   "execution_count": 11,
   "metadata": {},
   "outputs": [
    {
     "data": {
      "text/plain": [
       "array(['LONG-TERM U.S. TREASURY BONDS - CHICAGO BOARD OF TRADE',\n",
       "       'LONG-TERM U.S. TREASURY BONDS - CHICAGO BOARD OF TRADE ',\n",
       "       'MUNICIPAL BOND INDEX - CHICAGO BOARD OF TRADE ',\n",
       "       'U.S. TREASURY BONDS - CHICAGO BOARD OF TRADE',\n",
       "       'U.S. TREASURY BONDS - CHICAGO BOARD OF TRADE ',\n",
       "       'U.S. TREASURY BONDS - MIDAMERICA COMMODITY EXCHANGE ',\n",
       "       'ULTRA U.S. TREASURY BONDS - CHICAGO BOARD OF TRADE'], dtype=object)"
      ]
     },
     "execution_count": 11,
     "metadata": {},
     "output_type": "execute_result"
    }
   ],
   "source": [
    "df_cot2[df_cot2.Market_and_Exchange_Names.str.lower().str.contains('bond')].Market_and_Exchange_Names.unique()\n"
   ]
  },
  {
   "cell_type": "code",
   "execution_count": 12,
   "metadata": {},
   "outputs": [
    {
     "data": {
      "text/plain": [
       "['As_of_Date_in_Form_YYYY_MM_DD']"
      ]
     },
     "execution_count": 12,
     "metadata": {},
     "output_type": "execute_result"
    }
   ],
   "source": [
    "list(filter(lambda s:'As_of_Date_in_Form_YYYY_MM_DD' in s,df_cot2.columns.values))"
   ]
  },
  {
   "cell_type": "code",
   "execution_count": 13,
   "metadata": {},
   "outputs": [
    {
     "data": {
      "text/plain": [
       "296"
      ]
     },
     "execution_count": 13,
     "metadata": {},
     "output_type": "execute_result"
    }
   ],
   "source": [
    "df_wheat = df_cot2[df_cot2.Market_and_Exchange_Names.str.contains('WHEAT-SRW - CHICAGO BOARD OF TRADE')]\n",
    "len(df_wheat)\n",
    "# np.sort(df_wheat.As_of_Date_in_Form_YYYY_MM_DD.unique())"
   ]
  },
  {
   "cell_type": "code",
   "execution_count": 14,
   "metadata": {},
   "outputs": [
    {
     "data": {
      "text/plain": [
       "Timestamp('2019-08-13 00:00:00')"
      ]
     },
     "execution_count": 14,
     "metadata": {},
     "output_type": "execute_result"
    }
   ],
   "source": [
    "df_cot2[df_cot2.Market_and_Exchange_Names.str.contains('WHEAT-HRW - CHICAGO BOARD OF TRADE')].As_of_Date_in_Form_YYYY_MM_DD.max()"
   ]
  },
  {
   "cell_type": "code",
   "execution_count": null,
   "metadata": {},
   "outputs": [],
   "source": []
  }
 ],
 "metadata": {
  "kernelspec": {
   "display_name": "Python 3",
   "language": "python",
   "name": "python3"
  },
  "language_info": {
   "codemirror_mode": {
    "name": "ipython",
    "version": 3
   },
   "file_extension": ".py",
   "mimetype": "text/x-python",
   "name": "python",
   "nbconvert_exporter": "python",
   "pygments_lexer": "ipython3",
   "version": "3.6.5"
  }
 },
 "nbformat": 4,
 "nbformat_minor": 2
}
