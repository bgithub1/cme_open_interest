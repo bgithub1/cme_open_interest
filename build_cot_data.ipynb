{
 "cells": [
  {
   "cell_type": "markdown",
   "metadata": {},
   "source": [
    "## Build history of commodity COTs\n",
    "\n",
    "1. Retrieve data from the CFTC website (www.cft.gov/files);\n",
    "2. Extract data from the most important Commercial and Non Commercial long and short columns;\n",
    "3. Create \"net\" columns for each important category;\n",
    "4. Merge this data with the ETF history data created in the previous steps\n"
   ]
  },
  {
   "cell_type": "code",
   "execution_count": 1,
   "metadata": {},
   "outputs": [],
   "source": [
    "import pandas as pd\n",
    "import numpy as np\n",
    "import os, sys\n",
    "import datetime\n",
    "%matplotlib inline\n",
    "import matplotlib.pyplot as plt\n",
    "import plotly.plotly as py\n",
    "import plotly.graph_objs as go\n",
    "import zipfile\n",
    "import urllib.request\n",
    "from PIL import Image\n",
    "def str_to_date(d):\n",
    "    try:\n",
    "        dt = datetime.datetime.strptime(str(d),'%Y-%m-%d')\n",
    "    except:\n",
    "        return None\n",
    "    return dt\n",
    "\n",
    "# Make important folders\n",
    "TEMP_FOLDER = './temp_folder'\n",
    "try:\n",
    "    os.mkdir(TEMP_FOLDER)\n",
    "except:\n",
    "    pass\n",
    "try:\n",
    "    os.mkdir(f'{TEMP_FOLDER}/cot')\n",
    "except:\n",
    "    pass\n",
    "try:\n",
    "    os.mkdir(f'{TEMP_FOLDER}/zip')\n",
    "except:\n",
    "    pass\n"
   ]
  },
  {
   "cell_type": "markdown",
   "metadata": {},
   "source": [
    "___\n",
    "## First, decide if you want to re-create the ETF and COT data, or just retrieve the previously saved data DataFrames."
   ]
  },
  {
   "cell_type": "code",
   "execution_count": 2,
   "metadata": {},
   "outputs": [],
   "source": [
    "CREATE_COT_DATA = True\n",
    "cot_save_path = './cot_history.csv'"
   ]
  },
  {
   "cell_type": "markdown",
   "metadata": {},
   "source": [
    "___\n",
    "## Process CFTC COT Data\n",
    "___"
   ]
  },
  {
   "cell_type": "markdown",
   "metadata": {},
   "source": [
    "### Initial processing\n",
    "1. Download zip files from www.cft.gov/files;\n",
    "2. Unip the files using the zipfile package;\n",
    "3. Read each csv (usually named Annual.TXT), and merge them into the df_cot DataFrame.\n"
   ]
  },
  {
   "cell_type": "code",
   "execution_count": 3,
   "metadata": {
    "scrolled": true
   },
   "outputs": [
    {
     "name": "stdout",
     "output_type": "stream",
     "text": [
      "processed cot csv file from https://www.cftc.gov/files/dea/history/deacot2000.zip. Length = 3261\n",
      "processed cot csv file from https://www.cftc.gov/files/dea/history/deacot2001.zip. Length = 2782\n",
      "processed cot csv file from https://www.cftc.gov/files/dea/history/deacot2002.zip. Length = 2854\n",
      "processed cot csv file from https://www.cftc.gov/files/dea/history/deacot2003.zip. Length = 3135\n",
      "processed cot csv file from https://www.cftc.gov/files/dea/history/deacot2004.zip. Length = 3465\n",
      "processed cot csv file from https://www.cftc.gov/files/dea/history/deacot2005.zip. Length = 3909\n",
      "processed cot csv file from https://www.cftc.gov/files/dea/history/deacot2006.zip. Length = 4926\n",
      "processed cot csv file from https://www.cftc.gov/files/dea/history/deacot2007.zip. Length = 4926\n",
      "processed cot csv file from https://www.cftc.gov/files/dea/history/deacot2008.zip. Length = 5631\n",
      "processed cot csv file from https://www.cftc.gov/files/dea/history/deacot2009.zip. Length = 6570\n",
      "processed cot csv file from https://www.cftc.gov/files/dea/history/deacot2010.zip. Length = 7308\n",
      "processed cot csv file from https://www.cftc.gov/files/dea/history/deacot2011.zip. Length = 7365\n",
      "processed cot csv file from https://www.cftc.gov/files/dea/history/deacot2012.zip. Length = 7838\n",
      "processed cot csv file from https://www.cftc.gov/files/dea/history/deacot2013.zip. Length = 10159\n",
      "processed cot csv file from https://www.cftc.gov/files/dea/history/deacot2014.zip. Length = 12131\n"
     ]
    },
    {
     "name": "stderr",
     "output_type": "stream",
     "text": [
      "/Users/bperlman1/Virtualenvs3/pyliverisk/lib/python3.6/site-packages/pandas/core/frame.py:6692: FutureWarning:\n",
      "\n",
      "Sorting because non-concatenation axis is not aligned. A future version\n",
      "of pandas will change to not sort by default.\n",
      "\n",
      "To accept the future behavior, pass 'sort=False'.\n",
      "\n",
      "To retain the current behavior and silence the warning, pass 'sort=True'.\n",
      "\n",
      "\n"
     ]
    },
    {
     "name": "stdout",
     "output_type": "stream",
     "text": [
      "processed cot csv file from https://www.cftc.gov/files/dea/history/deacot2015.zip. Length = 11610\n",
      "processed cot csv file from https://www.cftc.gov/files/dea/history/deacot2016.zip. Length = 12434\n"
     ]
    },
    {
     "name": "stderr",
     "output_type": "stream",
     "text": [
      "/Users/bperlman1/Virtualenvs3/pyliverisk/lib/python3.6/site-packages/IPython/core/interactiveshell.py:2785: DtypeWarning:\n",
      "\n",
      "Columns (3,37,38,39,40,41,42,43,44,45,46,126) have mixed types. Specify dtype option on import or set low_memory=False.\n",
      "\n"
     ]
    },
    {
     "name": "stdout",
     "output_type": "stream",
     "text": [
      "processed cot csv file from https://www.cftc.gov/files/dea/history/deacot2017.zip. Length = 12314\n",
      "processed cot csv file from https://www.cftc.gov/files/dea/history/deacot2018.zip. Length = 13410\n",
      "retrieving cot zip file from https://www.cftc.gov/files/dea/history/deacot2019.zip\n",
      "processed cot csv file from https://www.cftc.gov/files/dea/history/deacot2019.zip. Length = 7162\n"
     ]
    }
   ],
   "source": [
    "if CREATE_COT_DATA:\n",
    "    last_year = datetime.datetime.now().year\n",
    "    year_list = np.linspace(2000,last_year,last_year-2000+1)\n",
    "    zip_download_folder = f'TEMP_FOLDER/zip'\n",
    "    df_cot_temp = None\n",
    "    df_cot = None\n",
    "    for y in year_list:\n",
    "        yint = int(y)\n",
    "        url = f\"https://www.cftc.gov/files/dea/history/deacot{yint}.zip\"\n",
    "        path_to_zip_file = f'{zip_download_folder}/dea_fut_xls_{y}.zip'\n",
    "        if not os.path.isfile(path_to_zip_file) or y >= last_year:\n",
    "            print(f'retrieving cot zip file from {url}')\n",
    "            try:\n",
    "                urllib.request.urlretrieve(url, path_to_zip_file)    \n",
    "            except:\n",
    "                import time\n",
    "                time.sleep(1)\n",
    "                urllib.request.urlretrieve(url, path_to_zip_file)    \n",
    "        zip_ref = zipfile.ZipFile(path_to_zip_file, 'r')\n",
    "        zip_ref.extractall(zip_download_folder)\n",
    "        zip_ref.close()\n",
    "        df_cot_temp = pd.read_csv(f'{zip_download_folder}/Annual.TXT')\n",
    "        if df_cot is None:\n",
    "            df_cot = df_cot_temp.copy()\n",
    "        else:\n",
    "            df_cot = df_cot.append(df_cot_temp,ignore_index=True)\n",
    "            df_cot.index = list(range(len(df_cot)))\n",
    "        print(f'processed cot csv file from {url}. Length = {len(df_cot_temp)}')\n",
    "        \n",
    "    df_cot.head()"
   ]
  },
  {
   "cell_type": "markdown",
   "metadata": {},
   "source": [
    "___\n",
    "### Make column names easier to process, make main date field a datetime object, and sort the DataFrame\n",
    "___"
   ]
  },
  {
   "cell_type": "code",
   "execution_count": 4,
   "metadata": {},
   "outputs": [],
   "source": [
    "if CREATE_COT_DATA:\n",
    "    col_rename_dict = {c:c.replace(' ','_').replace('-','_').replace('(','').replace(')','') for c in df_cot.columns.values}\n",
    "    df_cot2 = df_cot.rename(columns=col_rename_dict)\n",
    "    df_cot2.As_of_Date_in_Form_YYYY_MM_DD = df_cot2.As_of_Date_in_Form_YYYY_MM_DD.apply(str_to_date)\n",
    "    df_cot2 = df_cot2.sort_values(['Market_and_Exchange_Names','As_of_Date_in_Form_YYYY_MM_DD'])\n",
    "    df_cot2.columns.values\n",
    "    df_cot2.to_csv(cot_save_path,index=False)"
   ]
  },
  {
   "cell_type": "markdown",
   "metadata": {},
   "source": [
    "___\n",
    "### Show important columns for a specific  commodity\n",
    "___"
   ]
  },
  {
   "cell_type": "code",
   "execution_count": 5,
   "metadata": {},
   "outputs": [
    {
     "data": {
      "text/plain": [
       "143190"
      ]
     },
     "execution_count": 5,
     "metadata": {},
     "output_type": "execute_result"
    }
   ],
   "source": [
    "len(df_cot2)"
   ]
  },
  {
   "cell_type": "code",
   "execution_count": 6,
   "metadata": {},
   "outputs": [
    {
     "name": "stderr",
     "output_type": "stream",
     "text": [
      "/Users/bperlman1/Virtualenvs3/pyliverisk/lib/python3.6/site-packages/ipykernel_launcher.py:6: UserWarning:\n",
      "\n",
      "Boolean Series key will be reindexed to match DataFrame index.\n",
      "\n"
     ]
    }
   ],
   "source": [
    "df_cot2 = pd.read_csv(cot_save_path)\n",
    "df_cot2.As_of_Date_in_Form_YYYY_MM_DD = df_cot2.As_of_Date_in_Form_YYYY_MM_DD.apply(str_to_date)\n",
    "commod = 'CRUDE OIL, LIGHT SWEET - NEW YORK MERCANTILE EXCHANGE'\n",
    "# commod = 'GOLD'\n",
    "cot_beg_date = datetime.datetime.now() - datetime.timedelta(2000)\n",
    "df_commod = df_cot2[df_cot2.Market_and_Exchange_Names.str.contains(commod)][df_cot2.As_of_Date_in_Form_YYYY_MM_DD>=cot_beg_date]\n",
    "basic_cols = ['Market_and_Exchange_Names','As_of_Date_in_Form_YYYY_MM_DD','Open_Interest_All']\n",
    "long_cols = ['Market_and_Exchange_Names','As_of_Date_in_Form_YYYY_MM_DD',\n",
    "            'Noncommercial_Positions_Long_All','Commercial_Positions_Long_All',\n",
    "            'Nonreportable_Positions_Long_All','Traders_Commercial_Long_All',\n",
    "             'Traders_Noncommercial_Long_All','Traders_Total_Reportable_Long_All']\n",
    "short_cols = ['Market_and_Exchange_Names','As_of_Date_in_Form_YYYY_MM_DD',\n",
    "            'Noncommercial_Positions_Short_All','Commercial_Positions_Short_All',\n",
    "            'Nonreportable_Positions_Short_All','Total_Reportable_Positions_Short_All',\n",
    "            'Traders_Commercial_Short_All','Traders_Noncommercial_Short_All',\n",
    "            'Traders_Total_Reportable_Short_All']\n",
    "df_commod_basic = df_commod[basic_cols]\n",
    "df_commod_long = df_commod[long_cols]\n",
    "df_commod_short = df_commod[short_cols]\n"
   ]
  },
  {
   "cell_type": "markdown",
   "metadata": {},
   "source": [
    "### Show basic open interest info"
   ]
  },
  {
   "cell_type": "code",
   "execution_count": 7,
   "metadata": {},
   "outputs": [
    {
     "data": {
      "text/html": [
       "<div>\n",
       "<style scoped>\n",
       "    .dataframe tbody tr th:only-of-type {\n",
       "        vertical-align: middle;\n",
       "    }\n",
       "\n",
       "    .dataframe tbody tr th {\n",
       "        vertical-align: top;\n",
       "    }\n",
       "\n",
       "    .dataframe thead th {\n",
       "        text-align: right;\n",
       "    }\n",
       "</style>\n",
       "<table border=\"1\" class=\"dataframe\">\n",
       "  <thead>\n",
       "    <tr style=\"text-align: right;\">\n",
       "      <th></th>\n",
       "      <th>Market_and_Exchange_Names</th>\n",
       "      <th>As_of_Date_in_Form_YYYY_MM_DD</th>\n",
       "      <th>Open_Interest_All</th>\n",
       "    </tr>\n",
       "  </thead>\n",
       "  <tbody>\n",
       "    <tr>\n",
       "      <th>27213</th>\n",
       "      <td>CRUDE OIL, LIGHT SWEET - NEW YORK MERCANTILE E...</td>\n",
       "      <td>2019-07-16</td>\n",
       "      <td>2089629</td>\n",
       "    </tr>\n",
       "    <tr>\n",
       "      <th>27212</th>\n",
       "      <td>CRUDE OIL, LIGHT SWEET - NEW YORK MERCANTILE E...</td>\n",
       "      <td>2019-07-09</td>\n",
       "      <td>1999766</td>\n",
       "    </tr>\n",
       "    <tr>\n",
       "      <th>27211</th>\n",
       "      <td>CRUDE OIL, LIGHT SWEET - NEW YORK MERCANTILE E...</td>\n",
       "      <td>2019-07-02</td>\n",
       "      <td>2031169</td>\n",
       "    </tr>\n",
       "    <tr>\n",
       "      <th>27210</th>\n",
       "      <td>CRUDE OIL, LIGHT SWEET - NEW YORK MERCANTILE E...</td>\n",
       "      <td>2019-06-25</td>\n",
       "      <td>2004961</td>\n",
       "    </tr>\n",
       "    <tr>\n",
       "      <th>27209</th>\n",
       "      <td>CRUDE OIL, LIGHT SWEET - NEW YORK MERCANTILE E...</td>\n",
       "      <td>2019-06-18</td>\n",
       "      <td>2003618</td>\n",
       "    </tr>\n",
       "  </tbody>\n",
       "</table>\n",
       "</div>"
      ],
      "text/plain": [
       "                               Market_and_Exchange_Names  \\\n",
       "27213  CRUDE OIL, LIGHT SWEET - NEW YORK MERCANTILE E...   \n",
       "27212  CRUDE OIL, LIGHT SWEET - NEW YORK MERCANTILE E...   \n",
       "27211  CRUDE OIL, LIGHT SWEET - NEW YORK MERCANTILE E...   \n",
       "27210  CRUDE OIL, LIGHT SWEET - NEW YORK MERCANTILE E...   \n",
       "27209  CRUDE OIL, LIGHT SWEET - NEW YORK MERCANTILE E...   \n",
       "\n",
       "      As_of_Date_in_Form_YYYY_MM_DD  Open_Interest_All  \n",
       "27213                    2019-07-16            2089629  \n",
       "27212                    2019-07-09            1999766  \n",
       "27211                    2019-07-02            2031169  \n",
       "27210                    2019-06-25            2004961  \n",
       "27209                    2019-06-18            2003618  "
      ]
     },
     "execution_count": 7,
     "metadata": {},
     "output_type": "execute_result"
    }
   ],
   "source": [
    "df_commod_basic.sort_values('As_of_Date_in_Form_YYYY_MM_DD',ascending=False).head()"
   ]
  },
  {
   "cell_type": "markdown",
   "metadata": {},
   "source": [
    "### Show important \"long\" position info"
   ]
  },
  {
   "cell_type": "code",
   "execution_count": 8,
   "metadata": {
    "scrolled": true
   },
   "outputs": [
    {
     "data": {
      "text/html": [
       "<div>\n",
       "<style scoped>\n",
       "    .dataframe tbody tr th:only-of-type {\n",
       "        vertical-align: middle;\n",
       "    }\n",
       "\n",
       "    .dataframe tbody tr th {\n",
       "        vertical-align: top;\n",
       "    }\n",
       "\n",
       "    .dataframe thead th {\n",
       "        text-align: right;\n",
       "    }\n",
       "</style>\n",
       "<table border=\"1\" class=\"dataframe\">\n",
       "  <thead>\n",
       "    <tr style=\"text-align: right;\">\n",
       "      <th></th>\n",
       "      <th>Market_and_Exchange_Names</th>\n",
       "      <th>As_of_Date_in_Form_YYYY_MM_DD</th>\n",
       "      <th>Noncommercial_Positions_Long_All</th>\n",
       "      <th>Commercial_Positions_Long_All</th>\n",
       "      <th>Nonreportable_Positions_Long_All</th>\n",
       "      <th>Traders_Commercial_Long_All</th>\n",
       "      <th>Traders_Noncommercial_Long_All</th>\n",
       "      <th>Traders_Total_Reportable_Long_All</th>\n",
       "    </tr>\n",
       "  </thead>\n",
       "  <tbody>\n",
       "    <tr>\n",
       "      <th>27213</th>\n",
       "      <td>CRUDE OIL, LIGHT SWEET - NEW YORK MERCANTILE E...</td>\n",
       "      <td>2019-07-16</td>\n",
       "      <td>545484</td>\n",
       "      <td>718705</td>\n",
       "      <td>84384</td>\n",
       "      <td>93</td>\n",
       "      <td>119</td>\n",
       "      <td>305</td>\n",
       "    </tr>\n",
       "    <tr>\n",
       "      <th>27212</th>\n",
       "      <td>CRUDE OIL, LIGHT SWEET - NEW YORK MERCANTILE E...</td>\n",
       "      <td>2019-07-09</td>\n",
       "      <td>505696</td>\n",
       "      <td>709961</td>\n",
       "      <td>79804</td>\n",
       "      <td>95</td>\n",
       "      <td>110</td>\n",
       "      <td>299</td>\n",
       "    </tr>\n",
       "    <tr>\n",
       "      <th>27211</th>\n",
       "      <td>CRUDE OIL, LIGHT SWEET - NEW YORK MERCANTILE E...</td>\n",
       "      <td>2019-07-02</td>\n",
       "      <td>513180</td>\n",
       "      <td>731964</td>\n",
       "      <td>83549</td>\n",
       "      <td>93</td>\n",
       "      <td>119</td>\n",
       "      <td>300</td>\n",
       "    </tr>\n",
       "    <tr>\n",
       "      <th>27210</th>\n",
       "      <td>CRUDE OIL, LIGHT SWEET - NEW YORK MERCANTILE E...</td>\n",
       "      <td>2019-06-25</td>\n",
       "      <td>496941</td>\n",
       "      <td>741191</td>\n",
       "      <td>76092</td>\n",
       "      <td>90</td>\n",
       "      <td>113</td>\n",
       "      <td>293</td>\n",
       "    </tr>\n",
       "    <tr>\n",
       "      <th>27209</th>\n",
       "      <td>CRUDE OIL, LIGHT SWEET - NEW YORK MERCANTILE E...</td>\n",
       "      <td>2019-06-18</td>\n",
       "      <td>502749</td>\n",
       "      <td>731622</td>\n",
       "      <td>78668</td>\n",
       "      <td>100</td>\n",
       "      <td>115</td>\n",
       "      <td>305</td>\n",
       "    </tr>\n",
       "  </tbody>\n",
       "</table>\n",
       "</div>"
      ],
      "text/plain": [
       "                               Market_and_Exchange_Names  \\\n",
       "27213  CRUDE OIL, LIGHT SWEET - NEW YORK MERCANTILE E...   \n",
       "27212  CRUDE OIL, LIGHT SWEET - NEW YORK MERCANTILE E...   \n",
       "27211  CRUDE OIL, LIGHT SWEET - NEW YORK MERCANTILE E...   \n",
       "27210  CRUDE OIL, LIGHT SWEET - NEW YORK MERCANTILE E...   \n",
       "27209  CRUDE OIL, LIGHT SWEET - NEW YORK MERCANTILE E...   \n",
       "\n",
       "      As_of_Date_in_Form_YYYY_MM_DD  Noncommercial_Positions_Long_All  \\\n",
       "27213                    2019-07-16                            545484   \n",
       "27212                    2019-07-09                            505696   \n",
       "27211                    2019-07-02                            513180   \n",
       "27210                    2019-06-25                            496941   \n",
       "27209                    2019-06-18                            502749   \n",
       "\n",
       "       Commercial_Positions_Long_All  Nonreportable_Positions_Long_All  \\\n",
       "27213                         718705                             84384   \n",
       "27212                         709961                             79804   \n",
       "27211                         731964                             83549   \n",
       "27210                         741191                             76092   \n",
       "27209                         731622                             78668   \n",
       "\n",
       "       Traders_Commercial_Long_All  Traders_Noncommercial_Long_All  \\\n",
       "27213                           93                             119   \n",
       "27212                           95                             110   \n",
       "27211                           93                             119   \n",
       "27210                           90                             113   \n",
       "27209                          100                             115   \n",
       "\n",
       "       Traders_Total_Reportable_Long_All  \n",
       "27213                                305  \n",
       "27212                                299  \n",
       "27211                                300  \n",
       "27210                                293  \n",
       "27209                                305  "
      ]
     },
     "execution_count": 8,
     "metadata": {},
     "output_type": "execute_result"
    }
   ],
   "source": [
    "df_commod_long.sort_values('As_of_Date_in_Form_YYYY_MM_DD',ascending=False).head()"
   ]
  },
  {
   "cell_type": "markdown",
   "metadata": {},
   "source": [
    "### Show important \"short\" position info"
   ]
  },
  {
   "cell_type": "code",
   "execution_count": 9,
   "metadata": {},
   "outputs": [
    {
     "data": {
      "text/html": [
       "<div>\n",
       "<style scoped>\n",
       "    .dataframe tbody tr th:only-of-type {\n",
       "        vertical-align: middle;\n",
       "    }\n",
       "\n",
       "    .dataframe tbody tr th {\n",
       "        vertical-align: top;\n",
       "    }\n",
       "\n",
       "    .dataframe thead th {\n",
       "        text-align: right;\n",
       "    }\n",
       "</style>\n",
       "<table border=\"1\" class=\"dataframe\">\n",
       "  <thead>\n",
       "    <tr style=\"text-align: right;\">\n",
       "      <th></th>\n",
       "      <th>Market_and_Exchange_Names</th>\n",
       "      <th>As_of_Date_in_Form_YYYY_MM_DD</th>\n",
       "      <th>Noncommercial_Positions_Short_All</th>\n",
       "      <th>Commercial_Positions_Short_All</th>\n",
       "      <th>Nonreportable_Positions_Short_All</th>\n",
       "      <th>Total_Reportable_Positions_Short_All</th>\n",
       "      <th>Traders_Commercial_Short_All</th>\n",
       "      <th>Traders_Noncommercial_Short_All</th>\n",
       "      <th>Traders_Total_Reportable_Short_All</th>\n",
       "    </tr>\n",
       "  </thead>\n",
       "  <tbody>\n",
       "    <tr>\n",
       "      <th>27213</th>\n",
       "      <td>CRUDE OIL, LIGHT SWEET - NEW YORK MERCANTILE E...</td>\n",
       "      <td>2019-07-16</td>\n",
       "      <td>121722</td>\n",
       "      <td>1150251</td>\n",
       "      <td>76600</td>\n",
       "      <td>2013029</td>\n",
       "      <td>104</td>\n",
       "      <td>97</td>\n",
       "      <td>289</td>\n",
       "    </tr>\n",
       "    <tr>\n",
       "      <th>27212</th>\n",
       "      <td>CRUDE OIL, LIGHT SWEET - NEW YORK MERCANTILE E...</td>\n",
       "      <td>2019-07-09</td>\n",
       "      <td>115547</td>\n",
       "      <td>1102928</td>\n",
       "      <td>76986</td>\n",
       "      <td>1922780</td>\n",
       "      <td>106</td>\n",
       "      <td>94</td>\n",
       "      <td>276</td>\n",
       "    </tr>\n",
       "    <tr>\n",
       "      <th>27211</th>\n",
       "      <td>CRUDE OIL, LIGHT SWEET - NEW YORK MERCANTILE E...</td>\n",
       "      <td>2019-07-02</td>\n",
       "      <td>120370</td>\n",
       "      <td>1130195</td>\n",
       "      <td>78128</td>\n",
       "      <td>1953041</td>\n",
       "      <td>102</td>\n",
       "      <td>87</td>\n",
       "      <td>280</td>\n",
       "    </tr>\n",
       "    <tr>\n",
       "      <th>27210</th>\n",
       "      <td>CRUDE OIL, LIGHT SWEET - NEW YORK MERCANTILE E...</td>\n",
       "      <td>2019-06-25</td>\n",
       "      <td>118138</td>\n",
       "      <td>1116099</td>\n",
       "      <td>79987</td>\n",
       "      <td>1924974</td>\n",
       "      <td>104</td>\n",
       "      <td>95</td>\n",
       "      <td>283</td>\n",
       "    </tr>\n",
       "    <tr>\n",
       "      <th>27209</th>\n",
       "      <td>CRUDE OIL, LIGHT SWEET - NEW YORK MERCANTILE E...</td>\n",
       "      <td>2019-06-18</td>\n",
       "      <td>139662</td>\n",
       "      <td>1094291</td>\n",
       "      <td>79086</td>\n",
       "      <td>1924532</td>\n",
       "      <td>108</td>\n",
       "      <td>95</td>\n",
       "      <td>292</td>\n",
       "    </tr>\n",
       "  </tbody>\n",
       "</table>\n",
       "</div>"
      ],
      "text/plain": [
       "                               Market_and_Exchange_Names  \\\n",
       "27213  CRUDE OIL, LIGHT SWEET - NEW YORK MERCANTILE E...   \n",
       "27212  CRUDE OIL, LIGHT SWEET - NEW YORK MERCANTILE E...   \n",
       "27211  CRUDE OIL, LIGHT SWEET - NEW YORK MERCANTILE E...   \n",
       "27210  CRUDE OIL, LIGHT SWEET - NEW YORK MERCANTILE E...   \n",
       "27209  CRUDE OIL, LIGHT SWEET - NEW YORK MERCANTILE E...   \n",
       "\n",
       "      As_of_Date_in_Form_YYYY_MM_DD  Noncommercial_Positions_Short_All  \\\n",
       "27213                    2019-07-16                             121722   \n",
       "27212                    2019-07-09                             115547   \n",
       "27211                    2019-07-02                             120370   \n",
       "27210                    2019-06-25                             118138   \n",
       "27209                    2019-06-18                             139662   \n",
       "\n",
       "       Commercial_Positions_Short_All  Nonreportable_Positions_Short_All  \\\n",
       "27213                         1150251                              76600   \n",
       "27212                         1102928                              76986   \n",
       "27211                         1130195                              78128   \n",
       "27210                         1116099                              79987   \n",
       "27209                         1094291                              79086   \n",
       "\n",
       "       Total_Reportable_Positions_Short_All  Traders_Commercial_Short_All  \\\n",
       "27213                               2013029                           104   \n",
       "27212                               1922780                           106   \n",
       "27211                               1953041                           102   \n",
       "27210                               1924974                           104   \n",
       "27209                               1924532                           108   \n",
       "\n",
       "       Traders_Noncommercial_Short_All  Traders_Total_Reportable_Short_All  \n",
       "27213                               97                                 289  \n",
       "27212                               94                                 276  \n",
       "27211                               87                                 280  \n",
       "27210                               95                                 283  \n",
       "27209                               95                                 292  "
      ]
     },
     "execution_count": 9,
     "metadata": {},
     "output_type": "execute_result"
    }
   ],
   "source": [
    "df_commod_short.sort_values('As_of_Date_in_Form_YYYY_MM_DD',ascending=False).head()"
   ]
  },
  {
   "cell_type": "markdown",
   "metadata": {},
   "source": [
    "### Show important \"net\" position info"
   ]
  },
  {
   "cell_type": "code",
   "execution_count": 10,
   "metadata": {
    "scrolled": true
   },
   "outputs": [
    {
     "data": {
      "text/html": [
       "<div>\n",
       "<style scoped>\n",
       "    .dataframe tbody tr th:only-of-type {\n",
       "        vertical-align: middle;\n",
       "    }\n",
       "\n",
       "    .dataframe tbody tr th {\n",
       "        vertical-align: top;\n",
       "    }\n",
       "\n",
       "    .dataframe thead th {\n",
       "        text-align: right;\n",
       "    }\n",
       "</style>\n",
       "<table border=\"1\" class=\"dataframe\">\n",
       "  <thead>\n",
       "    <tr style=\"text-align: right;\">\n",
       "      <th></th>\n",
       "      <th>Market_and_Exchange_Names</th>\n",
       "      <th>As_of_Date_in_Form_YYYY_MM_DD</th>\n",
       "      <th>Noncommercial_Positions_Net_All</th>\n",
       "      <th>Commercial_Positions_Net_All</th>\n",
       "      <th>Nonreportable_Positions_Net_All</th>\n",
       "      <th>Traders_Commercial_Net_All</th>\n",
       "      <th>Traders_Noncommercial_Net_All</th>\n",
       "    </tr>\n",
       "  </thead>\n",
       "  <tbody>\n",
       "    <tr>\n",
       "      <th>236</th>\n",
       "      <td>CRUDE OIL, LIGHT SWEET - NEW YORK MERCANTILE E...</td>\n",
       "      <td>2019-07-16</td>\n",
       "      <td>423762.0</td>\n",
       "      <td>-431546.0</td>\n",
       "      <td>7784.0</td>\n",
       "      <td>-11.0</td>\n",
       "      <td>22.0</td>\n",
       "    </tr>\n",
       "    <tr>\n",
       "      <th>235</th>\n",
       "      <td>CRUDE OIL, LIGHT SWEET - NEW YORK MERCANTILE E...</td>\n",
       "      <td>2019-07-09</td>\n",
       "      <td>390149.0</td>\n",
       "      <td>-392967.0</td>\n",
       "      <td>2818.0</td>\n",
       "      <td>-11.0</td>\n",
       "      <td>16.0</td>\n",
       "    </tr>\n",
       "    <tr>\n",
       "      <th>234</th>\n",
       "      <td>CRUDE OIL, LIGHT SWEET - NEW YORK MERCANTILE E...</td>\n",
       "      <td>2019-07-02</td>\n",
       "      <td>392810.0</td>\n",
       "      <td>-398231.0</td>\n",
       "      <td>5421.0</td>\n",
       "      <td>-9.0</td>\n",
       "      <td>32.0</td>\n",
       "    </tr>\n",
       "    <tr>\n",
       "      <th>233</th>\n",
       "      <td>CRUDE OIL, LIGHT SWEET - NEW YORK MERCANTILE E...</td>\n",
       "      <td>2019-06-25</td>\n",
       "      <td>378803.0</td>\n",
       "      <td>-374908.0</td>\n",
       "      <td>-3895.0</td>\n",
       "      <td>-14.0</td>\n",
       "      <td>18.0</td>\n",
       "    </tr>\n",
       "    <tr>\n",
       "      <th>232</th>\n",
       "      <td>CRUDE OIL, LIGHT SWEET - NEW YORK MERCANTILE E...</td>\n",
       "      <td>2019-06-18</td>\n",
       "      <td>363087.0</td>\n",
       "      <td>-362669.0</td>\n",
       "      <td>-418.0</td>\n",
       "      <td>-8.0</td>\n",
       "      <td>20.0</td>\n",
       "    </tr>\n",
       "  </tbody>\n",
       "</table>\n",
       "</div>"
      ],
      "text/plain": [
       "                             Market_and_Exchange_Names  \\\n",
       "236  CRUDE OIL, LIGHT SWEET - NEW YORK MERCANTILE E...   \n",
       "235  CRUDE OIL, LIGHT SWEET - NEW YORK MERCANTILE E...   \n",
       "234  CRUDE OIL, LIGHT SWEET - NEW YORK MERCANTILE E...   \n",
       "233  CRUDE OIL, LIGHT SWEET - NEW YORK MERCANTILE E...   \n",
       "232  CRUDE OIL, LIGHT SWEET - NEW YORK MERCANTILE E...   \n",
       "\n",
       "    As_of_Date_in_Form_YYYY_MM_DD  Noncommercial_Positions_Net_All  \\\n",
       "236                    2019-07-16                         423762.0   \n",
       "235                    2019-07-09                         390149.0   \n",
       "234                    2019-07-02                         392810.0   \n",
       "233                    2019-06-25                         378803.0   \n",
       "232                    2019-06-18                         363087.0   \n",
       "\n",
       "     Commercial_Positions_Net_All  Nonreportable_Positions_Net_All  \\\n",
       "236                     -431546.0                           7784.0   \n",
       "235                     -392967.0                           2818.0   \n",
       "234                     -398231.0                           5421.0   \n",
       "233                     -374908.0                          -3895.0   \n",
       "232                     -362669.0                           -418.0   \n",
       "\n",
       "     Traders_Commercial_Net_All  Traders_Noncommercial_Net_All  \n",
       "236                       -11.0                           22.0  \n",
       "235                       -11.0                           16.0  \n",
       "234                        -9.0                           32.0  \n",
       "233                       -14.0                           18.0  \n",
       "232                        -8.0                           20.0  "
      ]
     },
     "execution_count": 10,
     "metadata": {},
     "output_type": "execute_result"
    }
   ],
   "source": [
    "def non_comm_net(r):\n",
    "    return float(r.Noncommercial_Positions_Long_All) - float(r.Noncommercial_Positions_Short_All)\n",
    "def comm_net(r):\n",
    "    return float(r.Commercial_Positions_Long_All) - float(r.Commercial_Positions_Short_All)\n",
    "def non_report_net(r):\n",
    "    return float(r.Nonreportable_Positions_Long_All) - float(r.Nonreportable_Positions_Short_All)\n",
    "def traders_comm_net(r):\n",
    "    return float(r.Traders_Commercial_Long_All) - float(r.Traders_Commercial_Short_All)\n",
    "def traders_noncomm_net(r):\n",
    "    return float(r.Traders_Noncommercial_Long_All) - float(r.Traders_Noncommercial_Short_All)\n",
    "\n",
    "df_commod_net = df_commod_long.merge(df_commod_short,how='inner',on=['Market_and_Exchange_Names','As_of_Date_in_Form_YYYY_MM_DD'])\n",
    "df_commod_net['Noncommercial_Positions_Net_All'] = df_commod_net.apply(non_comm_net,axis=1)\n",
    "df_commod_net['Commercial_Positions_Net_All'] = df_commod_net.apply(comm_net,axis=1)\n",
    "df_commod_net['Nonreportable_Positions_Net_All'] = df_commod_net.apply(non_report_net,axis=1)\n",
    "df_commod_net['Traders_Commercial_Net_All'] = df_commod_net.apply(traders_comm_net,axis=1)\n",
    "df_commod_net['Traders_Noncommercial_Net_All'] = df_commod_net.apply(traders_noncomm_net,axis=1)\n",
    "net_cols = ['Market_and_Exchange_Names','As_of_Date_in_Form_YYYY_MM_DD','Noncommercial_Positions_Net_All','Commercial_Positions_Net_All','Nonreportable_Positions_Net_All','Traders_Commercial_Net_All','Traders_Noncommercial_Net_All']\n",
    "df_commod_net = df_commod_net[net_cols]\n",
    "df_commod_net.sort_values('As_of_Date_in_Form_YYYY_MM_DD',ascending=False).head()\n"
   ]
  },
  {
   "cell_type": "markdown",
   "metadata": {},
   "source": [
    "## END"
   ]
  },
  {
   "cell_type": "code",
   "execution_count": 11,
   "metadata": {},
   "outputs": [
    {
     "data": {
      "text/plain": [
       "array(['LONG-TERM U.S. TREASURY BONDS - CHICAGO BOARD OF TRADE',\n",
       "       'LONG-TERM U.S. TREASURY BONDS - CHICAGO BOARD OF TRADE ',\n",
       "       'MUNICIPAL BOND INDEX - CHICAGO BOARD OF TRADE ',\n",
       "       'U.S. TREASURY BONDS - CHICAGO BOARD OF TRADE',\n",
       "       'U.S. TREASURY BONDS - CHICAGO BOARD OF TRADE ',\n",
       "       'U.S. TREASURY BONDS - MIDAMERICA COMMODITY EXCHANGE ',\n",
       "       'ULTRA U.S. TREASURY BONDS - CHICAGO BOARD OF TRADE'], dtype=object)"
      ]
     },
     "execution_count": 11,
     "metadata": {},
     "output_type": "execute_result"
    }
   ],
   "source": [
    "df_cot2[df_cot2.Market_and_Exchange_Names.str.lower().str.contains('bond')].Market_and_Exchange_Names.unique()\n"
   ]
  },
  {
   "cell_type": "code",
   "execution_count": 12,
   "metadata": {},
   "outputs": [
    {
     "data": {
      "text/plain": [
       "['As_of_Date_in_Form_YYYY_MM_DD']"
      ]
     },
     "execution_count": 12,
     "metadata": {},
     "output_type": "execute_result"
    }
   ],
   "source": [
    "list(filter(lambda s:'As_of_Date_in_Form_YYYY_MM_DD' in s,df_cot2.columns.values))"
   ]
  },
  {
   "cell_type": "code",
   "execution_count": 13,
   "metadata": {},
   "outputs": [
    {
     "data": {
      "text/plain": [
       "292"
      ]
     },
     "execution_count": 13,
     "metadata": {},
     "output_type": "execute_result"
    }
   ],
   "source": [
    "df_wheat = df_cot2[df_cot2.Market_and_Exchange_Names.str.contains('WHEAT-SRW - CHICAGO BOARD OF TRADE')]\n",
    "len(df_wheat)\n",
    "# np.sort(df_wheat.As_of_Date_in_Form_YYYY_MM_DD.unique())"
   ]
  },
  {
   "cell_type": "code",
   "execution_count": 14,
   "metadata": {},
   "outputs": [
    {
     "data": {
      "text/plain": [
       "Timestamp('2019-07-16 00:00:00')"
      ]
     },
     "execution_count": 14,
     "metadata": {},
     "output_type": "execute_result"
    }
   ],
   "source": [
    "df_cot2[df_cot2.Market_and_Exchange_Names.str.contains('WHEAT-HRW - CHICAGO BOARD OF TRADE')].As_of_Date_in_Form_YYYY_MM_DD.max()"
   ]
  },
  {
   "cell_type": "code",
   "execution_count": null,
   "metadata": {},
   "outputs": [],
   "source": []
  }
 ],
 "metadata": {
  "kernelspec": {
   "display_name": "Python 3",
   "language": "python",
   "name": "python3"
  },
  "language_info": {
   "codemirror_mode": {
    "name": "ipython",
    "version": 3
   },
   "file_extension": ".py",
   "mimetype": "text/x-python",
   "name": "python",
   "nbconvert_exporter": "python",
   "pygments_lexer": "ipython3",
   "version": "3.6.5"
  }
 },
 "nbformat": 4,
 "nbformat_minor": 2
}
