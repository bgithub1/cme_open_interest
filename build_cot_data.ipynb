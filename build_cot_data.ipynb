{
 "cells": [
  {
   "cell_type": "markdown",
   "metadata": {},
   "source": [
    "## Build history of commodity COTs\n",
    "\n",
    "1. Retrieve data from the CFTC website (www.cft.gov/files);\n",
    "2. Extract data from the most important Commercial and Non Commercial long and short columns;\n",
    "3. Create \"net\" columns for each important category;\n",
    "4. Merge this data with the ETF history data created in the previous steps\n"
   ]
  },
  {
   "cell_type": "code",
   "execution_count": 1,
   "metadata": {},
   "outputs": [],
   "source": [
    "import pandas as pd\n",
    "import numpy as np\n",
    "import os, sys\n",
    "import datetime\n",
    "%matplotlib inline\n",
    "import matplotlib.pyplot as plt\n",
    "import plotly.plotly as py\n",
    "import plotly.graph_objs as go\n",
    "import zipfile\n",
    "import urllib.request\n",
    "from PIL import Image\n",
    "def str_to_date(d):\n",
    "    try:\n",
    "        dt = datetime.datetime.strptime(str(d),'%Y-%m-%d')\n",
    "    except:\n",
    "        return None\n",
    "    return dt\n",
    "\n",
    "# Make important folders\n",
    "TEMP_FOLDER = './temp_folder'\n",
    "try:\n",
    "    os.mkdir(TEMP_FOLDER)\n",
    "except:\n",
    "    pass\n",
    "try:\n",
    "    os.mkdir(f'{TEMP_FOLDER}/cot')\n",
    "except:\n",
    "    pass\n",
    "try:\n",
    "    os.mkdir(f'{TEMP_FOLDER}/zip')\n",
    "except:\n",
    "    pass\n"
   ]
  },
  {
   "cell_type": "markdown",
   "metadata": {},
   "source": [
    "___\n",
    "## First, decide if you want to re-create the ETF and COT data, or just retrieve the previously saved data DataFrames."
   ]
  },
  {
   "cell_type": "code",
   "execution_count": 2,
   "metadata": {},
   "outputs": [],
   "source": [
    "CREATE_COT_DATA = True\n",
    "cot_save_path = './cot_history.csv'"
   ]
  },
  {
   "cell_type": "markdown",
   "metadata": {},
   "source": [
    "___\n",
    "## Process CFTC COT Data\n",
    "___"
   ]
  },
  {
   "cell_type": "markdown",
   "metadata": {},
   "source": [
    "### Initial processing\n",
    "1. Download zip files from www.cft.gov/files;\n",
    "2. Unip the files using the zipfile package;\n",
    "3. Read each csv (usually named Annual.TXT), and merge them into the df_cot DataFrame.\n"
   ]
  },
  {
   "cell_type": "code",
   "execution_count": 3,
   "metadata": {
    "scrolled": true
   },
   "outputs": [
    {
     "name": "stdout",
     "output_type": "stream",
     "text": [
      "processed cot csv file from https://www.cftc.gov/files/dea/history/deacot2000.zip. Length = 3261\n",
      "processed cot csv file from https://www.cftc.gov/files/dea/history/deacot2001.zip. Length = 2782\n",
      "processed cot csv file from https://www.cftc.gov/files/dea/history/deacot2002.zip. Length = 2854\n",
      "processed cot csv file from https://www.cftc.gov/files/dea/history/deacot2003.zip. Length = 3135\n",
      "processed cot csv file from https://www.cftc.gov/files/dea/history/deacot2004.zip. Length = 3465\n",
      "processed cot csv file from https://www.cftc.gov/files/dea/history/deacot2005.zip. Length = 3909\n",
      "processed cot csv file from https://www.cftc.gov/files/dea/history/deacot2006.zip. Length = 4926\n",
      "processed cot csv file from https://www.cftc.gov/files/dea/history/deacot2007.zip. Length = 4926\n",
      "processed cot csv file from https://www.cftc.gov/files/dea/history/deacot2008.zip. Length = 5631\n",
      "processed cot csv file from https://www.cftc.gov/files/dea/history/deacot2009.zip. Length = 6570\n",
      "processed cot csv file from https://www.cftc.gov/files/dea/history/deacot2010.zip. Length = 7308\n",
      "processed cot csv file from https://www.cftc.gov/files/dea/history/deacot2011.zip. Length = 7365\n",
      "processed cot csv file from https://www.cftc.gov/files/dea/history/deacot2012.zip. Length = 7838\n",
      "processed cot csv file from https://www.cftc.gov/files/dea/history/deacot2013.zip. Length = 10159\n",
      "processed cot csv file from https://www.cftc.gov/files/dea/history/deacot2014.zip. Length = 12131\n"
     ]
    },
    {
     "name": "stderr",
     "output_type": "stream",
     "text": [
      "/Users/bperlman1/Virtualenvs3/pyliverisk/lib/python3.6/site-packages/pandas/core/frame.py:6692: FutureWarning:\n",
      "\n",
      "Sorting because non-concatenation axis is not aligned. A future version\n",
      "of pandas will change to not sort by default.\n",
      "\n",
      "To accept the future behavior, pass 'sort=False'.\n",
      "\n",
      "To retain the current behavior and silence the warning, pass 'sort=True'.\n",
      "\n",
      "\n"
     ]
    },
    {
     "name": "stdout",
     "output_type": "stream",
     "text": [
      "processed cot csv file from https://www.cftc.gov/files/dea/history/deacot2015.zip. Length = 11610\n",
      "processed cot csv file from https://www.cftc.gov/files/dea/history/deacot2016.zip. Length = 12434\n"
     ]
    },
    {
     "name": "stderr",
     "output_type": "stream",
     "text": [
      "/Users/bperlman1/Virtualenvs3/pyliverisk/lib/python3.6/site-packages/IPython/core/interactiveshell.py:2785: DtypeWarning:\n",
      "\n",
      "Columns (3,37,38,39,40,41,42,43,44,45,46,126) have mixed types. Specify dtype option on import or set low_memory=False.\n",
      "\n"
     ]
    },
    {
     "name": "stdout",
     "output_type": "stream",
     "text": [
      "processed cot csv file from https://www.cftc.gov/files/dea/history/deacot2017.zip. Length = 12314\n",
      "processed cot csv file from https://www.cftc.gov/files/dea/history/deacot2018.zip. Length = 13410\n",
      "retrieving cot zip file from https://www.cftc.gov/files/dea/history/deacot2019.zip\n",
      "processed cot csv file from https://www.cftc.gov/files/dea/history/deacot2019.zip. Length = 5890\n"
     ]
    }
   ],
   "source": [
    "if CREATE_COT_DATA:\n",
    "    last_year = datetime.datetime.now().year\n",
    "    year_list = np.linspace(2000,last_year,last_year-2000+1)\n",
    "    zip_download_folder = f'TEMP_FOLDER/zip'\n",
    "    df_cot_temp = None\n",
    "    df_cot = None\n",
    "    for y in year_list:\n",
    "        yint = int(y)\n",
    "        url = f\"https://www.cftc.gov/files/dea/history/deacot{yint}.zip\"\n",
    "        path_to_zip_file = f'{zip_download_folder}/dea_fut_xls_{y}.zip'\n",
    "        if not os.path.isfile(path_to_zip_file) or y >= last_year:\n",
    "            print(f'retrieving cot zip file from {url}')\n",
    "            try:\n",
    "                urllib.request.urlretrieve(url, path_to_zip_file)    \n",
    "            except:\n",
    "                import time\n",
    "                time.sleep(1)\n",
    "                urllib.request.urlretrieve(url, path_to_zip_file)    \n",
    "        zip_ref = zipfile.ZipFile(path_to_zip_file, 'r')\n",
    "        zip_ref.extractall(zip_download_folder)\n",
    "        zip_ref.close()\n",
    "        df_cot_temp = pd.read_csv(f'{zip_download_folder}/Annual.TXT')\n",
    "        if df_cot is None:\n",
    "            df_cot = df_cot_temp.copy()\n",
    "        else:\n",
    "            df_cot = df_cot.append(df_cot_temp,ignore_index=True)\n",
    "            df_cot.index = list(range(len(df_cot)))\n",
    "        print(f'processed cot csv file from {url}. Length = {len(df_cot_temp)}')\n",
    "        \n",
    "    df_cot.head()"
   ]
  },
  {
   "cell_type": "markdown",
   "metadata": {},
   "source": [
    "___\n",
    "### Make column names easier to process, make main date field a datetime object, and sort the DataFrame\n",
    "___"
   ]
  },
  {
   "cell_type": "code",
   "execution_count": 4,
   "metadata": {},
   "outputs": [],
   "source": [
    "if CREATE_COT_DATA:\n",
    "    col_rename_dict = {c:c.replace(' ','_').replace('-','_').replace('(','').replace(')','') for c in df_cot.columns.values}\n",
    "    df_cot2 = df_cot.rename(columns=col_rename_dict)\n",
    "    df_cot2.As_of_Date_in_Form_YYYY_MM_DD = df_cot2.As_of_Date_in_Form_YYYY_MM_DD.apply(str_to_date)\n",
    "    df_cot2 = df_cot2.sort_values(['Market_and_Exchange_Names','As_of_Date_in_Form_YYYY_MM_DD'])\n",
    "    df_cot2.columns.values\n",
    "    df_cot2.to_csv(cot_save_path,index=False)"
   ]
  },
  {
   "cell_type": "markdown",
   "metadata": {},
   "source": [
    "___\n",
    "### Show important columns for a specific  commodity\n",
    "___"
   ]
  },
  {
   "cell_type": "code",
   "execution_count": 5,
   "metadata": {},
   "outputs": [
    {
     "data": {
      "text/plain": [
       "141918"
      ]
     },
     "execution_count": 5,
     "metadata": {},
     "output_type": "execute_result"
    }
   ],
   "source": [
    "len(df_cot2)"
   ]
  },
  {
   "cell_type": "code",
   "execution_count": 6,
   "metadata": {},
   "outputs": [
    {
     "name": "stderr",
     "output_type": "stream",
     "text": [
      "/Users/bperlman1/Virtualenvs3/pyliverisk/lib/python3.6/site-packages/ipykernel_launcher.py:6: UserWarning:\n",
      "\n",
      "Boolean Series key will be reindexed to match DataFrame index.\n",
      "\n"
     ]
    }
   ],
   "source": [
    "df_cot2 = pd.read_csv(cot_save_path)\n",
    "df_cot2.As_of_Date_in_Form_YYYY_MM_DD = df_cot2.As_of_Date_in_Form_YYYY_MM_DD.apply(str_to_date)\n",
    "commod = 'CRUDE OIL, LIGHT SWEET - NEW YORK MERCANTILE EXCHANGE'\n",
    "# commod = 'GOLD'\n",
    "cot_beg_date = datetime.datetime.now() - datetime.timedelta(2000)\n",
    "df_commod = df_cot2[df_cot2.Market_and_Exchange_Names.str.contains(commod)][df_cot2.As_of_Date_in_Form_YYYY_MM_DD>=cot_beg_date]\n",
    "basic_cols = ['Market_and_Exchange_Names','As_of_Date_in_Form_YYYY_MM_DD','Open_Interest_All']\n",
    "long_cols = ['Market_and_Exchange_Names','As_of_Date_in_Form_YYYY_MM_DD',\n",
    "            'Noncommercial_Positions_Long_All','Commercial_Positions_Long_All',\n",
    "            'Nonreportable_Positions_Long_All','Traders_Commercial_Long_All',\n",
    "             'Traders_Noncommercial_Long_All','Traders_Total_Reportable_Long_All']\n",
    "short_cols = ['Market_and_Exchange_Names','As_of_Date_in_Form_YYYY_MM_DD',\n",
    "            'Noncommercial_Positions_Short_All','Commercial_Positions_Short_All',\n",
    "            'Nonreportable_Positions_Short_All','Total_Reportable_Positions_Short_All',\n",
    "            'Traders_Commercial_Short_All','Traders_Noncommercial_Short_All',\n",
    "            'Traders_Total_Reportable_Short_All']\n",
    "df_commod_basic = df_commod[basic_cols]\n",
    "df_commod_long = df_commod[long_cols]\n",
    "df_commod_short = df_commod[short_cols]\n"
   ]
  },
  {
   "cell_type": "markdown",
   "metadata": {},
   "source": [
    "### Show basic open interest info"
   ]
  },
  {
   "cell_type": "code",
   "execution_count": 7,
   "metadata": {},
   "outputs": [
    {
     "data": {
      "text/html": [
       "<div>\n",
       "<style scoped>\n",
       "    .dataframe tbody tr th:only-of-type {\n",
       "        vertical-align: middle;\n",
       "    }\n",
       "\n",
       "    .dataframe tbody tr th {\n",
       "        vertical-align: top;\n",
       "    }\n",
       "\n",
       "    .dataframe thead th {\n",
       "        text-align: right;\n",
       "    }\n",
       "</style>\n",
       "<table border=\"1\" class=\"dataframe\">\n",
       "  <thead>\n",
       "    <tr style=\"text-align: right;\">\n",
       "      <th></th>\n",
       "      <th>Market_and_Exchange_Names</th>\n",
       "      <th>As_of_Date_in_Form_YYYY_MM_DD</th>\n",
       "      <th>Open_Interest_All</th>\n",
       "    </tr>\n",
       "  </thead>\n",
       "  <tbody>\n",
       "    <tr>\n",
       "      <th>26938</th>\n",
       "      <td>CRUDE OIL, LIGHT SWEET - NEW YORK MERCANTILE E...</td>\n",
       "      <td>2019-06-11</td>\n",
       "      <td>2057046</td>\n",
       "    </tr>\n",
       "    <tr>\n",
       "      <th>26937</th>\n",
       "      <td>CRUDE OIL, LIGHT SWEET - NEW YORK MERCANTILE E...</td>\n",
       "      <td>2019-06-04</td>\n",
       "      <td>2078407</td>\n",
       "    </tr>\n",
       "    <tr>\n",
       "      <th>26936</th>\n",
       "      <td>CRUDE OIL, LIGHT SWEET - NEW YORK MERCANTILE E...</td>\n",
       "      <td>2019-05-28</td>\n",
       "      <td>2102854</td>\n",
       "    </tr>\n",
       "    <tr>\n",
       "      <th>26935</th>\n",
       "      <td>CRUDE OIL, LIGHT SWEET - NEW YORK MERCANTILE E...</td>\n",
       "      <td>2019-05-21</td>\n",
       "      <td>2085029</td>\n",
       "    </tr>\n",
       "    <tr>\n",
       "      <th>26934</th>\n",
       "      <td>CRUDE OIL, LIGHT SWEET - NEW YORK MERCANTILE E...</td>\n",
       "      <td>2019-05-14</td>\n",
       "      <td>2153657</td>\n",
       "    </tr>\n",
       "  </tbody>\n",
       "</table>\n",
       "</div>"
      ],
      "text/plain": [
       "                               Market_and_Exchange_Names  \\\n",
       "26938  CRUDE OIL, LIGHT SWEET - NEW YORK MERCANTILE E...   \n",
       "26937  CRUDE OIL, LIGHT SWEET - NEW YORK MERCANTILE E...   \n",
       "26936  CRUDE OIL, LIGHT SWEET - NEW YORK MERCANTILE E...   \n",
       "26935  CRUDE OIL, LIGHT SWEET - NEW YORK MERCANTILE E...   \n",
       "26934  CRUDE OIL, LIGHT SWEET - NEW YORK MERCANTILE E...   \n",
       "\n",
       "      As_of_Date_in_Form_YYYY_MM_DD  Open_Interest_All  \n",
       "26938                    2019-06-11            2057046  \n",
       "26937                    2019-06-04            2078407  \n",
       "26936                    2019-05-28            2102854  \n",
       "26935                    2019-05-21            2085029  \n",
       "26934                    2019-05-14            2153657  "
      ]
     },
     "execution_count": 7,
     "metadata": {},
     "output_type": "execute_result"
    }
   ],
   "source": [
    "df_commod_basic.sort_values('As_of_Date_in_Form_YYYY_MM_DD',ascending=False).head()"
   ]
  },
  {
   "cell_type": "markdown",
   "metadata": {},
   "source": [
    "### Show important \"long\" position info"
   ]
  },
  {
   "cell_type": "code",
   "execution_count": 8,
   "metadata": {
    "scrolled": true
   },
   "outputs": [
    {
     "data": {
      "text/html": [
       "<div>\n",
       "<style scoped>\n",
       "    .dataframe tbody tr th:only-of-type {\n",
       "        vertical-align: middle;\n",
       "    }\n",
       "\n",
       "    .dataframe tbody tr th {\n",
       "        vertical-align: top;\n",
       "    }\n",
       "\n",
       "    .dataframe thead th {\n",
       "        text-align: right;\n",
       "    }\n",
       "</style>\n",
       "<table border=\"1\" class=\"dataframe\">\n",
       "  <thead>\n",
       "    <tr style=\"text-align: right;\">\n",
       "      <th></th>\n",
       "      <th>Market_and_Exchange_Names</th>\n",
       "      <th>As_of_Date_in_Form_YYYY_MM_DD</th>\n",
       "      <th>Noncommercial_Positions_Long_All</th>\n",
       "      <th>Commercial_Positions_Long_All</th>\n",
       "      <th>Nonreportable_Positions_Long_All</th>\n",
       "      <th>Traders_Commercial_Long_All</th>\n",
       "      <th>Traders_Noncommercial_Long_All</th>\n",
       "      <th>Traders_Total_Reportable_Long_All</th>\n",
       "    </tr>\n",
       "  </thead>\n",
       "  <tbody>\n",
       "    <tr>\n",
       "      <th>26938</th>\n",
       "      <td>CRUDE OIL, LIGHT SWEET - NEW YORK MERCANTILE E...</td>\n",
       "      <td>2019-06-11</td>\n",
       "      <td>515457</td>\n",
       "      <td>748569</td>\n",
       "      <td>81684</td>\n",
       "      <td>97</td>\n",
       "      <td>115</td>\n",
       "      <td>305</td>\n",
       "    </tr>\n",
       "    <tr>\n",
       "      <th>26937</th>\n",
       "      <td>CRUDE OIL, LIGHT SWEET - NEW YORK MERCANTILE E...</td>\n",
       "      <td>2019-06-04</td>\n",
       "      <td>538947</td>\n",
       "      <td>737144</td>\n",
       "      <td>82351</td>\n",
       "      <td>100</td>\n",
       "      <td>121</td>\n",
       "      <td>309</td>\n",
       "    </tr>\n",
       "    <tr>\n",
       "      <th>26936</th>\n",
       "      <td>CRUDE OIL, LIGHT SWEET - NEW YORK MERCANTILE E...</td>\n",
       "      <td>2019-05-28</td>\n",
       "      <td>564433</td>\n",
       "      <td>726384</td>\n",
       "      <td>79889</td>\n",
       "      <td>102</td>\n",
       "      <td>117</td>\n",
       "      <td>308</td>\n",
       "    </tr>\n",
       "    <tr>\n",
       "      <th>26935</th>\n",
       "      <td>CRUDE OIL, LIGHT SWEET - NEW YORK MERCANTILE E...</td>\n",
       "      <td>2019-05-21</td>\n",
       "      <td>585979</td>\n",
       "      <td>690552</td>\n",
       "      <td>91162</td>\n",
       "      <td>99</td>\n",
       "      <td>122</td>\n",
       "      <td>306</td>\n",
       "    </tr>\n",
       "    <tr>\n",
       "      <th>26934</th>\n",
       "      <td>CRUDE OIL, LIGHT SWEET - NEW YORK MERCANTILE E...</td>\n",
       "      <td>2019-05-14</td>\n",
       "      <td>607979</td>\n",
       "      <td>735104</td>\n",
       "      <td>90955</td>\n",
       "      <td>106</td>\n",
       "      <td>130</td>\n",
       "      <td>322</td>\n",
       "    </tr>\n",
       "  </tbody>\n",
       "</table>\n",
       "</div>"
      ],
      "text/plain": [
       "                               Market_and_Exchange_Names  \\\n",
       "26938  CRUDE OIL, LIGHT SWEET - NEW YORK MERCANTILE E...   \n",
       "26937  CRUDE OIL, LIGHT SWEET - NEW YORK MERCANTILE E...   \n",
       "26936  CRUDE OIL, LIGHT SWEET - NEW YORK MERCANTILE E...   \n",
       "26935  CRUDE OIL, LIGHT SWEET - NEW YORK MERCANTILE E...   \n",
       "26934  CRUDE OIL, LIGHT SWEET - NEW YORK MERCANTILE E...   \n",
       "\n",
       "      As_of_Date_in_Form_YYYY_MM_DD  Noncommercial_Positions_Long_All  \\\n",
       "26938                    2019-06-11                            515457   \n",
       "26937                    2019-06-04                            538947   \n",
       "26936                    2019-05-28                            564433   \n",
       "26935                    2019-05-21                            585979   \n",
       "26934                    2019-05-14                            607979   \n",
       "\n",
       "       Commercial_Positions_Long_All  Nonreportable_Positions_Long_All  \\\n",
       "26938                         748569                             81684   \n",
       "26937                         737144                             82351   \n",
       "26936                         726384                             79889   \n",
       "26935                         690552                             91162   \n",
       "26934                         735104                             90955   \n",
       "\n",
       "       Traders_Commercial_Long_All  Traders_Noncommercial_Long_All  \\\n",
       "26938                           97                             115   \n",
       "26937                          100                             121   \n",
       "26936                          102                             117   \n",
       "26935                           99                             122   \n",
       "26934                          106                             130   \n",
       "\n",
       "       Traders_Total_Reportable_Long_All  \n",
       "26938                                305  \n",
       "26937                                309  \n",
       "26936                                308  \n",
       "26935                                306  \n",
       "26934                                322  "
      ]
     },
     "execution_count": 8,
     "metadata": {},
     "output_type": "execute_result"
    }
   ],
   "source": [
    "df_commod_long.sort_values('As_of_Date_in_Form_YYYY_MM_DD',ascending=False).head()"
   ]
  },
  {
   "cell_type": "markdown",
   "metadata": {},
   "source": [
    "### Show important \"short\" position info"
   ]
  },
  {
   "cell_type": "code",
   "execution_count": 9,
   "metadata": {},
   "outputs": [
    {
     "data": {
      "text/html": [
       "<div>\n",
       "<style scoped>\n",
       "    .dataframe tbody tr th:only-of-type {\n",
       "        vertical-align: middle;\n",
       "    }\n",
       "\n",
       "    .dataframe tbody tr th {\n",
       "        vertical-align: top;\n",
       "    }\n",
       "\n",
       "    .dataframe thead th {\n",
       "        text-align: right;\n",
       "    }\n",
       "</style>\n",
       "<table border=\"1\" class=\"dataframe\">\n",
       "  <thead>\n",
       "    <tr style=\"text-align: right;\">\n",
       "      <th></th>\n",
       "      <th>Market_and_Exchange_Names</th>\n",
       "      <th>As_of_Date_in_Form_YYYY_MM_DD</th>\n",
       "      <th>Noncommercial_Positions_Short_All</th>\n",
       "      <th>Commercial_Positions_Short_All</th>\n",
       "      <th>Nonreportable_Positions_Short_All</th>\n",
       "      <th>Total_Reportable_Positions_Short_All</th>\n",
       "      <th>Traders_Commercial_Short_All</th>\n",
       "      <th>Traders_Noncommercial_Short_All</th>\n",
       "      <th>Traders_Total_Reportable_Short_All</th>\n",
       "    </tr>\n",
       "  </thead>\n",
       "  <tbody>\n",
       "    <tr>\n",
       "      <th>26938</th>\n",
       "      <td>CRUDE OIL, LIGHT SWEET - NEW YORK MERCANTILE E...</td>\n",
       "      <td>2019-06-11</td>\n",
       "      <td>163802</td>\n",
       "      <td>1107188</td>\n",
       "      <td>74720</td>\n",
       "      <td>1982326</td>\n",
       "      <td>103</td>\n",
       "      <td>110</td>\n",
       "      <td>299</td>\n",
       "    </tr>\n",
       "    <tr>\n",
       "      <th>26937</th>\n",
       "      <td>CRUDE OIL, LIGHT SWEET - NEW YORK MERCANTILE E...</td>\n",
       "      <td>2019-06-04</td>\n",
       "      <td>138779</td>\n",
       "      <td>1148692</td>\n",
       "      <td>70971</td>\n",
       "      <td>2007436</td>\n",
       "      <td>99</td>\n",
       "      <td>95</td>\n",
       "      <td>288</td>\n",
       "    </tr>\n",
       "    <tr>\n",
       "      <th>26936</th>\n",
       "      <td>CRUDE OIL, LIGHT SWEET - NEW YORK MERCANTILE E...</td>\n",
       "      <td>2019-05-28</td>\n",
       "      <td>125495</td>\n",
       "      <td>1175461</td>\n",
       "      <td>69750</td>\n",
       "      <td>2033104</td>\n",
       "      <td>109</td>\n",
       "      <td>101</td>\n",
       "      <td>305</td>\n",
       "    </tr>\n",
       "    <tr>\n",
       "      <th>26935</th>\n",
       "      <td>CRUDE OIL, LIGHT SWEET - NEW YORK MERCANTILE E...</td>\n",
       "      <td>2019-05-21</td>\n",
       "      <td>107581</td>\n",
       "      <td>1192438</td>\n",
       "      <td>67674</td>\n",
       "      <td>2017355</td>\n",
       "      <td>111</td>\n",
       "      <td>90</td>\n",
       "      <td>292</td>\n",
       "    </tr>\n",
       "    <tr>\n",
       "      <th>26934</th>\n",
       "      <td>CRUDE OIL, LIGHT SWEET - NEW YORK MERCANTILE E...</td>\n",
       "      <td>2019-05-14</td>\n",
       "      <td>120171</td>\n",
       "      <td>1243983</td>\n",
       "      <td>69884</td>\n",
       "      <td>2083773</td>\n",
       "      <td>110</td>\n",
       "      <td>87</td>\n",
       "      <td>298</td>\n",
       "    </tr>\n",
       "  </tbody>\n",
       "</table>\n",
       "</div>"
      ],
      "text/plain": [
       "                               Market_and_Exchange_Names  \\\n",
       "26938  CRUDE OIL, LIGHT SWEET - NEW YORK MERCANTILE E...   \n",
       "26937  CRUDE OIL, LIGHT SWEET - NEW YORK MERCANTILE E...   \n",
       "26936  CRUDE OIL, LIGHT SWEET - NEW YORK MERCANTILE E...   \n",
       "26935  CRUDE OIL, LIGHT SWEET - NEW YORK MERCANTILE E...   \n",
       "26934  CRUDE OIL, LIGHT SWEET - NEW YORK MERCANTILE E...   \n",
       "\n",
       "      As_of_Date_in_Form_YYYY_MM_DD  Noncommercial_Positions_Short_All  \\\n",
       "26938                    2019-06-11                             163802   \n",
       "26937                    2019-06-04                             138779   \n",
       "26936                    2019-05-28                             125495   \n",
       "26935                    2019-05-21                             107581   \n",
       "26934                    2019-05-14                             120171   \n",
       "\n",
       "       Commercial_Positions_Short_All  Nonreportable_Positions_Short_All  \\\n",
       "26938                         1107188                              74720   \n",
       "26937                         1148692                              70971   \n",
       "26936                         1175461                              69750   \n",
       "26935                         1192438                              67674   \n",
       "26934                         1243983                              69884   \n",
       "\n",
       "       Total_Reportable_Positions_Short_All  Traders_Commercial_Short_All  \\\n",
       "26938                               1982326                           103   \n",
       "26937                               2007436                            99   \n",
       "26936                               2033104                           109   \n",
       "26935                               2017355                           111   \n",
       "26934                               2083773                           110   \n",
       "\n",
       "       Traders_Noncommercial_Short_All  Traders_Total_Reportable_Short_All  \n",
       "26938                              110                                 299  \n",
       "26937                               95                                 288  \n",
       "26936                              101                                 305  \n",
       "26935                               90                                 292  \n",
       "26934                               87                                 298  "
      ]
     },
     "execution_count": 9,
     "metadata": {},
     "output_type": "execute_result"
    }
   ],
   "source": [
    "df_commod_short.sort_values('As_of_Date_in_Form_YYYY_MM_DD',ascending=False).head()"
   ]
  },
  {
   "cell_type": "markdown",
   "metadata": {},
   "source": [
    "### Show important \"net\" position info"
   ]
  },
  {
   "cell_type": "code",
   "execution_count": 10,
   "metadata": {
    "scrolled": true
   },
   "outputs": [
    {
     "data": {
      "text/html": [
       "<div>\n",
       "<style scoped>\n",
       "    .dataframe tbody tr th:only-of-type {\n",
       "        vertical-align: middle;\n",
       "    }\n",
       "\n",
       "    .dataframe tbody tr th {\n",
       "        vertical-align: top;\n",
       "    }\n",
       "\n",
       "    .dataframe thead th {\n",
       "        text-align: right;\n",
       "    }\n",
       "</style>\n",
       "<table border=\"1\" class=\"dataframe\">\n",
       "  <thead>\n",
       "    <tr style=\"text-align: right;\">\n",
       "      <th></th>\n",
       "      <th>Market_and_Exchange_Names</th>\n",
       "      <th>As_of_Date_in_Form_YYYY_MM_DD</th>\n",
       "      <th>Noncommercial_Positions_Net_All</th>\n",
       "      <th>Commercial_Positions_Net_All</th>\n",
       "      <th>Nonreportable_Positions_Net_All</th>\n",
       "      <th>Traders_Commercial_Net_All</th>\n",
       "      <th>Traders_Noncommercial_Net_All</th>\n",
       "    </tr>\n",
       "  </thead>\n",
       "  <tbody>\n",
       "    <tr>\n",
       "      <th>231</th>\n",
       "      <td>CRUDE OIL, LIGHT SWEET - NEW YORK MERCANTILE E...</td>\n",
       "      <td>2019-06-11</td>\n",
       "      <td>351655.0</td>\n",
       "      <td>-358619.0</td>\n",
       "      <td>6964.0</td>\n",
       "      <td>-6.0</td>\n",
       "      <td>5.0</td>\n",
       "    </tr>\n",
       "    <tr>\n",
       "      <th>230</th>\n",
       "      <td>CRUDE OIL, LIGHT SWEET - NEW YORK MERCANTILE E...</td>\n",
       "      <td>2019-06-04</td>\n",
       "      <td>400168.0</td>\n",
       "      <td>-411548.0</td>\n",
       "      <td>11380.0</td>\n",
       "      <td>1.0</td>\n",
       "      <td>26.0</td>\n",
       "    </tr>\n",
       "    <tr>\n",
       "      <th>229</th>\n",
       "      <td>CRUDE OIL, LIGHT SWEET - NEW YORK MERCANTILE E...</td>\n",
       "      <td>2019-05-28</td>\n",
       "      <td>438938.0</td>\n",
       "      <td>-449077.0</td>\n",
       "      <td>10139.0</td>\n",
       "      <td>-7.0</td>\n",
       "      <td>16.0</td>\n",
       "    </tr>\n",
       "    <tr>\n",
       "      <th>228</th>\n",
       "      <td>CRUDE OIL, LIGHT SWEET - NEW YORK MERCANTILE E...</td>\n",
       "      <td>2019-05-21</td>\n",
       "      <td>478398.0</td>\n",
       "      <td>-501886.0</td>\n",
       "      <td>23488.0</td>\n",
       "      <td>-12.0</td>\n",
       "      <td>32.0</td>\n",
       "    </tr>\n",
       "    <tr>\n",
       "      <th>227</th>\n",
       "      <td>CRUDE OIL, LIGHT SWEET - NEW YORK MERCANTILE E...</td>\n",
       "      <td>2019-05-14</td>\n",
       "      <td>487808.0</td>\n",
       "      <td>-508879.0</td>\n",
       "      <td>21071.0</td>\n",
       "      <td>-4.0</td>\n",
       "      <td>43.0</td>\n",
       "    </tr>\n",
       "  </tbody>\n",
       "</table>\n",
       "</div>"
      ],
      "text/plain": [
       "                             Market_and_Exchange_Names  \\\n",
       "231  CRUDE OIL, LIGHT SWEET - NEW YORK MERCANTILE E...   \n",
       "230  CRUDE OIL, LIGHT SWEET - NEW YORK MERCANTILE E...   \n",
       "229  CRUDE OIL, LIGHT SWEET - NEW YORK MERCANTILE E...   \n",
       "228  CRUDE OIL, LIGHT SWEET - NEW YORK MERCANTILE E...   \n",
       "227  CRUDE OIL, LIGHT SWEET - NEW YORK MERCANTILE E...   \n",
       "\n",
       "    As_of_Date_in_Form_YYYY_MM_DD  Noncommercial_Positions_Net_All  \\\n",
       "231                    2019-06-11                         351655.0   \n",
       "230                    2019-06-04                         400168.0   \n",
       "229                    2019-05-28                         438938.0   \n",
       "228                    2019-05-21                         478398.0   \n",
       "227                    2019-05-14                         487808.0   \n",
       "\n",
       "     Commercial_Positions_Net_All  Nonreportable_Positions_Net_All  \\\n",
       "231                     -358619.0                           6964.0   \n",
       "230                     -411548.0                          11380.0   \n",
       "229                     -449077.0                          10139.0   \n",
       "228                     -501886.0                          23488.0   \n",
       "227                     -508879.0                          21071.0   \n",
       "\n",
       "     Traders_Commercial_Net_All  Traders_Noncommercial_Net_All  \n",
       "231                        -6.0                            5.0  \n",
       "230                         1.0                           26.0  \n",
       "229                        -7.0                           16.0  \n",
       "228                       -12.0                           32.0  \n",
       "227                        -4.0                           43.0  "
      ]
     },
     "execution_count": 10,
     "metadata": {},
     "output_type": "execute_result"
    }
   ],
   "source": [
    "def non_comm_net(r):\n",
    "    return float(r.Noncommercial_Positions_Long_All) - float(r.Noncommercial_Positions_Short_All)\n",
    "def comm_net(r):\n",
    "    return float(r.Commercial_Positions_Long_All) - float(r.Commercial_Positions_Short_All)\n",
    "def non_report_net(r):\n",
    "    return float(r.Nonreportable_Positions_Long_All) - float(r.Nonreportable_Positions_Short_All)\n",
    "def traders_comm_net(r):\n",
    "    return float(r.Traders_Commercial_Long_All) - float(r.Traders_Commercial_Short_All)\n",
    "def traders_noncomm_net(r):\n",
    "    return float(r.Traders_Noncommercial_Long_All) - float(r.Traders_Noncommercial_Short_All)\n",
    "\n",
    "df_commod_net = df_commod_long.merge(df_commod_short,how='inner',on=['Market_and_Exchange_Names','As_of_Date_in_Form_YYYY_MM_DD'])\n",
    "df_commod_net['Noncommercial_Positions_Net_All'] = df_commod_net.apply(non_comm_net,axis=1)\n",
    "df_commod_net['Commercial_Positions_Net_All'] = df_commod_net.apply(comm_net,axis=1)\n",
    "df_commod_net['Nonreportable_Positions_Net_All'] = df_commod_net.apply(non_report_net,axis=1)\n",
    "df_commod_net['Traders_Commercial_Net_All'] = df_commod_net.apply(traders_comm_net,axis=1)\n",
    "df_commod_net['Traders_Noncommercial_Net_All'] = df_commod_net.apply(traders_noncomm_net,axis=1)\n",
    "net_cols = ['Market_and_Exchange_Names','As_of_Date_in_Form_YYYY_MM_DD','Noncommercial_Positions_Net_All','Commercial_Positions_Net_All','Nonreportable_Positions_Net_All','Traders_Commercial_Net_All','Traders_Noncommercial_Net_All']\n",
    "df_commod_net = df_commod_net[net_cols]\n",
    "df_commod_net.sort_values('As_of_Date_in_Form_YYYY_MM_DD',ascending=False).head()\n"
   ]
  },
  {
   "cell_type": "markdown",
   "metadata": {},
   "source": [
    "## END"
   ]
  },
  {
   "cell_type": "code",
   "execution_count": 15,
   "metadata": {},
   "outputs": [
    {
     "data": {
      "text/plain": [
       "array(['LONG-TERM U.S. TREASURY BONDS - CHICAGO BOARD OF TRADE',\n",
       "       'LONG-TERM U.S. TREASURY BONDS - CHICAGO BOARD OF TRADE ',\n",
       "       'MUNICIPAL BOND INDEX - CHICAGO BOARD OF TRADE ',\n",
       "       'U.S. TREASURY BONDS - CHICAGO BOARD OF TRADE',\n",
       "       'U.S. TREASURY BONDS - CHICAGO BOARD OF TRADE ',\n",
       "       'U.S. TREASURY BONDS - MIDAMERICA COMMODITY EXCHANGE ',\n",
       "       'ULTRA U.S. TREASURY BONDS - CHICAGO BOARD OF TRADE'], dtype=object)"
      ]
     },
     "execution_count": 15,
     "metadata": {},
     "output_type": "execute_result"
    }
   ],
   "source": [
    "df_cot2[df_cot2.Market_and_Exchange_Names.str.lower().str.contains('bond')].Market_and_Exchange_Names.unique()\n"
   ]
  },
  {
   "cell_type": "code",
   "execution_count": 12,
   "metadata": {},
   "outputs": [
    {
     "data": {
      "text/plain": [
       "['As_of_Date_in_Form_YYYY_MM_DD']"
      ]
     },
     "execution_count": 12,
     "metadata": {},
     "output_type": "execute_result"
    }
   ],
   "source": [
    "list(filter(lambda s:'As_of_Date_in_Form_YYYY_MM_DD' in s,df_cot2.columns.values))"
   ]
  },
  {
   "cell_type": "code",
   "execution_count": 13,
   "metadata": {},
   "outputs": [
    {
     "data": {
      "text/plain": [
       "287"
      ]
     },
     "execution_count": 13,
     "metadata": {},
     "output_type": "execute_result"
    }
   ],
   "source": [
    "df_wheat = df_cot2[df_cot2.Market_and_Exchange_Names.str.contains('WHEAT-SRW - CHICAGO BOARD OF TRADE')]\n",
    "len(df_wheat)\n",
    "# np.sort(df_wheat.As_of_Date_in_Form_YYYY_MM_DD.unique())"
   ]
  },
  {
   "cell_type": "code",
   "execution_count": 14,
   "metadata": {},
   "outputs": [
    {
     "data": {
      "text/plain": [
       "Timestamp('2019-06-11 00:00:00')"
      ]
     },
     "execution_count": 14,
     "metadata": {},
     "output_type": "execute_result"
    }
   ],
   "source": [
    "df_cot2[df_cot2.Market_and_Exchange_Names.str.contains('WHEAT-HRW - CHICAGO BOARD OF TRADE')].As_of_Date_in_Form_YYYY_MM_DD.max()"
   ]
  },
  {
   "cell_type": "code",
   "execution_count": null,
   "metadata": {},
   "outputs": [],
   "source": []
  }
 ],
 "metadata": {
  "kernelspec": {
   "display_name": "Python 3",
   "language": "python",
   "name": "python3"
  },
  "language_info": {
   "codemirror_mode": {
    "name": "ipython",
    "version": 3
   },
   "file_extension": ".py",
   "mimetype": "text/x-python",
   "name": "python",
   "nbconvert_exporter": "python",
   "pygments_lexer": "ipython3",
   "version": "3.6.5"
  }
 },
 "nbformat": 4,
 "nbformat_minor": 2
}
