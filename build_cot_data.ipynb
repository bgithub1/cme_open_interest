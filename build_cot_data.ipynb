{
 "cells": [
  {
   "cell_type": "markdown",
   "metadata": {},
   "source": [
    "## Build history of commodity COTs\n",
    "\n",
    "1. Retrieve data from the CFTC website (www.cft.gov/files);\n",
    "2. Extract data from the most important Commercial and Non Commercial long and short columns;\n",
    "3. Create \"net\" columns for each important category;\n",
    "4. Merge this data with the ETF history data created in the previous steps\n"
   ]
  },
  {
   "cell_type": "code",
   "execution_count": 8,
   "metadata": {},
   "outputs": [],
   "source": [
    "import warnings\n",
    "warnings.filterwarnings('ignore')"
   ]
  },
  {
   "cell_type": "code",
   "execution_count": 9,
   "metadata": {},
   "outputs": [],
   "source": [
    "import pandas as pd\n",
    "import numpy as np\n",
    "import os, sys\n",
    "import datetime\n",
    "%matplotlib inline\n",
    "import matplotlib.pyplot as plt\n",
    "# import plotly.plotly as py\n",
    "import plotly.graph_objs as go\n",
    "import zipfile\n",
    "import urllib.request\n",
    "from PIL import Image\n",
    "def str_to_date(d):\n",
    "    try:\n",
    "        dt = datetime.datetime.strptime(str(d),'%Y-%m-%d')\n",
    "    except:\n",
    "        return None\n",
    "    return dt\n",
    "\n",
    "# Make important folders\n",
    "TEMP_FOLDER = './temp_folder'\n",
    "try:\n",
    "    os.mkdir(TEMP_FOLDER)\n",
    "except:\n",
    "    pass\n",
    "try:\n",
    "    os.mkdir(f'{TEMP_FOLDER}/cot')\n",
    "except:\n",
    "    pass\n",
    "try:\n",
    "    os.mkdir(f'{TEMP_FOLDER}/zip')\n",
    "except:\n",
    "    pass\n"
   ]
  },
  {
   "cell_type": "markdown",
   "metadata": {},
   "source": [
    "___\n",
    "## First, decide if you want to re-create the ETF and COT data, or just retrieve the previously saved data DataFrames."
   ]
  },
  {
   "cell_type": "code",
   "execution_count": 10,
   "metadata": {},
   "outputs": [],
   "source": [
    "CREATE_COT_DATA = True\n",
    "cot_save_path = './cot_history.csv'"
   ]
  },
  {
   "cell_type": "markdown",
   "metadata": {},
   "source": [
    "___\n",
    "## Process CFTC COT Data\n",
    "___"
   ]
  },
  {
   "cell_type": "markdown",
   "metadata": {},
   "source": [
    "### Initial processing\n",
    "1. Download zip files from www.cft.gov/files;\n",
    "2. Unip the files using the zipfile package;\n",
    "3. Read each csv (usually named Annual.TXT), and merge them into the df_cot DataFrame.\n"
   ]
  },
  {
   "cell_type": "code",
   "execution_count": 11,
   "metadata": {
    "scrolled": true
   },
   "outputs": [
    {
     "name": "stdout",
     "output_type": "stream",
     "text": [
      "processed cot csv file from https://www.cftc.gov/files/dea/history/deacot2000.zip. Length = 3261\n",
      "processed cot csv file from https://www.cftc.gov/files/dea/history/deacot2001.zip. Length = 2782\n",
      "processed cot csv file from https://www.cftc.gov/files/dea/history/deacot2002.zip. Length = 2854\n",
      "processed cot csv file from https://www.cftc.gov/files/dea/history/deacot2003.zip. Length = 3135\n",
      "processed cot csv file from https://www.cftc.gov/files/dea/history/deacot2004.zip. Length = 3465\n",
      "processed cot csv file from https://www.cftc.gov/files/dea/history/deacot2005.zip. Length = 3909\n",
      "processed cot csv file from https://www.cftc.gov/files/dea/history/deacot2006.zip. Length = 4926\n",
      "processed cot csv file from https://www.cftc.gov/files/dea/history/deacot2007.zip. Length = 4926\n",
      "processed cot csv file from https://www.cftc.gov/files/dea/history/deacot2008.zip. Length = 5631\n",
      "processed cot csv file from https://www.cftc.gov/files/dea/history/deacot2009.zip. Length = 6570\n",
      "processed cot csv file from https://www.cftc.gov/files/dea/history/deacot2010.zip. Length = 7308\n",
      "processed cot csv file from https://www.cftc.gov/files/dea/history/deacot2011.zip. Length = 7365\n",
      "processed cot csv file from https://www.cftc.gov/files/dea/history/deacot2012.zip. Length = 7838\n",
      "processed cot csv file from https://www.cftc.gov/files/dea/history/deacot2013.zip. Length = 10159\n",
      "processed cot csv file from https://www.cftc.gov/files/dea/history/deacot2014.zip. Length = 12131\n",
      "processed cot csv file from https://www.cftc.gov/files/dea/history/deacot2015.zip. Length = 11610\n",
      "processed cot csv file from https://www.cftc.gov/files/dea/history/deacot2016.zip. Length = 12434\n",
      "processed cot csv file from https://www.cftc.gov/files/dea/history/deacot2017.zip. Length = 12314\n",
      "processed cot csv file from https://www.cftc.gov/files/dea/history/deacot2018.zip. Length = 13410\n",
      "processed cot csv file from https://www.cftc.gov/files/dea/history/deacot2019.zip. Length = 12980\n",
      "retrieving cot zip file from https://www.cftc.gov/files/dea/history/deacot2020.zip\n",
      "processed cot csv file from https://www.cftc.gov/files/dea/history/deacot2020.zip. Length = 1785\n"
     ]
    }
   ],
   "source": [
    "if CREATE_COT_DATA:\n",
    "    last_year = datetime.datetime.now().year\n",
    "    year_list = np.linspace(2000,last_year,last_year-2000+1)\n",
    "    zip_download_folder = f'TEMP_FOLDER/zip'\n",
    "    df_cot_temp = None\n",
    "    df_cot = None\n",
    "    for y in year_list:\n",
    "        yint = int(y)\n",
    "        url = f\"https://www.cftc.gov/files/dea/history/deacot{yint}.zip\"\n",
    "        path_to_zip_file = f'{zip_download_folder}/dea_fut_xls_{y}.zip'\n",
    "        if not os.path.isfile(path_to_zip_file) or y >= last_year:\n",
    "            print(f'retrieving cot zip file from {url}')\n",
    "            try:\n",
    "                urllib.request.urlretrieve(url, path_to_zip_file)    \n",
    "            except:\n",
    "                import time\n",
    "                time.sleep(1)\n",
    "                try:\n",
    "                    urllib.request.urlretrieve(url, path_to_zip_file)    \n",
    "                except Exception as e:\n",
    "                    print(f'{url} {e}')\n",
    "                    continue\n",
    "        zip_ref = zipfile.ZipFile(path_to_zip_file, 'r')\n",
    "        zip_ref.extractall(zip_download_folder)\n",
    "        zip_ref.close()\n",
    "        df_cot_temp = pd.read_csv(f'{zip_download_folder}/Annual.TXT')\n",
    "        if df_cot is None:\n",
    "            df_cot = df_cot_temp.copy()\n",
    "        else:\n",
    "            df_cot = df_cot.append(df_cot_temp,ignore_index=True)\n",
    "            df_cot.index = list(range(len(df_cot)))\n",
    "        print(f'processed cot csv file from {url}. Length = {len(df_cot_temp)}')\n",
    "        \n",
    "    df_cot.head()"
   ]
  },
  {
   "cell_type": "markdown",
   "metadata": {},
   "source": [
    "___\n",
    "### Make column names easier to process, make main date field a datetime object, and sort the DataFrame\n",
    "___"
   ]
  },
  {
   "cell_type": "code",
   "execution_count": 12,
   "metadata": {},
   "outputs": [],
   "source": [
    "if CREATE_COT_DATA:\n",
    "    col_rename_dict = {c:c.replace(' ','_').replace('-','_').replace('(','').replace(')','') for c in df_cot.columns.values}\n",
    "    df_cot2 = df_cot.rename(columns=col_rename_dict)\n",
    "    df_cot2.As_of_Date_in_Form_YYYY_MM_DD = df_cot2.As_of_Date_in_Form_YYYY_MM_DD.apply(str_to_date)\n",
    "    df_cot2 = df_cot2.sort_values(['Market_and_Exchange_Names','As_of_Date_in_Form_YYYY_MM_DD'])\n",
    "    df_cot2.columns.values\n",
    "    df_cot2.to_csv(cot_save_path,index=False)"
   ]
  },
  {
   "cell_type": "markdown",
   "metadata": {},
   "source": [
    "___\n",
    "### Show important columns for a specific  commodity\n",
    "___"
   ]
  },
  {
   "cell_type": "code",
   "execution_count": 13,
   "metadata": {},
   "outputs": [
    {
     "data": {
      "text/plain": [
       "150793"
      ]
     },
     "execution_count": 13,
     "metadata": {},
     "output_type": "execute_result"
    }
   ],
   "source": [
    "len(df_cot2)"
   ]
  },
  {
   "cell_type": "code",
   "execution_count": 14,
   "metadata": {},
   "outputs": [],
   "source": [
    "df_cot2 = pd.read_csv(cot_save_path)\n",
    "df_cot2.As_of_Date_in_Form_YYYY_MM_DD = df_cot2.As_of_Date_in_Form_YYYY_MM_DD.apply(str_to_date)\n",
    "commod = 'CRUDE OIL, LIGHT SWEET - NEW YORK MERCANTILE EXCHANGE'\n",
    "# commod = 'GOLD'\n",
    "cot_beg_date = datetime.datetime.now() - datetime.timedelta(2000)\n",
    "df_commod = df_cot2[df_cot2.Market_and_Exchange_Names.str.contains(commod)][df_cot2.As_of_Date_in_Form_YYYY_MM_DD>=cot_beg_date]\n",
    "basic_cols = ['Market_and_Exchange_Names','As_of_Date_in_Form_YYYY_MM_DD','Open_Interest_All']\n",
    "long_cols = ['Market_and_Exchange_Names','As_of_Date_in_Form_YYYY_MM_DD',\n",
    "            'Noncommercial_Positions_Long_All','Commercial_Positions_Long_All',\n",
    "            'Nonreportable_Positions_Long_All','Traders_Commercial_Long_All',\n",
    "             'Traders_Noncommercial_Long_All','Traders_Total_Reportable_Long_All']\n",
    "short_cols = ['Market_and_Exchange_Names','As_of_Date_in_Form_YYYY_MM_DD',\n",
    "            'Noncommercial_Positions_Short_All','Commercial_Positions_Short_All',\n",
    "            'Nonreportable_Positions_Short_All','Total_Reportable_Positions_Short_All',\n",
    "            'Traders_Commercial_Short_All','Traders_Noncommercial_Short_All',\n",
    "            'Traders_Total_Reportable_Short_All']\n",
    "df_commod_basic = df_commod[basic_cols]\n",
    "df_commod_long = df_commod[long_cols]\n",
    "df_commod_short = df_commod[short_cols]\n"
   ]
  },
  {
   "cell_type": "markdown",
   "metadata": {},
   "source": [
    "### Show basic open interest info"
   ]
  },
  {
   "cell_type": "code",
   "execution_count": 15,
   "metadata": {},
   "outputs": [
    {
     "data": {
      "text/html": [
       "<div>\n",
       "<style scoped>\n",
       "    .dataframe tbody tr th:only-of-type {\n",
       "        vertical-align: middle;\n",
       "    }\n",
       "\n",
       "    .dataframe tbody tr th {\n",
       "        vertical-align: top;\n",
       "    }\n",
       "\n",
       "    .dataframe thead th {\n",
       "        text-align: right;\n",
       "    }\n",
       "</style>\n",
       "<table border=\"1\" class=\"dataframe\">\n",
       "  <thead>\n",
       "    <tr style=\"text-align: right;\">\n",
       "      <th></th>\n",
       "      <th>Market_and_Exchange_Names</th>\n",
       "      <th>As_of_Date_in_Form_YYYY_MM_DD</th>\n",
       "      <th>Open_Interest_All</th>\n",
       "    </tr>\n",
       "  </thead>\n",
       "  <tbody>\n",
       "    <tr>\n",
       "      <th>28835</th>\n",
       "      <td>CRUDE OIL, LIGHT SWEET - NEW YORK MERCANTILE E...</td>\n",
       "      <td>2020-02-18</td>\n",
       "      <td>2138168</td>\n",
       "    </tr>\n",
       "    <tr>\n",
       "      <th>28834</th>\n",
       "      <td>CRUDE OIL, LIGHT SWEET - NEW YORK MERCANTILE E...</td>\n",
       "      <td>2020-02-11</td>\n",
       "      <td>2213522</td>\n",
       "    </tr>\n",
       "    <tr>\n",
       "      <th>28833</th>\n",
       "      <td>CRUDE OIL, LIGHT SWEET - NEW YORK MERCANTILE E...</td>\n",
       "      <td>2020-02-04</td>\n",
       "      <td>2271741</td>\n",
       "    </tr>\n",
       "    <tr>\n",
       "      <th>28832</th>\n",
       "      <td>CRUDE OIL, LIGHT SWEET - NEW YORK MERCANTILE E...</td>\n",
       "      <td>2020-01-28</td>\n",
       "      <td>2172019</td>\n",
       "    </tr>\n",
       "    <tr>\n",
       "      <th>28831</th>\n",
       "      <td>CRUDE OIL, LIGHT SWEET - NEW YORK MERCANTILE E...</td>\n",
       "      <td>2020-01-21</td>\n",
       "      <td>2146832</td>\n",
       "    </tr>\n",
       "  </tbody>\n",
       "</table>\n",
       "</div>"
      ],
      "text/plain": [
       "                               Market_and_Exchange_Names  \\\n",
       "28835  CRUDE OIL, LIGHT SWEET - NEW YORK MERCANTILE E...   \n",
       "28834  CRUDE OIL, LIGHT SWEET - NEW YORK MERCANTILE E...   \n",
       "28833  CRUDE OIL, LIGHT SWEET - NEW YORK MERCANTILE E...   \n",
       "28832  CRUDE OIL, LIGHT SWEET - NEW YORK MERCANTILE E...   \n",
       "28831  CRUDE OIL, LIGHT SWEET - NEW YORK MERCANTILE E...   \n",
       "\n",
       "      As_of_Date_in_Form_YYYY_MM_DD  Open_Interest_All  \n",
       "28835                    2020-02-18            2138168  \n",
       "28834                    2020-02-11            2213522  \n",
       "28833                    2020-02-04            2271741  \n",
       "28832                    2020-01-28            2172019  \n",
       "28831                    2020-01-21            2146832  "
      ]
     },
     "execution_count": 15,
     "metadata": {},
     "output_type": "execute_result"
    }
   ],
   "source": [
    "df_commod_basic.sort_values('As_of_Date_in_Form_YYYY_MM_DD',ascending=False).head()"
   ]
  },
  {
   "cell_type": "markdown",
   "metadata": {},
   "source": [
    "### Show important \"long\" position info"
   ]
  },
  {
   "cell_type": "code",
   "execution_count": 16,
   "metadata": {
    "scrolled": true
   },
   "outputs": [
    {
     "data": {
      "text/html": [
       "<div>\n",
       "<style scoped>\n",
       "    .dataframe tbody tr th:only-of-type {\n",
       "        vertical-align: middle;\n",
       "    }\n",
       "\n",
       "    .dataframe tbody tr th {\n",
       "        vertical-align: top;\n",
       "    }\n",
       "\n",
       "    .dataframe thead th {\n",
       "        text-align: right;\n",
       "    }\n",
       "</style>\n",
       "<table border=\"1\" class=\"dataframe\">\n",
       "  <thead>\n",
       "    <tr style=\"text-align: right;\">\n",
       "      <th></th>\n",
       "      <th>Market_and_Exchange_Names</th>\n",
       "      <th>As_of_Date_in_Form_YYYY_MM_DD</th>\n",
       "      <th>Noncommercial_Positions_Long_All</th>\n",
       "      <th>Commercial_Positions_Long_All</th>\n",
       "      <th>Nonreportable_Positions_Long_All</th>\n",
       "      <th>Traders_Commercial_Long_All</th>\n",
       "      <th>Traders_Noncommercial_Long_All</th>\n",
       "      <th>Traders_Total_Reportable_Long_All</th>\n",
       "    </tr>\n",
       "  </thead>\n",
       "  <tbody>\n",
       "    <tr>\n",
       "      <th>28835</th>\n",
       "      <td>CRUDE OIL, LIGHT SWEET - NEW YORK MERCANTILE E...</td>\n",
       "      <td>2020-02-18</td>\n",
       "      <td>571252</td>\n",
       "      <td>735730</td>\n",
       "      <td>86482</td>\n",
       "      <td>97</td>\n",
       "      <td>118</td>\n",
       "      <td>304</td>\n",
       "    </tr>\n",
       "    <tr>\n",
       "      <th>28834</th>\n",
       "      <td>CRUDE OIL, LIGHT SWEET - NEW YORK MERCANTILE E...</td>\n",
       "      <td>2020-02-11</td>\n",
       "      <td>577155</td>\n",
       "      <td>777032</td>\n",
       "      <td>92760</td>\n",
       "      <td>105</td>\n",
       "      <td>119</td>\n",
       "      <td>319</td>\n",
       "    </tr>\n",
       "    <tr>\n",
       "      <th>28833</th>\n",
       "      <td>CRUDE OIL, LIGHT SWEET - NEW YORK MERCANTILE E...</td>\n",
       "      <td>2020-02-04</td>\n",
       "      <td>576917</td>\n",
       "      <td>784991</td>\n",
       "      <td>91996</td>\n",
       "      <td>100</td>\n",
       "      <td>130</td>\n",
       "      <td>322</td>\n",
       "    </tr>\n",
       "    <tr>\n",
       "      <th>28832</th>\n",
       "      <td>CRUDE OIL, LIGHT SWEET - NEW YORK MERCANTILE E...</td>\n",
       "      <td>2020-01-28</td>\n",
       "      <td>588255</td>\n",
       "      <td>677261</td>\n",
       "      <td>85920</td>\n",
       "      <td>95</td>\n",
       "      <td>133</td>\n",
       "      <td>305</td>\n",
       "    </tr>\n",
       "    <tr>\n",
       "      <th>28831</th>\n",
       "      <td>CRUDE OIL, LIGHT SWEET - NEW YORK MERCANTILE E...</td>\n",
       "      <td>2020-01-21</td>\n",
       "      <td>599228</td>\n",
       "      <td>659991</td>\n",
       "      <td>82344</td>\n",
       "      <td>99</td>\n",
       "      <td>135</td>\n",
       "      <td>306</td>\n",
       "    </tr>\n",
       "  </tbody>\n",
       "</table>\n",
       "</div>"
      ],
      "text/plain": [
       "                               Market_and_Exchange_Names  \\\n",
       "28835  CRUDE OIL, LIGHT SWEET - NEW YORK MERCANTILE E...   \n",
       "28834  CRUDE OIL, LIGHT SWEET - NEW YORK MERCANTILE E...   \n",
       "28833  CRUDE OIL, LIGHT SWEET - NEW YORK MERCANTILE E...   \n",
       "28832  CRUDE OIL, LIGHT SWEET - NEW YORK MERCANTILE E...   \n",
       "28831  CRUDE OIL, LIGHT SWEET - NEW YORK MERCANTILE E...   \n",
       "\n",
       "      As_of_Date_in_Form_YYYY_MM_DD  Noncommercial_Positions_Long_All  \\\n",
       "28835                    2020-02-18                            571252   \n",
       "28834                    2020-02-11                            577155   \n",
       "28833                    2020-02-04                            576917   \n",
       "28832                    2020-01-28                            588255   \n",
       "28831                    2020-01-21                            599228   \n",
       "\n",
       "       Commercial_Positions_Long_All  Nonreportable_Positions_Long_All  \\\n",
       "28835                         735730                             86482   \n",
       "28834                         777032                             92760   \n",
       "28833                         784991                             91996   \n",
       "28832                         677261                             85920   \n",
       "28831                         659991                             82344   \n",
       "\n",
       "       Traders_Commercial_Long_All  Traders_Noncommercial_Long_All  \\\n",
       "28835                           97                             118   \n",
       "28834                          105                             119   \n",
       "28833                          100                             130   \n",
       "28832                           95                             133   \n",
       "28831                           99                             135   \n",
       "\n",
       "       Traders_Total_Reportable_Long_All  \n",
       "28835                                304  \n",
       "28834                                319  \n",
       "28833                                322  \n",
       "28832                                305  \n",
       "28831                                306  "
      ]
     },
     "execution_count": 16,
     "metadata": {},
     "output_type": "execute_result"
    }
   ],
   "source": [
    "df_commod_long.sort_values('As_of_Date_in_Form_YYYY_MM_DD',ascending=False).head()"
   ]
  },
  {
   "cell_type": "markdown",
   "metadata": {},
   "source": [
    "### Show important \"short\" position info"
   ]
  },
  {
   "cell_type": "code",
   "execution_count": 17,
   "metadata": {},
   "outputs": [
    {
     "data": {
      "text/html": [
       "<div>\n",
       "<style scoped>\n",
       "    .dataframe tbody tr th:only-of-type {\n",
       "        vertical-align: middle;\n",
       "    }\n",
       "\n",
       "    .dataframe tbody tr th {\n",
       "        vertical-align: top;\n",
       "    }\n",
       "\n",
       "    .dataframe thead th {\n",
       "        text-align: right;\n",
       "    }\n",
       "</style>\n",
       "<table border=\"1\" class=\"dataframe\">\n",
       "  <thead>\n",
       "    <tr style=\"text-align: right;\">\n",
       "      <th></th>\n",
       "      <th>Market_and_Exchange_Names</th>\n",
       "      <th>As_of_Date_in_Form_YYYY_MM_DD</th>\n",
       "      <th>Noncommercial_Positions_Short_All</th>\n",
       "      <th>Commercial_Positions_Short_All</th>\n",
       "      <th>Nonreportable_Positions_Short_All</th>\n",
       "      <th>Total_Reportable_Positions_Short_All</th>\n",
       "      <th>Traders_Commercial_Short_All</th>\n",
       "      <th>Traders_Noncommercial_Short_All</th>\n",
       "      <th>Traders_Total_Reportable_Short_All</th>\n",
       "    </tr>\n",
       "  </thead>\n",
       "  <tbody>\n",
       "    <tr>\n",
       "      <th>28835</th>\n",
       "      <td>CRUDE OIL, LIGHT SWEET - NEW YORK MERCANTILE E...</td>\n",
       "      <td>2020-02-18</td>\n",
       "      <td>159488</td>\n",
       "      <td>1155940</td>\n",
       "      <td>78036</td>\n",
       "      <td>2060132</td>\n",
       "      <td>106</td>\n",
       "      <td>104</td>\n",
       "      <td>298</td>\n",
       "    </tr>\n",
       "    <tr>\n",
       "      <th>28834</th>\n",
       "      <td>CRUDE OIL, LIGHT SWEET - NEW YORK MERCANTILE E...</td>\n",
       "      <td>2020-02-11</td>\n",
       "      <td>180386</td>\n",
       "      <td>1189639</td>\n",
       "      <td>76922</td>\n",
       "      <td>2136600</td>\n",
       "      <td>107</td>\n",
       "      <td>117</td>\n",
       "      <td>310</td>\n",
       "    </tr>\n",
       "    <tr>\n",
       "      <th>28833</th>\n",
       "      <td>CRUDE OIL, LIGHT SWEET - NEW YORK MERCANTILE E...</td>\n",
       "      <td>2020-02-04</td>\n",
       "      <td>179543</td>\n",
       "      <td>1210117</td>\n",
       "      <td>64244</td>\n",
       "      <td>2207497</td>\n",
       "      <td>102</td>\n",
       "      <td>114</td>\n",
       "      <td>309</td>\n",
       "    </tr>\n",
       "    <tr>\n",
       "      <th>28832</th>\n",
       "      <td>CRUDE OIL, LIGHT SWEET - NEW YORK MERCANTILE E...</td>\n",
       "      <td>2020-01-28</td>\n",
       "      <td>126493</td>\n",
       "      <td>1163396</td>\n",
       "      <td>61547</td>\n",
       "      <td>2110472</td>\n",
       "      <td>102</td>\n",
       "      <td>95</td>\n",
       "      <td>298</td>\n",
       "    </tr>\n",
       "    <tr>\n",
       "      <th>28831</th>\n",
       "      <td>CRUDE OIL, LIGHT SWEET - NEW YORK MERCANTILE E...</td>\n",
       "      <td>2020-01-21</td>\n",
       "      <td>78660</td>\n",
       "      <td>1209467</td>\n",
       "      <td>53436</td>\n",
       "      <td>2093396</td>\n",
       "      <td>105</td>\n",
       "      <td>78</td>\n",
       "      <td>294</td>\n",
       "    </tr>\n",
       "  </tbody>\n",
       "</table>\n",
       "</div>"
      ],
      "text/plain": [
       "                               Market_and_Exchange_Names  \\\n",
       "28835  CRUDE OIL, LIGHT SWEET - NEW YORK MERCANTILE E...   \n",
       "28834  CRUDE OIL, LIGHT SWEET - NEW YORK MERCANTILE E...   \n",
       "28833  CRUDE OIL, LIGHT SWEET - NEW YORK MERCANTILE E...   \n",
       "28832  CRUDE OIL, LIGHT SWEET - NEW YORK MERCANTILE E...   \n",
       "28831  CRUDE OIL, LIGHT SWEET - NEW YORK MERCANTILE E...   \n",
       "\n",
       "      As_of_Date_in_Form_YYYY_MM_DD  Noncommercial_Positions_Short_All  \\\n",
       "28835                    2020-02-18                             159488   \n",
       "28834                    2020-02-11                             180386   \n",
       "28833                    2020-02-04                             179543   \n",
       "28832                    2020-01-28                             126493   \n",
       "28831                    2020-01-21                              78660   \n",
       "\n",
       "       Commercial_Positions_Short_All  Nonreportable_Positions_Short_All  \\\n",
       "28835                         1155940                              78036   \n",
       "28834                         1189639                              76922   \n",
       "28833                         1210117                              64244   \n",
       "28832                         1163396                              61547   \n",
       "28831                         1209467                              53436   \n",
       "\n",
       "       Total_Reportable_Positions_Short_All  Traders_Commercial_Short_All  \\\n",
       "28835                               2060132                           106   \n",
       "28834                               2136600                           107   \n",
       "28833                               2207497                           102   \n",
       "28832                               2110472                           102   \n",
       "28831                               2093396                           105   \n",
       "\n",
       "       Traders_Noncommercial_Short_All  Traders_Total_Reportable_Short_All  \n",
       "28835                              104                                 298  \n",
       "28834                              117                                 310  \n",
       "28833                              114                                 309  \n",
       "28832                               95                                 298  \n",
       "28831                               78                                 294  "
      ]
     },
     "execution_count": 17,
     "metadata": {},
     "output_type": "execute_result"
    }
   ],
   "source": [
    "df_commod_short.sort_values('As_of_Date_in_Form_YYYY_MM_DD',ascending=False).head()"
   ]
  },
  {
   "cell_type": "markdown",
   "metadata": {},
   "source": [
    "### Show important \"net\" position info"
   ]
  },
  {
   "cell_type": "code",
   "execution_count": 18,
   "metadata": {
    "scrolled": true
   },
   "outputs": [
    {
     "data": {
      "text/html": [
       "<div>\n",
       "<style scoped>\n",
       "    .dataframe tbody tr th:only-of-type {\n",
       "        vertical-align: middle;\n",
       "    }\n",
       "\n",
       "    .dataframe tbody tr th {\n",
       "        vertical-align: top;\n",
       "    }\n",
       "\n",
       "    .dataframe thead th {\n",
       "        text-align: right;\n",
       "    }\n",
       "</style>\n",
       "<table border=\"1\" class=\"dataframe\">\n",
       "  <thead>\n",
       "    <tr style=\"text-align: right;\">\n",
       "      <th></th>\n",
       "      <th>Market_and_Exchange_Names</th>\n",
       "      <th>As_of_Date_in_Form_YYYY_MM_DD</th>\n",
       "      <th>Noncommercial_Positions_Net_All</th>\n",
       "      <th>Commercial_Positions_Net_All</th>\n",
       "      <th>Nonreportable_Positions_Net_All</th>\n",
       "      <th>Traders_Commercial_Net_All</th>\n",
       "      <th>Traders_Noncommercial_Net_All</th>\n",
       "    </tr>\n",
       "  </thead>\n",
       "  <tbody>\n",
       "    <tr>\n",
       "      <th>265</th>\n",
       "      <td>CRUDE OIL, LIGHT SWEET - NEW YORK MERCANTILE E...</td>\n",
       "      <td>2020-02-18</td>\n",
       "      <td>411764.0</td>\n",
       "      <td>-420210.0</td>\n",
       "      <td>8446.0</td>\n",
       "      <td>-9.0</td>\n",
       "      <td>14.0</td>\n",
       "    </tr>\n",
       "    <tr>\n",
       "      <th>264</th>\n",
       "      <td>CRUDE OIL, LIGHT SWEET - NEW YORK MERCANTILE E...</td>\n",
       "      <td>2020-02-11</td>\n",
       "      <td>396769.0</td>\n",
       "      <td>-412607.0</td>\n",
       "      <td>15838.0</td>\n",
       "      <td>-2.0</td>\n",
       "      <td>2.0</td>\n",
       "    </tr>\n",
       "    <tr>\n",
       "      <th>263</th>\n",
       "      <td>CRUDE OIL, LIGHT SWEET - NEW YORK MERCANTILE E...</td>\n",
       "      <td>2020-02-04</td>\n",
       "      <td>397374.0</td>\n",
       "      <td>-425126.0</td>\n",
       "      <td>27752.0</td>\n",
       "      <td>-2.0</td>\n",
       "      <td>16.0</td>\n",
       "    </tr>\n",
       "    <tr>\n",
       "      <th>262</th>\n",
       "      <td>CRUDE OIL, LIGHT SWEET - NEW YORK MERCANTILE E...</td>\n",
       "      <td>2020-01-28</td>\n",
       "      <td>461762.0</td>\n",
       "      <td>-486135.0</td>\n",
       "      <td>24373.0</td>\n",
       "      <td>-7.0</td>\n",
       "      <td>38.0</td>\n",
       "    </tr>\n",
       "    <tr>\n",
       "      <th>261</th>\n",
       "      <td>CRUDE OIL, LIGHT SWEET - NEW YORK MERCANTILE E...</td>\n",
       "      <td>2020-01-21</td>\n",
       "      <td>520568.0</td>\n",
       "      <td>-549476.0</td>\n",
       "      <td>28908.0</td>\n",
       "      <td>-6.0</td>\n",
       "      <td>57.0</td>\n",
       "    </tr>\n",
       "  </tbody>\n",
       "</table>\n",
       "</div>"
      ],
      "text/plain": [
       "                             Market_and_Exchange_Names  \\\n",
       "265  CRUDE OIL, LIGHT SWEET - NEW YORK MERCANTILE E...   \n",
       "264  CRUDE OIL, LIGHT SWEET - NEW YORK MERCANTILE E...   \n",
       "263  CRUDE OIL, LIGHT SWEET - NEW YORK MERCANTILE E...   \n",
       "262  CRUDE OIL, LIGHT SWEET - NEW YORK MERCANTILE E...   \n",
       "261  CRUDE OIL, LIGHT SWEET - NEW YORK MERCANTILE E...   \n",
       "\n",
       "    As_of_Date_in_Form_YYYY_MM_DD  Noncommercial_Positions_Net_All  \\\n",
       "265                    2020-02-18                         411764.0   \n",
       "264                    2020-02-11                         396769.0   \n",
       "263                    2020-02-04                         397374.0   \n",
       "262                    2020-01-28                         461762.0   \n",
       "261                    2020-01-21                         520568.0   \n",
       "\n",
       "     Commercial_Positions_Net_All  Nonreportable_Positions_Net_All  \\\n",
       "265                     -420210.0                           8446.0   \n",
       "264                     -412607.0                          15838.0   \n",
       "263                     -425126.0                          27752.0   \n",
       "262                     -486135.0                          24373.0   \n",
       "261                     -549476.0                          28908.0   \n",
       "\n",
       "     Traders_Commercial_Net_All  Traders_Noncommercial_Net_All  \n",
       "265                        -9.0                           14.0  \n",
       "264                        -2.0                            2.0  \n",
       "263                        -2.0                           16.0  \n",
       "262                        -7.0                           38.0  \n",
       "261                        -6.0                           57.0  "
      ]
     },
     "execution_count": 18,
     "metadata": {},
     "output_type": "execute_result"
    }
   ],
   "source": [
    "def non_comm_net(r):\n",
    "    return float(r.Noncommercial_Positions_Long_All) - float(r.Noncommercial_Positions_Short_All)\n",
    "def comm_net(r):\n",
    "    return float(r.Commercial_Positions_Long_All) - float(r.Commercial_Positions_Short_All)\n",
    "def non_report_net(r):\n",
    "    return float(r.Nonreportable_Positions_Long_All) - float(r.Nonreportable_Positions_Short_All)\n",
    "def traders_comm_net(r):\n",
    "    return float(r.Traders_Commercial_Long_All) - float(r.Traders_Commercial_Short_All)\n",
    "def traders_noncomm_net(r):\n",
    "    return float(r.Traders_Noncommercial_Long_All) - float(r.Traders_Noncommercial_Short_All)\n",
    "\n",
    "df_commod_net = df_commod_long.merge(df_commod_short,how='inner',on=['Market_and_Exchange_Names','As_of_Date_in_Form_YYYY_MM_DD'])\n",
    "df_commod_net['Noncommercial_Positions_Net_All'] = df_commod_net.apply(non_comm_net,axis=1)\n",
    "df_commod_net['Commercial_Positions_Net_All'] = df_commod_net.apply(comm_net,axis=1)\n",
    "df_commod_net['Nonreportable_Positions_Net_All'] = df_commod_net.apply(non_report_net,axis=1)\n",
    "df_commod_net['Traders_Commercial_Net_All'] = df_commod_net.apply(traders_comm_net,axis=1)\n",
    "df_commod_net['Traders_Noncommercial_Net_All'] = df_commod_net.apply(traders_noncomm_net,axis=1)\n",
    "net_cols = ['Market_and_Exchange_Names','As_of_Date_in_Form_YYYY_MM_DD','Noncommercial_Positions_Net_All','Commercial_Positions_Net_All','Nonreportable_Positions_Net_All','Traders_Commercial_Net_All','Traders_Noncommercial_Net_All']\n",
    "df_commod_net = df_commod_net[net_cols]\n",
    "df_commod_net.sort_values('As_of_Date_in_Form_YYYY_MM_DD',ascending=False).head()\n"
   ]
  },
  {
   "cell_type": "markdown",
   "metadata": {},
   "source": [
    "## END"
   ]
  },
  {
   "cell_type": "code",
   "execution_count": 19,
   "metadata": {},
   "outputs": [
    {
     "data": {
      "text/plain": [
       "array(['LONG-TERM U.S. TREASURY BONDS - CHICAGO BOARD OF TRADE',\n",
       "       'LONG-TERM U.S. TREASURY BONDS - CHICAGO BOARD OF TRADE ',\n",
       "       'MUNICIPAL BOND INDEX - CHICAGO BOARD OF TRADE ',\n",
       "       'U.S. TREASURY BONDS - CHICAGO BOARD OF TRADE',\n",
       "       'U.S. TREASURY BONDS - CHICAGO BOARD OF TRADE ',\n",
       "       'U.S. TREASURY BONDS - MIDAMERICA COMMODITY EXCHANGE ',\n",
       "       'ULTRA U.S. TREASURY BONDS - CHICAGO BOARD OF TRADE'], dtype=object)"
      ]
     },
     "execution_count": 19,
     "metadata": {},
     "output_type": "execute_result"
    }
   ],
   "source": [
    "df_cot2[df_cot2.Market_and_Exchange_Names.str.lower().str.contains('bond')].Market_and_Exchange_Names.unique()\n"
   ]
  },
  {
   "cell_type": "code",
   "execution_count": 20,
   "metadata": {},
   "outputs": [
    {
     "data": {
      "text/plain": [
       "['As_of_Date_in_Form_YYYY_MM_DD']"
      ]
     },
     "execution_count": 20,
     "metadata": {},
     "output_type": "execute_result"
    }
   ],
   "source": [
    "list(filter(lambda s:'As_of_Date_in_Form_YYYY_MM_DD' in s,df_cot2.columns.values))"
   ]
  },
  {
   "cell_type": "code",
   "execution_count": 21,
   "metadata": {},
   "outputs": [
    {
     "data": {
      "text/plain": [
       "321"
      ]
     },
     "execution_count": 21,
     "metadata": {},
     "output_type": "execute_result"
    }
   ],
   "source": [
    "df_wheat = df_cot2[df_cot2.Market_and_Exchange_Names.str.contains('WHEAT-SRW - CHICAGO BOARD OF TRADE')]\n",
    "len(df_wheat)\n",
    "# np.sort(df_wheat.As_of_Date_in_Form_YYYY_MM_DD.unique())"
   ]
  },
  {
   "cell_type": "code",
   "execution_count": 22,
   "metadata": {},
   "outputs": [
    {
     "data": {
      "text/plain": [
       "Timestamp('2020-02-18 00:00:00')"
      ]
     },
     "execution_count": 22,
     "metadata": {},
     "output_type": "execute_result"
    }
   ],
   "source": [
    "df_cot2[df_cot2.Market_and_Exchange_Names.str.contains('WHEAT-HRW - CHICAGO BOARD OF TRADE')].As_of_Date_in_Form_YYYY_MM_DD.max()"
   ]
  },
  {
   "cell_type": "code",
   "execution_count": null,
   "metadata": {},
   "outputs": [],
   "source": []
  },
  {
   "cell_type": "code",
   "execution_count": null,
   "metadata": {},
   "outputs": [],
   "source": []
  }
 ],
 "metadata": {
  "kernelspec": {
   "display_name": "Python 3",
   "language": "python",
   "name": "python3"
  },
  "language_info": {
   "codemirror_mode": {
    "name": "ipython",
    "version": 3
   },
   "file_extension": ".py",
   "mimetype": "text/x-python",
   "name": "python",
   "nbconvert_exporter": "python",
   "pygments_lexer": "ipython3",
   "version": "3.6.5"
  }
 },
 "nbformat": 4,
 "nbformat_minor": 2
}
