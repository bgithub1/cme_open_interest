{
 "cells": [
  {
   "cell_type": "markdown",
   "metadata": {},
   "source": [
    "## Futures Roll"
   ]
  },
  {
   "cell_type": "code",
   "execution_count": null,
   "metadata": {},
   "outputs": [],
   "source": [
    "import pandas as pd\n",
    "from pandas_datareader import data as pdr\n",
    "import numpy as np\n",
    "from scipy.stats import norm\n",
    "import os, sys\n",
    "import datetime\n",
    "%matplotlib inline\n",
    "import matplotlib.pyplot as plt\n",
    "import plotly.plotly as py\n",
    "import plotly.graph_objs as go\n",
    "import zipfile\n",
    "import urllib.request\n",
    "from PIL import Image\n",
    "import importlib\n",
    "from threading import Thread\n",
    "import time\n",
    "import re\n",
    "import importlib.util\n",
    "spec = importlib.util.spec_from_file_location(\"jupyter_utilities\", \"../../jupyter_notebooks/cme_open_interest/jupyter_utilities.py\")\n",
    "ju = importlib.util.module_from_spec(spec)\n",
    "spec.loader.exec_module(ju)\n",
    "\n",
    "# Make important folders\n",
    "TEMP_FOLDER = './temp_folder'\n",
    "try:\n",
    "    os.mkdir(TEMP_FOLDER)\n",
    "except:\n",
    "    pass\n",
    "SAVE_CSV_FOLDER = f'{TEMP_FOLDER}/ib'\n",
    "try:\n",
    "    os.mkdir(SAVE_CSV_FOLDER)\n",
    "except:\n",
    "    pass\n",
    "\n",
    "def to_int(s):\n",
    "    try:\n",
    "        return int(float(str(s)))\n",
    "    except:\n",
    "        print(f'to_int exception on value:{s}')\n",
    "        return None\n",
    "\n",
    "pd.set_option('display.max_colwidth',1000)\n",
    " "
   ]
  },
  {
   "cell_type": "markdown",
   "metadata": {},
   "source": [
    "## Example of fetch_ib_history"
   ]
  },
  {
   "cell_type": "code",
   "execution_count": null,
   "metadata": {},
   "outputs": [],
   "source": [
    "df_hist = ju.fetch_ib_history('GBPH19',return_raw=True)\n",
    "df_hist.tail()"
   ]
  },
  {
   "cell_type": "markdown",
   "metadata": {},
   "source": [
    "## get all series"
   ]
  },
  {
   "cell_type": "code",
   "execution_count": null,
   "metadata": {},
   "outputs": [],
   "source": [
    "contract_dict = {}\n",
    "for commod in ju.secdef_dict.keys():\n",
    "    if commod not in contract_dict.keys():\n",
    "        print(commod)\n",
    "        try:\n",
    "            ju.get_series(commod,SAVE_CSV_FOLDER)\n",
    "        except Exception as e:\n",
    "            print(str(e))"
   ]
  },
  {
   "cell_type": "code",
   "execution_count": null,
   "metadata": {},
   "outputs": [],
   "source": [
    "d = ju.symbol_merge(['FEX','CLJ19','GLD.STK.ARCA','EURH19','GBPH19','SPY','XLE','XLU','ZWK19'])"
   ]
  },
  {
   "cell_type": "code",
   "execution_count": null,
   "metadata": {},
   "outputs": [],
   "source": [
    "d['merged'].tail()"
   ]
  },
  {
   "cell_type": "code",
   "execution_count": null,
   "metadata": {},
   "outputs": [],
   "source": [
    "d['corr']"
   ]
  }
 ],
 "metadata": {
  "kernelspec": {
   "display_name": "Python 3",
   "language": "python",
   "name": "python3"
  },
  "language_info": {
   "codemirror_mode": {
    "name": "ipython",
    "version": 3
   },
   "file_extension": ".py",
   "mimetype": "text/x-python",
   "name": "python",
   "nbconvert_exporter": "python",
   "pygments_lexer": "ipython3",
   "version": "3.6.5"
  }
 },
 "nbformat": 4,
 "nbformat_minor": 2
}
